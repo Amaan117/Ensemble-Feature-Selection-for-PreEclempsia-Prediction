{
  "nbformat": 4,
  "nbformat_minor": 0,
  "metadata": {
    "colab": {
      "provenance": []
    },
    "kernelspec": {
      "name": "python3",
      "display_name": "Python 3"
    },
    "language_info": {
      "name": "python"
    }
  },
  "cells": [
    {
      "cell_type": "code",
      "execution_count": null,
      "metadata": {
        "id": "pfZ1Z-WLGnz0"
      },
      "outputs": [],
      "source": [
        "import pandas as pd\n",
        "import numpy as np\n",
        "from sklearn.preprocessing import MinMaxScaler\n",
        "from sklearn.model_selection import train_test_split\n",
        "from sklearn.preprocessing import LabelEncoder\n",
        "from imblearn.over_sampling import SMOTE\n",
        "import seaborn as sns\n",
        "import matplotlib.pyplot as plt"
      ]
    },
    {
      "cell_type": "code",
      "source": [
        "from google.colab import files\n",
        "uploaded= files.upload()"
      ],
      "metadata": {
        "colab": {
          "base_uri": "https://localhost:8080/",
          "height": 73
        },
        "id": "8loQlmfVGyvO",
        "outputId": "7becf3b5-79d7-4109-f158-40de8002c8fd"
      },
      "execution_count": null,
      "outputs": [
        {
          "output_type": "display_data",
          "data": {
            "text/plain": [
              "<IPython.core.display.HTML object>"
            ],
            "text/html": [
              "\n",
              "     <input type=\"file\" id=\"files-920081a5-719f-4dd2-bc0b-30fe04ac634b\" name=\"files[]\" multiple disabled\n",
              "        style=\"border:none\" />\n",
              "     <output id=\"result-920081a5-719f-4dd2-bc0b-30fe04ac634b\">\n",
              "      Upload widget is only available when the cell has been executed in the\n",
              "      current browser session. Please rerun this cell to enable.\n",
              "      </output>\n",
              "      <script>// Copyright 2017 Google LLC\n",
              "//\n",
              "// Licensed under the Apache License, Version 2.0 (the \"License\");\n",
              "// you may not use this file except in compliance with the License.\n",
              "// You may obtain a copy of the License at\n",
              "//\n",
              "//      http://www.apache.org/licenses/LICENSE-2.0\n",
              "//\n",
              "// Unless required by applicable law or agreed to in writing, software\n",
              "// distributed under the License is distributed on an \"AS IS\" BASIS,\n",
              "// WITHOUT WARRANTIES OR CONDITIONS OF ANY KIND, either express or implied.\n",
              "// See the License for the specific language governing permissions and\n",
              "// limitations under the License.\n",
              "\n",
              "/**\n",
              " * @fileoverview Helpers for google.colab Python module.\n",
              " */\n",
              "(function(scope) {\n",
              "function span(text, styleAttributes = {}) {\n",
              "  const element = document.createElement('span');\n",
              "  element.textContent = text;\n",
              "  for (const key of Object.keys(styleAttributes)) {\n",
              "    element.style[key] = styleAttributes[key];\n",
              "  }\n",
              "  return element;\n",
              "}\n",
              "\n",
              "// Max number of bytes which will be uploaded at a time.\n",
              "const MAX_PAYLOAD_SIZE = 100 * 1024;\n",
              "\n",
              "function _uploadFiles(inputId, outputId) {\n",
              "  const steps = uploadFilesStep(inputId, outputId);\n",
              "  const outputElement = document.getElementById(outputId);\n",
              "  // Cache steps on the outputElement to make it available for the next call\n",
              "  // to uploadFilesContinue from Python.\n",
              "  outputElement.steps = steps;\n",
              "\n",
              "  return _uploadFilesContinue(outputId);\n",
              "}\n",
              "\n",
              "// This is roughly an async generator (not supported in the browser yet),\n",
              "// where there are multiple asynchronous steps and the Python side is going\n",
              "// to poll for completion of each step.\n",
              "// This uses a Promise to block the python side on completion of each step,\n",
              "// then passes the result of the previous step as the input to the next step.\n",
              "function _uploadFilesContinue(outputId) {\n",
              "  const outputElement = document.getElementById(outputId);\n",
              "  const steps = outputElement.steps;\n",
              "\n",
              "  const next = steps.next(outputElement.lastPromiseValue);\n",
              "  return Promise.resolve(next.value.promise).then((value) => {\n",
              "    // Cache the last promise value to make it available to the next\n",
              "    // step of the generator.\n",
              "    outputElement.lastPromiseValue = value;\n",
              "    return next.value.response;\n",
              "  });\n",
              "}\n",
              "\n",
              "/**\n",
              " * Generator function which is called between each async step of the upload\n",
              " * process.\n",
              " * @param {string} inputId Element ID of the input file picker element.\n",
              " * @param {string} outputId Element ID of the output display.\n",
              " * @return {!Iterable<!Object>} Iterable of next steps.\n",
              " */\n",
              "function* uploadFilesStep(inputId, outputId) {\n",
              "  const inputElement = document.getElementById(inputId);\n",
              "  inputElement.disabled = false;\n",
              "\n",
              "  const outputElement = document.getElementById(outputId);\n",
              "  outputElement.innerHTML = '';\n",
              "\n",
              "  const pickedPromise = new Promise((resolve) => {\n",
              "    inputElement.addEventListener('change', (e) => {\n",
              "      resolve(e.target.files);\n",
              "    });\n",
              "  });\n",
              "\n",
              "  const cancel = document.createElement('button');\n",
              "  inputElement.parentElement.appendChild(cancel);\n",
              "  cancel.textContent = 'Cancel upload';\n",
              "  const cancelPromise = new Promise((resolve) => {\n",
              "    cancel.onclick = () => {\n",
              "      resolve(null);\n",
              "    };\n",
              "  });\n",
              "\n",
              "  // Wait for the user to pick the files.\n",
              "  const files = yield {\n",
              "    promise: Promise.race([pickedPromise, cancelPromise]),\n",
              "    response: {\n",
              "      action: 'starting',\n",
              "    }\n",
              "  };\n",
              "\n",
              "  cancel.remove();\n",
              "\n",
              "  // Disable the input element since further picks are not allowed.\n",
              "  inputElement.disabled = true;\n",
              "\n",
              "  if (!files) {\n",
              "    return {\n",
              "      response: {\n",
              "        action: 'complete',\n",
              "      }\n",
              "    };\n",
              "  }\n",
              "\n",
              "  for (const file of files) {\n",
              "    const li = document.createElement('li');\n",
              "    li.append(span(file.name, {fontWeight: 'bold'}));\n",
              "    li.append(span(\n",
              "        `(${file.type || 'n/a'}) - ${file.size} bytes, ` +\n",
              "        `last modified: ${\n",
              "            file.lastModifiedDate ? file.lastModifiedDate.toLocaleDateString() :\n",
              "                                    'n/a'} - `));\n",
              "    const percent = span('0% done');\n",
              "    li.appendChild(percent);\n",
              "\n",
              "    outputElement.appendChild(li);\n",
              "\n",
              "    const fileDataPromise = new Promise((resolve) => {\n",
              "      const reader = new FileReader();\n",
              "      reader.onload = (e) => {\n",
              "        resolve(e.target.result);\n",
              "      };\n",
              "      reader.readAsArrayBuffer(file);\n",
              "    });\n",
              "    // Wait for the data to be ready.\n",
              "    let fileData = yield {\n",
              "      promise: fileDataPromise,\n",
              "      response: {\n",
              "        action: 'continue',\n",
              "      }\n",
              "    };\n",
              "\n",
              "    // Use a chunked sending to avoid message size limits. See b/62115660.\n",
              "    let position = 0;\n",
              "    do {\n",
              "      const length = Math.min(fileData.byteLength - position, MAX_PAYLOAD_SIZE);\n",
              "      const chunk = new Uint8Array(fileData, position, length);\n",
              "      position += length;\n",
              "\n",
              "      const base64 = btoa(String.fromCharCode.apply(null, chunk));\n",
              "      yield {\n",
              "        response: {\n",
              "          action: 'append',\n",
              "          file: file.name,\n",
              "          data: base64,\n",
              "        },\n",
              "      };\n",
              "\n",
              "      let percentDone = fileData.byteLength === 0 ?\n",
              "          100 :\n",
              "          Math.round((position / fileData.byteLength) * 100);\n",
              "      percent.textContent = `${percentDone}% done`;\n",
              "\n",
              "    } while (position < fileData.byteLength);\n",
              "  }\n",
              "\n",
              "  // All done.\n",
              "  yield {\n",
              "    response: {\n",
              "      action: 'complete',\n",
              "    }\n",
              "  };\n",
              "}\n",
              "\n",
              "scope.google = scope.google || {};\n",
              "scope.google.colab = scope.google.colab || {};\n",
              "scope.google.colab._files = {\n",
              "  _uploadFiles,\n",
              "  _uploadFilesContinue,\n",
              "};\n",
              "})(self);\n",
              "</script> "
            ]
          },
          "metadata": {}
        },
        {
          "output_type": "stream",
          "name": "stdout",
          "text": [
            "Saving Enabled_Patients_Data_Updated.csv to Enabled_Patients_Data_Updated (1).csv\n"
          ]
        }
      ]
    },
    {
      "cell_type": "code",
      "source": [
        "df= pd.read_csv(\"Enabled_Patients_Data_Updated.csv\")\n",
        "df.head()"
      ],
      "metadata": {
        "colab": {
          "base_uri": "https://localhost:8080/",
          "height": 287
        },
        "id": "kFfGfni5G5HA",
        "outputId": "bf571df0-72fa-42a1-8ce3-332850c8909f"
      },
      "execution_count": null,
      "outputs": [
        {
          "output_type": "execute_result",
          "data": {
            "text/plain": [
              "   SNo  Preeclampsia(1)/NA(0)  Age Parity  Weight before pregnancy  \\\n",
              "0    1                      0   26     P1                     49.0   \n",
              "1    2                      0   29     P1                     65.0   \n",
              "2    3                      1   23     P1                     84.0   \n",
              "3    4                      0   27     P0                     83.0   \n",
              "4    5                      0   25     P0                     67.0   \n",
              "\n",
              "   Weight in late first trimester  BMI before pregnancy  \\\n",
              "0                            51.1                  23.2   \n",
              "1                            67.8                  25.0   \n",
              "2                            86.6                  33.2   \n",
              "3                            85.0                  33.2   \n",
              "4                            69.5                  26.8   \n",
              "\n",
              "   BMI in late first trimester  DBP in early pregnancy  \\\n",
              "0                         23.7                1.666667   \n",
              "1                         25.6                1.500000   \n",
              "2                         34.8                1.555556   \n",
              "3                         34.4                1.500000   \n",
              "4                         29.3                1.666667   \n",
              "\n",
              "   DBP in the late first trimester  ...  RI-R  RI-L  H-RI  M-RI SD -R SD-L  \\\n",
              "0                         1.571429  ...   NaN   NaN   NaN   NaN   NaN  NaN   \n",
              "1                         1.375000  ...   NaN   NaN   NaN   NaN   NaN  NaN   \n",
              "2                         1.400000  ...   NaN   NaN   NaN   NaN   NaN  NaN   \n",
              "3                         1.625000  ...   NaN   NaN   NaN   NaN   NaN  NaN   \n",
              "4                         1.666667  ...   NaN   NaN   NaN   NaN   NaN  NaN   \n",
              "\n",
              "  N-R N-L PAPP-A(mlU/ml) F B-hCG (ng/ml)  \n",
              "0 NaN NaN           5.53           74.33  \n",
              "1 NaN NaN           2.50            9.69  \n",
              "2 NaN NaN           6.12          149.00  \n",
              "3 NaN NaN           5.53           74.33  \n",
              "4 NaN NaN          15.70           99.69  \n",
              "\n",
              "[5 rows x 39 columns]"
            ],
            "text/html": [
              "\n",
              "  <div id=\"df-4375998f-bca5-4cf0-a7ef-14bcaf3361e9\" class=\"colab-df-container\">\n",
              "    <div>\n",
              "<style scoped>\n",
              "    .dataframe tbody tr th:only-of-type {\n",
              "        vertical-align: middle;\n",
              "    }\n",
              "\n",
              "    .dataframe tbody tr th {\n",
              "        vertical-align: top;\n",
              "    }\n",
              "\n",
              "    .dataframe thead th {\n",
              "        text-align: right;\n",
              "    }\n",
              "</style>\n",
              "<table border=\"1\" class=\"dataframe\">\n",
              "  <thead>\n",
              "    <tr style=\"text-align: right;\">\n",
              "      <th></th>\n",
              "      <th>SNo</th>\n",
              "      <th>Preeclampsia(1)/NA(0)</th>\n",
              "      <th>Age</th>\n",
              "      <th>Parity</th>\n",
              "      <th>Weight before pregnancy</th>\n",
              "      <th>Weight in late first trimester</th>\n",
              "      <th>BMI before pregnancy</th>\n",
              "      <th>BMI in late first trimester</th>\n",
              "      <th>DBP in early pregnancy</th>\n",
              "      <th>DBP in the late first trimester</th>\n",
              "      <th>...</th>\n",
              "      <th>RI-R</th>\n",
              "      <th>RI-L</th>\n",
              "      <th>H-RI</th>\n",
              "      <th>M-RI</th>\n",
              "      <th>SD -R</th>\n",
              "      <th>SD-L</th>\n",
              "      <th>N-R</th>\n",
              "      <th>N-L</th>\n",
              "      <th>PAPP-A(mlU/ml)</th>\n",
              "      <th>F B-hCG (ng/ml)</th>\n",
              "    </tr>\n",
              "  </thead>\n",
              "  <tbody>\n",
              "    <tr>\n",
              "      <th>0</th>\n",
              "      <td>1</td>\n",
              "      <td>0</td>\n",
              "      <td>26</td>\n",
              "      <td>P1</td>\n",
              "      <td>49.0</td>\n",
              "      <td>51.1</td>\n",
              "      <td>23.2</td>\n",
              "      <td>23.7</td>\n",
              "      <td>1.666667</td>\n",
              "      <td>1.571429</td>\n",
              "      <td>...</td>\n",
              "      <td>NaN</td>\n",
              "      <td>NaN</td>\n",
              "      <td>NaN</td>\n",
              "      <td>NaN</td>\n",
              "      <td>NaN</td>\n",
              "      <td>NaN</td>\n",
              "      <td>NaN</td>\n",
              "      <td>NaN</td>\n",
              "      <td>5.53</td>\n",
              "      <td>74.33</td>\n",
              "    </tr>\n",
              "    <tr>\n",
              "      <th>1</th>\n",
              "      <td>2</td>\n",
              "      <td>0</td>\n",
              "      <td>29</td>\n",
              "      <td>P1</td>\n",
              "      <td>65.0</td>\n",
              "      <td>67.8</td>\n",
              "      <td>25.0</td>\n",
              "      <td>25.6</td>\n",
              "      <td>1.500000</td>\n",
              "      <td>1.375000</td>\n",
              "      <td>...</td>\n",
              "      <td>NaN</td>\n",
              "      <td>NaN</td>\n",
              "      <td>NaN</td>\n",
              "      <td>NaN</td>\n",
              "      <td>NaN</td>\n",
              "      <td>NaN</td>\n",
              "      <td>NaN</td>\n",
              "      <td>NaN</td>\n",
              "      <td>2.50</td>\n",
              "      <td>9.69</td>\n",
              "    </tr>\n",
              "    <tr>\n",
              "      <th>2</th>\n",
              "      <td>3</td>\n",
              "      <td>1</td>\n",
              "      <td>23</td>\n",
              "      <td>P1</td>\n",
              "      <td>84.0</td>\n",
              "      <td>86.6</td>\n",
              "      <td>33.2</td>\n",
              "      <td>34.8</td>\n",
              "      <td>1.555556</td>\n",
              "      <td>1.400000</td>\n",
              "      <td>...</td>\n",
              "      <td>NaN</td>\n",
              "      <td>NaN</td>\n",
              "      <td>NaN</td>\n",
              "      <td>NaN</td>\n",
              "      <td>NaN</td>\n",
              "      <td>NaN</td>\n",
              "      <td>NaN</td>\n",
              "      <td>NaN</td>\n",
              "      <td>6.12</td>\n",
              "      <td>149.00</td>\n",
              "    </tr>\n",
              "    <tr>\n",
              "      <th>3</th>\n",
              "      <td>4</td>\n",
              "      <td>0</td>\n",
              "      <td>27</td>\n",
              "      <td>P0</td>\n",
              "      <td>83.0</td>\n",
              "      <td>85.0</td>\n",
              "      <td>33.2</td>\n",
              "      <td>34.4</td>\n",
              "      <td>1.500000</td>\n",
              "      <td>1.625000</td>\n",
              "      <td>...</td>\n",
              "      <td>NaN</td>\n",
              "      <td>NaN</td>\n",
              "      <td>NaN</td>\n",
              "      <td>NaN</td>\n",
              "      <td>NaN</td>\n",
              "      <td>NaN</td>\n",
              "      <td>NaN</td>\n",
              "      <td>NaN</td>\n",
              "      <td>5.53</td>\n",
              "      <td>74.33</td>\n",
              "    </tr>\n",
              "    <tr>\n",
              "      <th>4</th>\n",
              "      <td>5</td>\n",
              "      <td>0</td>\n",
              "      <td>25</td>\n",
              "      <td>P0</td>\n",
              "      <td>67.0</td>\n",
              "      <td>69.5</td>\n",
              "      <td>26.8</td>\n",
              "      <td>29.3</td>\n",
              "      <td>1.666667</td>\n",
              "      <td>1.666667</td>\n",
              "      <td>...</td>\n",
              "      <td>NaN</td>\n",
              "      <td>NaN</td>\n",
              "      <td>NaN</td>\n",
              "      <td>NaN</td>\n",
              "      <td>NaN</td>\n",
              "      <td>NaN</td>\n",
              "      <td>NaN</td>\n",
              "      <td>NaN</td>\n",
              "      <td>15.70</td>\n",
              "      <td>99.69</td>\n",
              "    </tr>\n",
              "  </tbody>\n",
              "</table>\n",
              "<p>5 rows × 39 columns</p>\n",
              "</div>\n",
              "    <div class=\"colab-df-buttons\">\n",
              "\n",
              "  <div class=\"colab-df-container\">\n",
              "    <button class=\"colab-df-convert\" onclick=\"convertToInteractive('df-4375998f-bca5-4cf0-a7ef-14bcaf3361e9')\"\n",
              "            title=\"Convert this dataframe to an interactive table.\"\n",
              "            style=\"display:none;\">\n",
              "\n",
              "  <svg xmlns=\"http://www.w3.org/2000/svg\" height=\"24px\" viewBox=\"0 -960 960 960\">\n",
              "    <path d=\"M120-120v-720h720v720H120Zm60-500h600v-160H180v160Zm220 220h160v-160H400v160Zm0 220h160v-160H400v160ZM180-400h160v-160H180v160Zm440 0h160v-160H620v160ZM180-180h160v-160H180v160Zm440 0h160v-160H620v160Z\"/>\n",
              "  </svg>\n",
              "    </button>\n",
              "\n",
              "  <style>\n",
              "    .colab-df-container {\n",
              "      display:flex;\n",
              "      gap: 12px;\n",
              "    }\n",
              "\n",
              "    .colab-df-convert {\n",
              "      background-color: #E8F0FE;\n",
              "      border: none;\n",
              "      border-radius: 50%;\n",
              "      cursor: pointer;\n",
              "      display: none;\n",
              "      fill: #1967D2;\n",
              "      height: 32px;\n",
              "      padding: 0 0 0 0;\n",
              "      width: 32px;\n",
              "    }\n",
              "\n",
              "    .colab-df-convert:hover {\n",
              "      background-color: #E2EBFA;\n",
              "      box-shadow: 0px 1px 2px rgba(60, 64, 67, 0.3), 0px 1px 3px 1px rgba(60, 64, 67, 0.15);\n",
              "      fill: #174EA6;\n",
              "    }\n",
              "\n",
              "    .colab-df-buttons div {\n",
              "      margin-bottom: 4px;\n",
              "    }\n",
              "\n",
              "    [theme=dark] .colab-df-convert {\n",
              "      background-color: #3B4455;\n",
              "      fill: #D2E3FC;\n",
              "    }\n",
              "\n",
              "    [theme=dark] .colab-df-convert:hover {\n",
              "      background-color: #434B5C;\n",
              "      box-shadow: 0px 1px 3px 1px rgba(0, 0, 0, 0.15);\n",
              "      filter: drop-shadow(0px 1px 2px rgba(0, 0, 0, 0.3));\n",
              "      fill: #FFFFFF;\n",
              "    }\n",
              "  </style>\n",
              "\n",
              "    <script>\n",
              "      const buttonEl =\n",
              "        document.querySelector('#df-4375998f-bca5-4cf0-a7ef-14bcaf3361e9 button.colab-df-convert');\n",
              "      buttonEl.style.display =\n",
              "        google.colab.kernel.accessAllowed ? 'block' : 'none';\n",
              "\n",
              "      async function convertToInteractive(key) {\n",
              "        const element = document.querySelector('#df-4375998f-bca5-4cf0-a7ef-14bcaf3361e9');\n",
              "        const dataTable =\n",
              "          await google.colab.kernel.invokeFunction('convertToInteractive',\n",
              "                                                    [key], {});\n",
              "        if (!dataTable) return;\n",
              "\n",
              "        const docLinkHtml = 'Like what you see? Visit the ' +\n",
              "          '<a target=\"_blank\" href=https://colab.research.google.com/notebooks/data_table.ipynb>data table notebook</a>'\n",
              "          + ' to learn more about interactive tables.';\n",
              "        element.innerHTML = '';\n",
              "        dataTable['output_type'] = 'display_data';\n",
              "        await google.colab.output.renderOutput(dataTable, element);\n",
              "        const docLink = document.createElement('div');\n",
              "        docLink.innerHTML = docLinkHtml;\n",
              "        element.appendChild(docLink);\n",
              "      }\n",
              "    </script>\n",
              "  </div>\n",
              "\n",
              "\n",
              "<div id=\"df-c447f281-3ff3-46f8-812a-1fddd5038242\">\n",
              "  <button class=\"colab-df-quickchart\" onclick=\"quickchart('df-c447f281-3ff3-46f8-812a-1fddd5038242')\"\n",
              "            title=\"Suggest charts\"\n",
              "            style=\"display:none;\">\n",
              "\n",
              "<svg xmlns=\"http://www.w3.org/2000/svg\" height=\"24px\"viewBox=\"0 0 24 24\"\n",
              "     width=\"24px\">\n",
              "    <g>\n",
              "        <path d=\"M19 3H5c-1.1 0-2 .9-2 2v14c0 1.1.9 2 2 2h14c1.1 0 2-.9 2-2V5c0-1.1-.9-2-2-2zM9 17H7v-7h2v7zm4 0h-2V7h2v10zm4 0h-2v-4h2v4z\"/>\n",
              "    </g>\n",
              "</svg>\n",
              "  </button>\n",
              "\n",
              "<style>\n",
              "  .colab-df-quickchart {\n",
              "      --bg-color: #E8F0FE;\n",
              "      --fill-color: #1967D2;\n",
              "      --hover-bg-color: #E2EBFA;\n",
              "      --hover-fill-color: #174EA6;\n",
              "      --disabled-fill-color: #AAA;\n",
              "      --disabled-bg-color: #DDD;\n",
              "  }\n",
              "\n",
              "  [theme=dark] .colab-df-quickchart {\n",
              "      --bg-color: #3B4455;\n",
              "      --fill-color: #D2E3FC;\n",
              "      --hover-bg-color: #434B5C;\n",
              "      --hover-fill-color: #FFFFFF;\n",
              "      --disabled-bg-color: #3B4455;\n",
              "      --disabled-fill-color: #666;\n",
              "  }\n",
              "\n",
              "  .colab-df-quickchart {\n",
              "    background-color: var(--bg-color);\n",
              "    border: none;\n",
              "    border-radius: 50%;\n",
              "    cursor: pointer;\n",
              "    display: none;\n",
              "    fill: var(--fill-color);\n",
              "    height: 32px;\n",
              "    padding: 0;\n",
              "    width: 32px;\n",
              "  }\n",
              "\n",
              "  .colab-df-quickchart:hover {\n",
              "    background-color: var(--hover-bg-color);\n",
              "    box-shadow: 0 1px 2px rgba(60, 64, 67, 0.3), 0 1px 3px 1px rgba(60, 64, 67, 0.15);\n",
              "    fill: var(--button-hover-fill-color);\n",
              "  }\n",
              "\n",
              "  .colab-df-quickchart-complete:disabled,\n",
              "  .colab-df-quickchart-complete:disabled:hover {\n",
              "    background-color: var(--disabled-bg-color);\n",
              "    fill: var(--disabled-fill-color);\n",
              "    box-shadow: none;\n",
              "  }\n",
              "\n",
              "  .colab-df-spinner {\n",
              "    border: 2px solid var(--fill-color);\n",
              "    border-color: transparent;\n",
              "    border-bottom-color: var(--fill-color);\n",
              "    animation:\n",
              "      spin 1s steps(1) infinite;\n",
              "  }\n",
              "\n",
              "  @keyframes spin {\n",
              "    0% {\n",
              "      border-color: transparent;\n",
              "      border-bottom-color: var(--fill-color);\n",
              "      border-left-color: var(--fill-color);\n",
              "    }\n",
              "    20% {\n",
              "      border-color: transparent;\n",
              "      border-left-color: var(--fill-color);\n",
              "      border-top-color: var(--fill-color);\n",
              "    }\n",
              "    30% {\n",
              "      border-color: transparent;\n",
              "      border-left-color: var(--fill-color);\n",
              "      border-top-color: var(--fill-color);\n",
              "      border-right-color: var(--fill-color);\n",
              "    }\n",
              "    40% {\n",
              "      border-color: transparent;\n",
              "      border-right-color: var(--fill-color);\n",
              "      border-top-color: var(--fill-color);\n",
              "    }\n",
              "    60% {\n",
              "      border-color: transparent;\n",
              "      border-right-color: var(--fill-color);\n",
              "    }\n",
              "    80% {\n",
              "      border-color: transparent;\n",
              "      border-right-color: var(--fill-color);\n",
              "      border-bottom-color: var(--fill-color);\n",
              "    }\n",
              "    90% {\n",
              "      border-color: transparent;\n",
              "      border-bottom-color: var(--fill-color);\n",
              "    }\n",
              "  }\n",
              "</style>\n",
              "\n",
              "  <script>\n",
              "    async function quickchart(key) {\n",
              "      const quickchartButtonEl =\n",
              "        document.querySelector('#' + key + ' button');\n",
              "      quickchartButtonEl.disabled = true;  // To prevent multiple clicks.\n",
              "      quickchartButtonEl.classList.add('colab-df-spinner');\n",
              "      try {\n",
              "        const charts = await google.colab.kernel.invokeFunction(\n",
              "            'suggestCharts', [key], {});\n",
              "      } catch (error) {\n",
              "        console.error('Error during call to suggestCharts:', error);\n",
              "      }\n",
              "      quickchartButtonEl.classList.remove('colab-df-spinner');\n",
              "      quickchartButtonEl.classList.add('colab-df-quickchart-complete');\n",
              "    }\n",
              "    (() => {\n",
              "      let quickchartButtonEl =\n",
              "        document.querySelector('#df-c447f281-3ff3-46f8-812a-1fddd5038242 button');\n",
              "      quickchartButtonEl.style.display =\n",
              "        google.colab.kernel.accessAllowed ? 'block' : 'none';\n",
              "    })();\n",
              "  </script>\n",
              "</div>\n",
              "\n",
              "    </div>\n",
              "  </div>\n"
            ],
            "application/vnd.google.colaboratory.intrinsic+json": {
              "type": "dataframe",
              "variable_name": "df"
            }
          },
          "metadata": {},
          "execution_count": 87
        }
      ]
    },
    {
      "cell_type": "markdown",
      "source": [
        "## **Data Preprocessing**"
      ],
      "metadata": {
        "id": "MdD0Vk_qP3yj"
      }
    },
    {
      "cell_type": "code",
      "source": [
        "df.info()"
      ],
      "metadata": {
        "colab": {
          "base_uri": "https://localhost:8080/"
        },
        "id": "1XgikdXyHP4C",
        "outputId": "14fc215e-58e6-4b48-f1c6-55d6d7585e4e"
      },
      "execution_count": null,
      "outputs": [
        {
          "output_type": "stream",
          "name": "stdout",
          "text": [
            "<class 'pandas.core.frame.DataFrame'>\n",
            "RangeIndex: 500 entries, 0 to 499\n",
            "Data columns (total 39 columns):\n",
            " #   Column                                                             Non-Null Count  Dtype  \n",
            "---  ------                                                             --------------  -----  \n",
            " 0   SNo                                                                500 non-null    int64  \n",
            " 1   Preeclampsia(1)/NA(0)                                              500 non-null    int64  \n",
            " 2   Age                                                                500 non-null    int64  \n",
            " 3   Parity                                                             500 non-null    object \n",
            " 4   Weight before pregnancy                                            500 non-null    float64\n",
            " 5   Weight in late first trimester                                     500 non-null    float64\n",
            " 6   BMI before pregnancy                                               500 non-null    float64\n",
            " 7   BMI in late first trimester                                        500 non-null    float64\n",
            " 8   DBP in early pregnancy                                             500 non-null    float64\n",
            " 9   DBP in the late first trimester                                    500 non-null    float64\n",
            " 10  SBP in early pregnancy                                             500 non-null    float64\n",
            " 11  SBP  in the late first trimester                                   500 non-null    float64\n",
            " 12  Hemoglobin level measured in the first trimester                   500 non-null    float64\n",
            " 13  Hemoglobin level measured in the second or third trimester         500 non-null    float64\n",
            " 14  Gravidity                                                          500 non-null    object \n",
            " 15  Protein in uria(1+,2+)..                                           500 non-null    object \n",
            " 16  Smoking (Y/N)                                                      500 non-null    object \n",
            " 17  Alcohol (Y/N)                                                      500 non-null    object \n",
            " 18  Hypertension (Y/N)                                                 500 non-null    object \n",
            " 19  Diabetese (Y/N)                                                    500 non-null    object \n",
            " 20  History of Preeclampsia in previous pregnancy (0 if No, 1 if Yes)  500 non-null    object \n",
            " 21  MAP                                                                500 non-null    float64\n",
            " 22  CRL                                                                500 non-null    float64\n",
            " 23  NT                                                                 500 non-null    float64\n",
            " 24  BPD                                                                500 non-null    float64\n",
            " 25  PI-R                                                               500 non-null    float64\n",
            " 26  PI-L                                                               500 non-null    float64\n",
            " 27  H-PI                                                               0 non-null      float64\n",
            " 28  M-PI                                                               0 non-null      float64\n",
            " 29  RI-R                                                               0 non-null      float64\n",
            " 30  RI-L                                                               0 non-null      float64\n",
            " 31  H-RI                                                               0 non-null      float64\n",
            " 32  M-RI                                                               0 non-null      float64\n",
            " 33  SD -R                                                              0 non-null      float64\n",
            " 34  SD-L                                                               0 non-null      float64\n",
            " 35  N-R                                                                0 non-null      float64\n",
            " 36  N-L                                                                0 non-null      float64\n",
            " 37  PAPP-A(mlU/ml)                                                     500 non-null    float64\n",
            " 38  F B-hCG (ng/ml)                                                    500 non-null    float64\n",
            "dtypes: float64(28), int64(3), object(8)\n",
            "memory usage: 152.5+ KB\n"
          ]
        }
      ]
    },
    {
      "cell_type": "code",
      "source": [
        "df.isnull().sum()"
      ],
      "metadata": {
        "colab": {
          "base_uri": "https://localhost:8080/"
        },
        "id": "vcrH7dPQHTd-",
        "outputId": "99fda977-d764-4565-ee8d-64d5fb619a1a"
      },
      "execution_count": null,
      "outputs": [
        {
          "output_type": "execute_result",
          "data": {
            "text/plain": [
              "SNo                                                                    0\n",
              "Preeclampsia(1)/NA(0)                                                  0\n",
              "Age                                                                    0\n",
              "Parity                                                                 0\n",
              "Weight before pregnancy                                                0\n",
              "Weight in late first trimester                                         0\n",
              "BMI before pregnancy                                                   0\n",
              "BMI in late first trimester                                            0\n",
              "DBP in early pregnancy                                                 0\n",
              "DBP in the late first trimester                                        0\n",
              "SBP in early pregnancy                                                 0\n",
              "SBP  in the late first trimester                                       0\n",
              "Hemoglobin level measured in the first trimester                       0\n",
              "Hemoglobin level measured in the second or third trimester             0\n",
              "Gravidity                                                              0\n",
              "Protein in uria(1+,2+)..                                               0\n",
              "Smoking (Y/N)                                                          0\n",
              "Alcohol (Y/N)                                                          0\n",
              "Hypertension (Y/N)                                                     0\n",
              "Diabetese (Y/N)                                                        0\n",
              "History of Preeclampsia in previous pregnancy (0 if No, 1 if Yes)      0\n",
              "MAP                                                                    0\n",
              "CRL                                                                    0\n",
              "NT                                                                     0\n",
              "BPD                                                                    0\n",
              "PI-R                                                                   0\n",
              "PI-L                                                                   0\n",
              "H-PI                                                                 500\n",
              "M-PI                                                                 500\n",
              "RI-R                                                                 500\n",
              "RI-L                                                                 500\n",
              "H-RI                                                                 500\n",
              "M-RI                                                                 500\n",
              "SD -R                                                                500\n",
              "SD-L                                                                 500\n",
              "N-R                                                                  500\n",
              "N-L                                                                  500\n",
              "PAPP-A(mlU/ml)                                                         0\n",
              "F B-hCG (ng/ml)                                                        0\n",
              "dtype: int64"
            ]
          },
          "metadata": {},
          "execution_count": 89
        }
      ]
    },
    {
      "cell_type": "code",
      "source": [
        "df=df.drop(labels=[\"H-PI\",\"M-PI\",\"RI-R\",\"RI-L\",\"H-RI\",\"M-RI\",\"SD -R\",\"SD-L\",\"N-R\",\"N-L\"],axis=1)"
      ],
      "metadata": {
        "id": "CkNCc03qHX0x"
      },
      "execution_count": null,
      "outputs": []
    },
    {
      "cell_type": "code",
      "source": [
        "df.isnull().sum()"
      ],
      "metadata": {
        "colab": {
          "base_uri": "https://localhost:8080/"
        },
        "id": "SoPvL1QRHcwL",
        "outputId": "a17edd22-2aee-4794-db38-d25d997e79b7"
      },
      "execution_count": null,
      "outputs": [
        {
          "output_type": "execute_result",
          "data": {
            "text/plain": [
              "SNo                                                                  0\n",
              "Preeclampsia(1)/NA(0)                                                0\n",
              "Age                                                                  0\n",
              "Parity                                                               0\n",
              "Weight before pregnancy                                              0\n",
              "Weight in late first trimester                                       0\n",
              "BMI before pregnancy                                                 0\n",
              "BMI in late first trimester                                          0\n",
              "DBP in early pregnancy                                               0\n",
              "DBP in the late first trimester                                      0\n",
              "SBP in early pregnancy                                               0\n",
              "SBP  in the late first trimester                                     0\n",
              "Hemoglobin level measured in the first trimester                     0\n",
              "Hemoglobin level measured in the second or third trimester           0\n",
              "Gravidity                                                            0\n",
              "Protein in uria(1+,2+)..                                             0\n",
              "Smoking (Y/N)                                                        0\n",
              "Alcohol (Y/N)                                                        0\n",
              "Hypertension (Y/N)                                                   0\n",
              "Diabetese (Y/N)                                                      0\n",
              "History of Preeclampsia in previous pregnancy (0 if No, 1 if Yes)    0\n",
              "MAP                                                                  0\n",
              "CRL                                                                  0\n",
              "NT                                                                   0\n",
              "BPD                                                                  0\n",
              "PI-R                                                                 0\n",
              "PI-L                                                                 0\n",
              "PAPP-A(mlU/ml)                                                       0\n",
              "F B-hCG (ng/ml)                                                      0\n",
              "dtype: int64"
            ]
          },
          "metadata": {},
          "execution_count": 91
        }
      ]
    },
    {
      "cell_type": "code",
      "source": [
        "df.info()"
      ],
      "metadata": {
        "colab": {
          "base_uri": "https://localhost:8080/"
        },
        "id": "aHpJhtBO2jAU",
        "outputId": "bd271a3a-fb1d-480e-b73a-4e1d52c6744b"
      },
      "execution_count": null,
      "outputs": [
        {
          "output_type": "stream",
          "name": "stdout",
          "text": [
            "<class 'pandas.core.frame.DataFrame'>\n",
            "RangeIndex: 500 entries, 0 to 499\n",
            "Data columns (total 29 columns):\n",
            " #   Column                                                             Non-Null Count  Dtype  \n",
            "---  ------                                                             --------------  -----  \n",
            " 0   SNo                                                                500 non-null    int64  \n",
            " 1   Preeclampsia(1)/NA(0)                                              500 non-null    int64  \n",
            " 2   Age                                                                500 non-null    int64  \n",
            " 3   Parity                                                             500 non-null    object \n",
            " 4   Weight before pregnancy                                            500 non-null    float64\n",
            " 5   Weight in late first trimester                                     500 non-null    float64\n",
            " 6   BMI before pregnancy                                               500 non-null    float64\n",
            " 7   BMI in late first trimester                                        500 non-null    float64\n",
            " 8   DBP in early pregnancy                                             500 non-null    float64\n",
            " 9   DBP in the late first trimester                                    500 non-null    float64\n",
            " 10  SBP in early pregnancy                                             500 non-null    float64\n",
            " 11  SBP  in the late first trimester                                   500 non-null    float64\n",
            " 12  Hemoglobin level measured in the first trimester                   500 non-null    float64\n",
            " 13  Hemoglobin level measured in the second or third trimester         500 non-null    float64\n",
            " 14  Gravidity                                                          500 non-null    object \n",
            " 15  Protein in uria(1+,2+)..                                           500 non-null    object \n",
            " 16  Smoking (Y/N)                                                      500 non-null    object \n",
            " 17  Alcohol (Y/N)                                                      500 non-null    object \n",
            " 18  Hypertension (Y/N)                                                 500 non-null    object \n",
            " 19  Diabetese (Y/N)                                                    500 non-null    object \n",
            " 20  History of Preeclampsia in previous pregnancy (0 if No, 1 if Yes)  500 non-null    object \n",
            " 21  MAP                                                                500 non-null    float64\n",
            " 22  CRL                                                                500 non-null    float64\n",
            " 23  NT                                                                 500 non-null    float64\n",
            " 24  BPD                                                                500 non-null    float64\n",
            " 25  PI-R                                                               500 non-null    float64\n",
            " 26  PI-L                                                               500 non-null    float64\n",
            " 27  PAPP-A(mlU/ml)                                                     500 non-null    float64\n",
            " 28  F B-hCG (ng/ml)                                                    500 non-null    float64\n",
            "dtypes: float64(18), int64(3), object(8)\n",
            "memory usage: 113.4+ KB\n"
          ]
        }
      ]
    },
    {
      "cell_type": "code",
      "source": [
        "from sklearn.preprocessing import LabelEncoder\n",
        "le_parity = LabelEncoder()\n",
        "df['Gravidity_n'] = le_parity.fit_transform(df['Gravidity'])\n",
        "df['Parity_n'] = le_parity.fit_transform(df['Parity'])\n",
        "df['Protein'] = le_parity.fit_transform(df['Protein in uria(1+,2+)..'])\n",
        "df['Smoking'] = le_parity.fit_transform(df['Smoking (Y/N)'])\n",
        "df['Alcohol'] = le_parity.fit_transform(df['Alcohol (Y/N)'])\n",
        "df['Hypertension'] = le_parity.fit_transform(df['Hypertension (Y/N)'])\n",
        "df['History of Preeclampsia'] = le_parity.fit_transform(df['History of Preeclampsia in previous pregnancy (0 if No, 1 if Yes)'])"
      ],
      "metadata": {
        "id": "N9UDnfoKHfPF"
      },
      "execution_count": null,
      "outputs": []
    },
    {
      "cell_type": "code",
      "source": [
        "df=df.drop(labels=['Parity','Protein in uria(1+,2+)..','Smoking (Y/N)','Alcohol (Y/N)','Hypertension (Y/N)','History of Preeclampsia in previous pregnancy (0 if No, 1 if Yes)','Gravidity'],axis=1)"
      ],
      "metadata": {
        "id": "bi6tAmEwHivV"
      },
      "execution_count": null,
      "outputs": []
    },
    {
      "cell_type": "code",
      "source": [
        "df['Diabetese'] = le_parity.fit_transform(df['Diabetese (Y/N)'])\n",
        "df=df.drop(labels=['Diabetese (Y/N)'],axis=1)"
      ],
      "metadata": {
        "id": "je5P-IlaHnhj"
      },
      "execution_count": null,
      "outputs": []
    },
    {
      "cell_type": "code",
      "source": [
        "df=df.drop(labels=['SNo'],axis=1)"
      ],
      "metadata": {
        "id": "gsQmDHUoHpo0"
      },
      "execution_count": null,
      "outputs": []
    },
    {
      "cell_type": "code",
      "source": [
        "df.head()"
      ],
      "metadata": {
        "colab": {
          "base_uri": "https://localhost:8080/",
          "height": 307
        },
        "id": "db2DRJ4qJFLu",
        "outputId": "d3724b87-5142-47a4-c598-4f3565fe55b3"
      },
      "execution_count": null,
      "outputs": [
        {
          "output_type": "execute_result",
          "data": {
            "text/plain": [
              "   Preeclampsia(1)/NA(0)  Age  Weight before pregnancy  \\\n",
              "0                      0   26                     49.0   \n",
              "1                      0   29                     65.0   \n",
              "2                      1   23                     84.0   \n",
              "3                      0   27                     83.0   \n",
              "4                      0   25                     67.0   \n",
              "\n",
              "   Weight in late first trimester  BMI before pregnancy  \\\n",
              "0                            51.1                  23.2   \n",
              "1                            67.8                  25.0   \n",
              "2                            86.6                  33.2   \n",
              "3                            85.0                  33.2   \n",
              "4                            69.5                  26.8   \n",
              "\n",
              "   BMI in late first trimester  DBP in early pregnancy  \\\n",
              "0                         23.7                1.666667   \n",
              "1                         25.6                1.500000   \n",
              "2                         34.8                1.555556   \n",
              "3                         34.4                1.500000   \n",
              "4                         29.3                1.666667   \n",
              "\n",
              "   DBP in the late first trimester  SBP in early pregnancy  \\\n",
              "0                         1.571429                1.571429   \n",
              "1                         1.375000                1.500000   \n",
              "2                         1.400000                1.555556   \n",
              "3                         1.625000                1.500000   \n",
              "4                         1.666667                1.666667   \n",
              "\n",
              "   SBP  in the late first trimester  ...  PAPP-A(mlU/ml)  F B-hCG (ng/ml)  \\\n",
              "0                          1.500000  ...            5.53            74.33   \n",
              "1                          1.571429  ...            2.50             9.69   \n",
              "2                          1.400000  ...            6.12           149.00   \n",
              "3                          1.625000  ...            5.53            74.33   \n",
              "4                          1.666667  ...           15.70            99.69   \n",
              "\n",
              "   Gravidity_n  Parity_n  Protein  Smoking  Alcohol  Hypertension  \\\n",
              "0            4         1        0        0        0             0   \n",
              "1            4         1        0        0        0             0   \n",
              "2            3         1        0        0        0             0   \n",
              "3            9         0        0        0        0             0   \n",
              "4            9         0        0        0        0             0   \n",
              "\n",
              "   History of Preeclampsia  Diabetese  \n",
              "0                        0          0  \n",
              "1                        0          0  \n",
              "2                        0          0  \n",
              "3                        0          0  \n",
              "4                        0          0  \n",
              "\n",
              "[5 rows x 28 columns]"
            ],
            "text/html": [
              "\n",
              "  <div id=\"df-2860171f-e0d3-456d-905a-3ae413c54b45\" class=\"colab-df-container\">\n",
              "    <div>\n",
              "<style scoped>\n",
              "    .dataframe tbody tr th:only-of-type {\n",
              "        vertical-align: middle;\n",
              "    }\n",
              "\n",
              "    .dataframe tbody tr th {\n",
              "        vertical-align: top;\n",
              "    }\n",
              "\n",
              "    .dataframe thead th {\n",
              "        text-align: right;\n",
              "    }\n",
              "</style>\n",
              "<table border=\"1\" class=\"dataframe\">\n",
              "  <thead>\n",
              "    <tr style=\"text-align: right;\">\n",
              "      <th></th>\n",
              "      <th>Preeclampsia(1)/NA(0)</th>\n",
              "      <th>Age</th>\n",
              "      <th>Weight before pregnancy</th>\n",
              "      <th>Weight in late first trimester</th>\n",
              "      <th>BMI before pregnancy</th>\n",
              "      <th>BMI in late first trimester</th>\n",
              "      <th>DBP in early pregnancy</th>\n",
              "      <th>DBP in the late first trimester</th>\n",
              "      <th>SBP in early pregnancy</th>\n",
              "      <th>SBP  in the late first trimester</th>\n",
              "      <th>...</th>\n",
              "      <th>PAPP-A(mlU/ml)</th>\n",
              "      <th>F B-hCG (ng/ml)</th>\n",
              "      <th>Gravidity_n</th>\n",
              "      <th>Parity_n</th>\n",
              "      <th>Protein</th>\n",
              "      <th>Smoking</th>\n",
              "      <th>Alcohol</th>\n",
              "      <th>Hypertension</th>\n",
              "      <th>History of Preeclampsia</th>\n",
              "      <th>Diabetese</th>\n",
              "    </tr>\n",
              "  </thead>\n",
              "  <tbody>\n",
              "    <tr>\n",
              "      <th>0</th>\n",
              "      <td>0</td>\n",
              "      <td>26</td>\n",
              "      <td>49.0</td>\n",
              "      <td>51.1</td>\n",
              "      <td>23.2</td>\n",
              "      <td>23.7</td>\n",
              "      <td>1.666667</td>\n",
              "      <td>1.571429</td>\n",
              "      <td>1.571429</td>\n",
              "      <td>1.500000</td>\n",
              "      <td>...</td>\n",
              "      <td>5.53</td>\n",
              "      <td>74.33</td>\n",
              "      <td>4</td>\n",
              "      <td>1</td>\n",
              "      <td>0</td>\n",
              "      <td>0</td>\n",
              "      <td>0</td>\n",
              "      <td>0</td>\n",
              "      <td>0</td>\n",
              "      <td>0</td>\n",
              "    </tr>\n",
              "    <tr>\n",
              "      <th>1</th>\n",
              "      <td>0</td>\n",
              "      <td>29</td>\n",
              "      <td>65.0</td>\n",
              "      <td>67.8</td>\n",
              "      <td>25.0</td>\n",
              "      <td>25.6</td>\n",
              "      <td>1.500000</td>\n",
              "      <td>1.375000</td>\n",
              "      <td>1.500000</td>\n",
              "      <td>1.571429</td>\n",
              "      <td>...</td>\n",
              "      <td>2.50</td>\n",
              "      <td>9.69</td>\n",
              "      <td>4</td>\n",
              "      <td>1</td>\n",
              "      <td>0</td>\n",
              "      <td>0</td>\n",
              "      <td>0</td>\n",
              "      <td>0</td>\n",
              "      <td>0</td>\n",
              "      <td>0</td>\n",
              "    </tr>\n",
              "    <tr>\n",
              "      <th>2</th>\n",
              "      <td>1</td>\n",
              "      <td>23</td>\n",
              "      <td>84.0</td>\n",
              "      <td>86.6</td>\n",
              "      <td>33.2</td>\n",
              "      <td>34.8</td>\n",
              "      <td>1.555556</td>\n",
              "      <td>1.400000</td>\n",
              "      <td>1.555556</td>\n",
              "      <td>1.400000</td>\n",
              "      <td>...</td>\n",
              "      <td>6.12</td>\n",
              "      <td>149.00</td>\n",
              "      <td>3</td>\n",
              "      <td>1</td>\n",
              "      <td>0</td>\n",
              "      <td>0</td>\n",
              "      <td>0</td>\n",
              "      <td>0</td>\n",
              "      <td>0</td>\n",
              "      <td>0</td>\n",
              "    </tr>\n",
              "    <tr>\n",
              "      <th>3</th>\n",
              "      <td>0</td>\n",
              "      <td>27</td>\n",
              "      <td>83.0</td>\n",
              "      <td>85.0</td>\n",
              "      <td>33.2</td>\n",
              "      <td>34.4</td>\n",
              "      <td>1.500000</td>\n",
              "      <td>1.625000</td>\n",
              "      <td>1.500000</td>\n",
              "      <td>1.625000</td>\n",
              "      <td>...</td>\n",
              "      <td>5.53</td>\n",
              "      <td>74.33</td>\n",
              "      <td>9</td>\n",
              "      <td>0</td>\n",
              "      <td>0</td>\n",
              "      <td>0</td>\n",
              "      <td>0</td>\n",
              "      <td>0</td>\n",
              "      <td>0</td>\n",
              "      <td>0</td>\n",
              "    </tr>\n",
              "    <tr>\n",
              "      <th>4</th>\n",
              "      <td>0</td>\n",
              "      <td>25</td>\n",
              "      <td>67.0</td>\n",
              "      <td>69.5</td>\n",
              "      <td>26.8</td>\n",
              "      <td>29.3</td>\n",
              "      <td>1.666667</td>\n",
              "      <td>1.666667</td>\n",
              "      <td>1.666667</td>\n",
              "      <td>1.666667</td>\n",
              "      <td>...</td>\n",
              "      <td>15.70</td>\n",
              "      <td>99.69</td>\n",
              "      <td>9</td>\n",
              "      <td>0</td>\n",
              "      <td>0</td>\n",
              "      <td>0</td>\n",
              "      <td>0</td>\n",
              "      <td>0</td>\n",
              "      <td>0</td>\n",
              "      <td>0</td>\n",
              "    </tr>\n",
              "  </tbody>\n",
              "</table>\n",
              "<p>5 rows × 28 columns</p>\n",
              "</div>\n",
              "    <div class=\"colab-df-buttons\">\n",
              "\n",
              "  <div class=\"colab-df-container\">\n",
              "    <button class=\"colab-df-convert\" onclick=\"convertToInteractive('df-2860171f-e0d3-456d-905a-3ae413c54b45')\"\n",
              "            title=\"Convert this dataframe to an interactive table.\"\n",
              "            style=\"display:none;\">\n",
              "\n",
              "  <svg xmlns=\"http://www.w3.org/2000/svg\" height=\"24px\" viewBox=\"0 -960 960 960\">\n",
              "    <path d=\"M120-120v-720h720v720H120Zm60-500h600v-160H180v160Zm220 220h160v-160H400v160Zm0 220h160v-160H400v160ZM180-400h160v-160H180v160Zm440 0h160v-160H620v160ZM180-180h160v-160H180v160Zm440 0h160v-160H620v160Z\"/>\n",
              "  </svg>\n",
              "    </button>\n",
              "\n",
              "  <style>\n",
              "    .colab-df-container {\n",
              "      display:flex;\n",
              "      gap: 12px;\n",
              "    }\n",
              "\n",
              "    .colab-df-convert {\n",
              "      background-color: #E8F0FE;\n",
              "      border: none;\n",
              "      border-radius: 50%;\n",
              "      cursor: pointer;\n",
              "      display: none;\n",
              "      fill: #1967D2;\n",
              "      height: 32px;\n",
              "      padding: 0 0 0 0;\n",
              "      width: 32px;\n",
              "    }\n",
              "\n",
              "    .colab-df-convert:hover {\n",
              "      background-color: #E2EBFA;\n",
              "      box-shadow: 0px 1px 2px rgba(60, 64, 67, 0.3), 0px 1px 3px 1px rgba(60, 64, 67, 0.15);\n",
              "      fill: #174EA6;\n",
              "    }\n",
              "\n",
              "    .colab-df-buttons div {\n",
              "      margin-bottom: 4px;\n",
              "    }\n",
              "\n",
              "    [theme=dark] .colab-df-convert {\n",
              "      background-color: #3B4455;\n",
              "      fill: #D2E3FC;\n",
              "    }\n",
              "\n",
              "    [theme=dark] .colab-df-convert:hover {\n",
              "      background-color: #434B5C;\n",
              "      box-shadow: 0px 1px 3px 1px rgba(0, 0, 0, 0.15);\n",
              "      filter: drop-shadow(0px 1px 2px rgba(0, 0, 0, 0.3));\n",
              "      fill: #FFFFFF;\n",
              "    }\n",
              "  </style>\n",
              "\n",
              "    <script>\n",
              "      const buttonEl =\n",
              "        document.querySelector('#df-2860171f-e0d3-456d-905a-3ae413c54b45 button.colab-df-convert');\n",
              "      buttonEl.style.display =\n",
              "        google.colab.kernel.accessAllowed ? 'block' : 'none';\n",
              "\n",
              "      async function convertToInteractive(key) {\n",
              "        const element = document.querySelector('#df-2860171f-e0d3-456d-905a-3ae413c54b45');\n",
              "        const dataTable =\n",
              "          await google.colab.kernel.invokeFunction('convertToInteractive',\n",
              "                                                    [key], {});\n",
              "        if (!dataTable) return;\n",
              "\n",
              "        const docLinkHtml = 'Like what you see? Visit the ' +\n",
              "          '<a target=\"_blank\" href=https://colab.research.google.com/notebooks/data_table.ipynb>data table notebook</a>'\n",
              "          + ' to learn more about interactive tables.';\n",
              "        element.innerHTML = '';\n",
              "        dataTable['output_type'] = 'display_data';\n",
              "        await google.colab.output.renderOutput(dataTable, element);\n",
              "        const docLink = document.createElement('div');\n",
              "        docLink.innerHTML = docLinkHtml;\n",
              "        element.appendChild(docLink);\n",
              "      }\n",
              "    </script>\n",
              "  </div>\n",
              "\n",
              "\n",
              "<div id=\"df-cc42599d-c7ab-48b9-92b7-b5724ace0a6f\">\n",
              "  <button class=\"colab-df-quickchart\" onclick=\"quickchart('df-cc42599d-c7ab-48b9-92b7-b5724ace0a6f')\"\n",
              "            title=\"Suggest charts\"\n",
              "            style=\"display:none;\">\n",
              "\n",
              "<svg xmlns=\"http://www.w3.org/2000/svg\" height=\"24px\"viewBox=\"0 0 24 24\"\n",
              "     width=\"24px\">\n",
              "    <g>\n",
              "        <path d=\"M19 3H5c-1.1 0-2 .9-2 2v14c0 1.1.9 2 2 2h14c1.1 0 2-.9 2-2V5c0-1.1-.9-2-2-2zM9 17H7v-7h2v7zm4 0h-2V7h2v10zm4 0h-2v-4h2v4z\"/>\n",
              "    </g>\n",
              "</svg>\n",
              "  </button>\n",
              "\n",
              "<style>\n",
              "  .colab-df-quickchart {\n",
              "      --bg-color: #E8F0FE;\n",
              "      --fill-color: #1967D2;\n",
              "      --hover-bg-color: #E2EBFA;\n",
              "      --hover-fill-color: #174EA6;\n",
              "      --disabled-fill-color: #AAA;\n",
              "      --disabled-bg-color: #DDD;\n",
              "  }\n",
              "\n",
              "  [theme=dark] .colab-df-quickchart {\n",
              "      --bg-color: #3B4455;\n",
              "      --fill-color: #D2E3FC;\n",
              "      --hover-bg-color: #434B5C;\n",
              "      --hover-fill-color: #FFFFFF;\n",
              "      --disabled-bg-color: #3B4455;\n",
              "      --disabled-fill-color: #666;\n",
              "  }\n",
              "\n",
              "  .colab-df-quickchart {\n",
              "    background-color: var(--bg-color);\n",
              "    border: none;\n",
              "    border-radius: 50%;\n",
              "    cursor: pointer;\n",
              "    display: none;\n",
              "    fill: var(--fill-color);\n",
              "    height: 32px;\n",
              "    padding: 0;\n",
              "    width: 32px;\n",
              "  }\n",
              "\n",
              "  .colab-df-quickchart:hover {\n",
              "    background-color: var(--hover-bg-color);\n",
              "    box-shadow: 0 1px 2px rgba(60, 64, 67, 0.3), 0 1px 3px 1px rgba(60, 64, 67, 0.15);\n",
              "    fill: var(--button-hover-fill-color);\n",
              "  }\n",
              "\n",
              "  .colab-df-quickchart-complete:disabled,\n",
              "  .colab-df-quickchart-complete:disabled:hover {\n",
              "    background-color: var(--disabled-bg-color);\n",
              "    fill: var(--disabled-fill-color);\n",
              "    box-shadow: none;\n",
              "  }\n",
              "\n",
              "  .colab-df-spinner {\n",
              "    border: 2px solid var(--fill-color);\n",
              "    border-color: transparent;\n",
              "    border-bottom-color: var(--fill-color);\n",
              "    animation:\n",
              "      spin 1s steps(1) infinite;\n",
              "  }\n",
              "\n",
              "  @keyframes spin {\n",
              "    0% {\n",
              "      border-color: transparent;\n",
              "      border-bottom-color: var(--fill-color);\n",
              "      border-left-color: var(--fill-color);\n",
              "    }\n",
              "    20% {\n",
              "      border-color: transparent;\n",
              "      border-left-color: var(--fill-color);\n",
              "      border-top-color: var(--fill-color);\n",
              "    }\n",
              "    30% {\n",
              "      border-color: transparent;\n",
              "      border-left-color: var(--fill-color);\n",
              "      border-top-color: var(--fill-color);\n",
              "      border-right-color: var(--fill-color);\n",
              "    }\n",
              "    40% {\n",
              "      border-color: transparent;\n",
              "      border-right-color: var(--fill-color);\n",
              "      border-top-color: var(--fill-color);\n",
              "    }\n",
              "    60% {\n",
              "      border-color: transparent;\n",
              "      border-right-color: var(--fill-color);\n",
              "    }\n",
              "    80% {\n",
              "      border-color: transparent;\n",
              "      border-right-color: var(--fill-color);\n",
              "      border-bottom-color: var(--fill-color);\n",
              "    }\n",
              "    90% {\n",
              "      border-color: transparent;\n",
              "      border-bottom-color: var(--fill-color);\n",
              "    }\n",
              "  }\n",
              "</style>\n",
              "\n",
              "  <script>\n",
              "    async function quickchart(key) {\n",
              "      const quickchartButtonEl =\n",
              "        document.querySelector('#' + key + ' button');\n",
              "      quickchartButtonEl.disabled = true;  // To prevent multiple clicks.\n",
              "      quickchartButtonEl.classList.add('colab-df-spinner');\n",
              "      try {\n",
              "        const charts = await google.colab.kernel.invokeFunction(\n",
              "            'suggestCharts', [key], {});\n",
              "      } catch (error) {\n",
              "        console.error('Error during call to suggestCharts:', error);\n",
              "      }\n",
              "      quickchartButtonEl.classList.remove('colab-df-spinner');\n",
              "      quickchartButtonEl.classList.add('colab-df-quickchart-complete');\n",
              "    }\n",
              "    (() => {\n",
              "      let quickchartButtonEl =\n",
              "        document.querySelector('#df-cc42599d-c7ab-48b9-92b7-b5724ace0a6f button');\n",
              "      quickchartButtonEl.style.display =\n",
              "        google.colab.kernel.accessAllowed ? 'block' : 'none';\n",
              "    })();\n",
              "  </script>\n",
              "</div>\n",
              "\n",
              "    </div>\n",
              "  </div>\n"
            ],
            "application/vnd.google.colaboratory.intrinsic+json": {
              "type": "dataframe",
              "variable_name": "df"
            }
          },
          "metadata": {},
          "execution_count": 97
        }
      ]
    },
    {
      "cell_type": "markdown",
      "source": [
        "# **Data Visualization**"
      ],
      "metadata": {
        "id": "wlTkXD38H30L"
      }
    },
    {
      "cell_type": "code",
      "source": [
        "import matplotlib.pyplot as plt\n",
        "import seaborn as sns\n",
        "\n",
        "df.Age.value_counts(dropna=False)\n",
        "sns.countplot(x=\"Age\", data=df, palette=\"YlOrBr\")\n",
        "plt.show()"
      ],
      "metadata": {
        "colab": {
          "base_uri": "https://localhost:8080/",
          "height": 536
        },
        "id": "zZTHsv0eHf2C",
        "outputId": "b21afa21-c798-43c5-e18b-ed65529f0b56"
      },
      "execution_count": null,
      "outputs": [
        {
          "output_type": "stream",
          "name": "stderr",
          "text": [
            "<ipython-input-98-c966a7ed3490>:5: FutureWarning: \n",
            "\n",
            "Passing `palette` without assigning `hue` is deprecated and will be removed in v0.14.0. Assign the `x` variable to `hue` and set `legend=False` for the same effect.\n",
            "\n",
            "  sns.countplot(x=\"Age\", data=df, palette=\"YlOrBr\")\n"
          ]
        },
        {
          "output_type": "display_data",
          "data": {
            "text/plain": [
              "<Figure size 640x480 with 1 Axes>"
            ],
            "image/png": "[encoded data removed]"
          },
          "metadata": {}
        }
      ]
    },
    {
      "cell_type": "code",
      "source": [
        "df.Parity_n.value_counts(dropna=False)\n",
        "sns.countplot(x=\"Parity_n\", data=df, palette=\"Paired\")\n",
        "plt.show()"
      ],
      "metadata": {
        "colab": {
          "base_uri": "https://localhost:8080/",
          "height": 540
        },
        "id": "UkggV7Y_IML3",
        "outputId": "325e3c12-abf5-47ea-9b29-973143c3e788"
      },
      "execution_count": null,
      "outputs": [
        {
          "output_type": "stream",
          "name": "stderr",
          "text": [
            "<ipython-input-99-0b868d275816>:2: FutureWarning: \n",
            "\n",
            "Passing `palette` without assigning `hue` is deprecated and will be removed in v0.14.0. Assign the `x` variable to `hue` and set `legend=False` for the same effect.\n",
            "\n",
            "  sns.countplot(x=\"Parity_n\", data=df, palette=\"Paired\")\n"
          ]
        },
        {
          "output_type": "display_data",
          "data": {
            "text/plain": [
              "<Figure size 640x480 with 1 Axes>"
            ],
            "image/png": "[encoded data removed]"
          },
          "metadata": {}
        }
      ]
    },
    {
      "cell_type": "code",
      "source": [
        "df.Gravidity_n.value_counts(dropna=False)\n",
        "sns.countplot(x=\"Gravidity_n\", data=df, palette=\"rocket\")\n",
        "plt.show()"
      ],
      "metadata": {
        "colab": {
          "base_uri": "https://localhost:8080/",
          "height": 537
        },
        "id": "nWKKf6m7JMvx",
        "outputId": "da5877ae-e1ca-473a-cb13-2c864f72930c"
      },
      "execution_count": null,
      "outputs": [
        {
          "output_type": "stream",
          "name": "stderr",
          "text": [
            "<ipython-input-100-efd286d8f0d0>:2: FutureWarning: \n",
            "\n",
            "Passing `palette` without assigning `hue` is deprecated and will be removed in v0.14.0. Assign the `x` variable to `hue` and set `legend=False` for the same effect.\n",
            "\n",
            "  sns.countplot(x=\"Gravidity_n\", data=df, palette=\"rocket\")\n"
          ]
        },
        {
          "output_type": "display_data",
          "data": {
            "text/plain": [
              "<Figure size 640x480 with 1 Axes>"
            ],
            "image/png": "[encoded data removed]"
          },
          "metadata": {}
        }
      ]
    },
    {
      "cell_type": "code",
      "source": [
        "df2=pd.DataFrame(df['Preeclampsia(1)/NA(0)'])\n",
        "df2.rename(columns={'Preeclampsia(1)/NA(0)': 'Result'}, inplace=True)"
      ],
      "metadata": {
        "id": "eNDWdxOOKdKv"
      },
      "execution_count": null,
      "outputs": []
    },
    {
      "cell_type": "code",
      "source": [
        "df2.Result.value_counts(dropna=False)\n",
        "sns.countplot(x=\"Result\", data=df2, palette=\"YlOrBr\")\n",
        "plt.show()"
      ],
      "metadata": {
        "colab": {
          "base_uri": "https://localhost:8080/",
          "height": 536
        },
        "id": "N-_imnJwJq4y",
        "outputId": "40ee13a4-a29b-4951-970c-8c566f2869ef"
      },
      "execution_count": null,
      "outputs": [
        {
          "output_type": "stream",
          "name": "stderr",
          "text": [
            "<ipython-input-102-e7abb78e6c36>:2: FutureWarning: \n",
            "\n",
            "Passing `palette` without assigning `hue` is deprecated and will be removed in v0.14.0. Assign the `x` variable to `hue` and set `legend=False` for the same effect.\n",
            "\n",
            "  sns.countplot(x=\"Result\", data=df2, palette=\"YlOrBr\")\n"
          ]
        },
        {
          "output_type": "display_data",
          "data": {
            "text/plain": [
              "<Figure size 640x480 with 1 Axes>"
            ],
            "image/png": "[encoded data removed]"
          },
          "metadata": {}
        }
      ]
    },
    {
      "cell_type": "markdown",
      "source": [
        "### **Training and Testing**"
      ],
      "metadata": {
        "id": "aK-k4ckGP_5T"
      }
    },
    {
      "cell_type": "code",
      "source": [
        "from sklearn.model_selection import train_test_split\n",
        "X_train,X_test,y_train,y_test=train_test_split(df.drop(labels=['Preeclampsia(1)/NA(0)'], axis=1),\n",
        "    df['Preeclampsia(1)/NA(0)'],\n",
        "    test_size=0.25,\n",
        "    random_state=0)"
      ],
      "metadata": {
        "id": "9iVQcvDcHtLs"
      },
      "execution_count": null,
      "outputs": []
    },
    {
      "cell_type": "code",
      "source": [
        "X_train.head()"
      ],
      "metadata": {
        "id": "PzErwVJeHvEP",
        "colab": {
          "base_uri": "https://localhost:8080/",
          "height": 342
        },
        "outputId": "ccad61ab-4b76-41aa-8315-47de5e69a213"
      },
      "execution_count": null,
      "outputs": [
        {
          "output_type": "execute_result",
          "data": {
            "text/plain": [
              "     Age  Weight before pregnancy  Weight in late first trimester  \\\n",
              "239   29                     78.0                            78.8   \n",
              "59    40                     66.9                            67.1   \n",
              "406   28                     55.0                            55.6   \n",
              "391   30                     83.0                            84.0   \n",
              "411   32                     66.0                            66.9   \n",
              "\n",
              "     BMI before pregnancy  BMI in late first trimester  \\\n",
              "239                  35.5                         35.5   \n",
              "59                   26.2                         26.2   \n",
              "406                  22.7                         22.7   \n",
              "391                  35.9                         35.9   \n",
              "411                  28.2                         28.2   \n",
              "\n",
              "     DBP in early pregnancy  DBP in the late first trimester  \\\n",
              "239                1.500000                         1.714286   \n",
              "59                 1.571429                         1.428571   \n",
              "406                1.500000                         1.666667   \n",
              "391                1.375000                         1.571429   \n",
              "411                1.500000                         1.625000   \n",
              "\n",
              "     SBP in early pregnancy  SBP  in the late first trimester  \\\n",
              "239                1.500000                          1.714286   \n",
              "59                 1.571429                          1.428571   \n",
              "406                1.500000                          1.666667   \n",
              "391                1.375000                          1.571429   \n",
              "411                1.500000                          1.625000   \n",
              "\n",
              "     Hemoglobin level measured in the first trimester  ...  PAPP-A(mlU/ml)  \\\n",
              "239                                              11.1  ...           3.267   \n",
              "59                                               12.6  ...           0.490   \n",
              "406                                              11.2  ...           3.950   \n",
              "391                                              11.5  ...           3.066   \n",
              "411                                              12.6  ...           1.300   \n",
              "\n",
              "     F B-hCG (ng/ml)  Gravidity_n  Parity_n  Protein  Smoking  Alcohol  \\\n",
              "239           15.200            9         0        0        0        0   \n",
              "59             0.893            8         1        0        0        0   \n",
              "406           42.180            7         1        0        0        0   \n",
              "391           22.260            7         1        0        0        0   \n",
              "411           99.630            9         0        0        0        0   \n",
              "\n",
              "     Hypertension  History of Preeclampsia  Diabetese  \n",
              "239             0                        0          0  \n",
              "59              0                        0          0  \n",
              "406             0                        0          0  \n",
              "391             0                        0          0  \n",
              "411             0                        0          0  \n",
              "\n",
              "[5 rows x 27 columns]"
            ],
            "text/html": [
              "\n",
              "  <div id=\"df-5d643cdd-64cb-41b4-b2bf-dab97b4c398b\" class=\"colab-df-container\">\n",
              "    <div>\n",
              "<style scoped>\n",
              "    .dataframe tbody tr th:only-of-type {\n",
              "        vertical-align: middle;\n",
              "    }\n",
              "\n",
              "    .dataframe tbody tr th {\n",
              "        vertical-align: top;\n",
              "    }\n",
              "\n",
              "    .dataframe thead th {\n",
              "        text-align: right;\n",
              "    }\n",
              "</style>\n",
              "<table border=\"1\" class=\"dataframe\">\n",
              "  <thead>\n",
              "    <tr style=\"text-align: right;\">\n",
              "      <th></th>\n",
              "      <th>Age</th>\n",
              "      <th>Weight before pregnancy</th>\n",
              "      <th>Weight in late first trimester</th>\n",
              "      <th>BMI before pregnancy</th>\n",
              "      <th>BMI in late first trimester</th>\n",
              "      <th>DBP in early pregnancy</th>\n",
              "      <th>DBP in the late first trimester</th>\n",
              "      <th>SBP in early pregnancy</th>\n",
              "      <th>SBP  in the late first trimester</th>\n",
              "      <th>Hemoglobin level measured in the first trimester</th>\n",
              "      <th>...</th>\n",
              "      <th>PAPP-A(mlU/ml)</th>\n",
              "      <th>F B-hCG (ng/ml)</th>\n",
              "      <th>Gravidity_n</th>\n",
              "      <th>Parity_n</th>\n",
              "      <th>Protein</th>\n",
              "      <th>Smoking</th>\n",
              "      <th>Alcohol</th>\n",
              "      <th>Hypertension</th>\n",
              "      <th>History of Preeclampsia</th>\n",
              "      <th>Diabetese</th>\n",
              "    </tr>\n",
              "  </thead>\n",
              "  <tbody>\n",
              "    <tr>\n",
              "      <th>239</th>\n",
              "      <td>29</td>\n",
              "      <td>78.0</td>\n",
              "      <td>78.8</td>\n",
              "      <td>35.5</td>\n",
              "      <td>35.5</td>\n",
              "      <td>1.500000</td>\n",
              "      <td>1.714286</td>\n",
              "      <td>1.500000</td>\n",
              "      <td>1.714286</td>\n",
              "      <td>11.1</td>\n",
              "      <td>...</td>\n",
              "      <td>3.267</td>\n",
              "      <td>15.200</td>\n",
              "      <td>9</td>\n",
              "      <td>0</td>\n",
              "      <td>0</td>\n",
              "      <td>0</td>\n",
              "      <td>0</td>\n",
              "      <td>0</td>\n",
              "      <td>0</td>\n",
              "      <td>0</td>\n",
              "    </tr>\n",
              "    <tr>\n",
              "      <th>59</th>\n",
              "      <td>40</td>\n",
              "      <td>66.9</td>\n",
              "      <td>67.1</td>\n",
              "      <td>26.2</td>\n",
              "      <td>26.2</td>\n",
              "      <td>1.571429</td>\n",
              "      <td>1.428571</td>\n",
              "      <td>1.571429</td>\n",
              "      <td>1.428571</td>\n",
              "      <td>12.6</td>\n",
              "      <td>...</td>\n",
              "      <td>0.490</td>\n",
              "      <td>0.893</td>\n",
              "      <td>8</td>\n",
              "      <td>1</td>\n",
              "      <td>0</td>\n",
              "      <td>0</td>\n",
              "      <td>0</td>\n",
              "      <td>0</td>\n",
              "      <td>0</td>\n",
              "      <td>0</td>\n",
              "    </tr>\n",
              "    <tr>\n",
              "      <th>406</th>\n",
              "      <td>28</td>\n",
              "      <td>55.0</td>\n",
              "      <td>55.6</td>\n",
              "      <td>22.7</td>\n",
              "      <td>22.7</td>\n",
              "      <td>1.500000</td>\n",
              "      <td>1.666667</td>\n",
              "      <td>1.500000</td>\n",
              "      <td>1.666667</td>\n",
              "      <td>11.2</td>\n",
              "      <td>...</td>\n",
              "      <td>3.950</td>\n",
              "      <td>42.180</td>\n",
              "      <td>7</td>\n",
              "      <td>1</td>\n",
              "      <td>0</td>\n",
              "      <td>0</td>\n",
              "      <td>0</td>\n",
              "      <td>0</td>\n",
              "      <td>0</td>\n",
              "      <td>0</td>\n",
              "    </tr>\n",
              "    <tr>\n",
              "      <th>391</th>\n",
              "      <td>30</td>\n",
              "      <td>83.0</td>\n",
              "      <td>84.0</td>\n",
              "      <td>35.9</td>\n",
              "      <td>35.9</td>\n",
              "      <td>1.375000</td>\n",
              "      <td>1.571429</td>\n",
              "      <td>1.375000</td>\n",
              "      <td>1.571429</td>\n",
              "      <td>11.5</td>\n",
              "      <td>...</td>\n",
              "      <td>3.066</td>\n",
              "      <td>22.260</td>\n",
              "      <td>7</td>\n",
              "      <td>1</td>\n",
              "      <td>0</td>\n",
              "      <td>0</td>\n",
              "      <td>0</td>\n",
              "      <td>0</td>\n",
              "      <td>0</td>\n",
              "      <td>0</td>\n",
              "    </tr>\n",
              "    <tr>\n",
              "      <th>411</th>\n",
              "      <td>32</td>\n",
              "      <td>66.0</td>\n",
              "      <td>66.9</td>\n",
              "      <td>28.2</td>\n",
              "      <td>28.2</td>\n",
              "      <td>1.500000</td>\n",
              "      <td>1.625000</td>\n",
              "      <td>1.500000</td>\n",
              "      <td>1.625000</td>\n",
              "      <td>12.6</td>\n",
              "      <td>...</td>\n",
              "      <td>1.300</td>\n",
              "      <td>99.630</td>\n",
              "      <td>9</td>\n",
              "      <td>0</td>\n",
              "      <td>0</td>\n",
              "      <td>0</td>\n",
              "      <td>0</td>\n",
              "      <td>0</td>\n",
              "      <td>0</td>\n",
              "      <td>0</td>\n",
              "    </tr>\n",
              "  </tbody>\n",
              "</table>\n",
              "<p>5 rows × 27 columns</p>\n",
              "</div>\n",
              "    <div class=\"colab-df-buttons\">\n",
              "\n",
              "  <div class=\"colab-df-container\">\n",
              "    <button class=\"colab-df-convert\" onclick=\"convertToInteractive('df-5d643cdd-64cb-41b4-b2bf-dab97b4c398b')\"\n",
              "            title=\"Convert this dataframe to an interactive table.\"\n",
              "            style=\"display:none;\">\n",
              "\n",
              "  <svg xmlns=\"http://www.w3.org/2000/svg\" height=\"24px\" viewBox=\"0 -960 960 960\">\n",
              "    <path d=\"M120-120v-720h720v720H120Zm60-500h600v-160H180v160Zm220 220h160v-160H400v160Zm0 220h160v-160H400v160ZM180-400h160v-160H180v160Zm440 0h160v-160H620v160ZM180-180h160v-160H180v160Zm440 0h160v-160H620v160Z\"/>\n",
              "  </svg>\n",
              "    </button>\n",
              "\n",
              "  <style>\n",
              "    .colab-df-container {\n",
              "      display:flex;\n",
              "      gap: 12px;\n",
              "    }\n",
              "\n",
              "    .colab-df-convert {\n",
              "      background-color: #E8F0FE;\n",
              "      border: none;\n",
              "      border-radius: 50%;\n",
              "      cursor: pointer;\n",
              "      display: none;\n",
              "      fill: #1967D2;\n",
              "      height: 32px;\n",
              "      padding: 0 0 0 0;\n",
              "      width: 32px;\n",
              "    }\n",
              "\n",
              "    .colab-df-convert:hover {\n",
              "      background-color: #E2EBFA;\n",
              "      box-shadow: 0px 1px 2px rgba(60, 64, 67, 0.3), 0px 1px 3px 1px rgba(60, 64, 67, 0.15);\n",
              "      fill: #174EA6;\n",
              "    }\n",
              "\n",
              "    .colab-df-buttons div {\n",
              "      margin-bottom: 4px;\n",
              "    }\n",
              "\n",
              "    [theme=dark] .colab-df-convert {\n",
              "      background-color: #3B4455;\n",
              "      fill: #D2E3FC;\n",
              "    }\n",
              "\n",
              "    [theme=dark] .colab-df-convert:hover {\n",
              "      background-color: #434B5C;\n",
              "      box-shadow: 0px 1px 3px 1px rgba(0, 0, 0, 0.15);\n",
              "      filter: drop-shadow(0px 1px 2px rgba(0, 0, 0, 0.3));\n",
              "      fill: #FFFFFF;\n",
              "    }\n",
              "  </style>\n",
              "\n",
              "    <script>\n",
              "      const buttonEl =\n",
              "        document.querySelector('#df-5d643cdd-64cb-41b4-b2bf-dab97b4c398b button.colab-df-convert');\n",
              "      buttonEl.style.display =\n",
              "        google.colab.kernel.accessAllowed ? 'block' : 'none';\n",
              "\n",
              "      async function convertToInteractive(key) {\n",
              "        const element = document.querySelector('#df-5d643cdd-64cb-41b4-b2bf-dab97b4c398b');\n",
              "        const dataTable =\n",
              "          await google.colab.kernel.invokeFunction('convertToInteractive',\n",
              "                                                    [key], {});\n",
              "        if (!dataTable) return;\n",
              "\n",
              "        const docLinkHtml = 'Like what you see? Visit the ' +\n",
              "          '<a target=\"_blank\" href=https://colab.research.google.com/notebooks/data_table.ipynb>data table notebook</a>'\n",
              "          + ' to learn more about interactive tables.';\n",
              "        element.innerHTML = '';\n",
              "        dataTable['output_type'] = 'display_data';\n",
              "        await google.colab.output.renderOutput(dataTable, element);\n",
              "        const docLink = document.createElement('div');\n",
              "        docLink.innerHTML = docLinkHtml;\n",
              "        element.appendChild(docLink);\n",
              "      }\n",
              "    </script>\n",
              "  </div>\n",
              "\n",
              "\n",
              "<div id=\"df-a711137d-fefa-42c7-92df-1a7f56009e6e\">\n",
              "  <button class=\"colab-df-quickchart\" onclick=\"quickchart('df-a711137d-fefa-42c7-92df-1a7f56009e6e')\"\n",
              "            title=\"Suggest charts\"\n",
              "            style=\"display:none;\">\n",
              "\n",
              "<svg xmlns=\"http://www.w3.org/2000/svg\" height=\"24px\"viewBox=\"0 0 24 24\"\n",
              "     width=\"24px\">\n",
              "    <g>\n",
              "        <path d=\"M19 3H5c-1.1 0-2 .9-2 2v14c0 1.1.9 2 2 2h14c1.1 0 2-.9 2-2V5c0-1.1-.9-2-2-2zM9 17H7v-7h2v7zm4 0h-2V7h2v10zm4 0h-2v-4h2v4z\"/>\n",
              "    </g>\n",
              "</svg>\n",
              "  </button>\n",
              "\n",
              "<style>\n",
              "  .colab-df-quickchart {\n",
              "      --bg-color: #E8F0FE;\n",
              "      --fill-color: #1967D2;\n",
              "      --hover-bg-color: #E2EBFA;\n",
              "      --hover-fill-color: #174EA6;\n",
              "      --disabled-fill-color: #AAA;\n",
              "      --disabled-bg-color: #DDD;\n",
              "  }\n",
              "\n",
              "  [theme=dark] .colab-df-quickchart {\n",
              "      --bg-color: #3B4455;\n",
              "      --fill-color: #D2E3FC;\n",
              "      --hover-bg-color: #434B5C;\n",
              "      --hover-fill-color: #FFFFFF;\n",
              "      --disabled-bg-color: #3B4455;\n",
              "      --disabled-fill-color: #666;\n",
              "  }\n",
              "\n",
              "  .colab-df-quickchart {\n",
              "    background-color: var(--bg-color);\n",
              "    border: none;\n",
              "    border-radius: 50%;\n",
              "    cursor: pointer;\n",
              "    display: none;\n",
              "    fill: var(--fill-color);\n",
              "    height: 32px;\n",
              "    padding: 0;\n",
              "    width: 32px;\n",
              "  }\n",
              "\n",
              "  .colab-df-quickchart:hover {\n",
              "    background-color: var(--hover-bg-color);\n",
              "    box-shadow: 0 1px 2px rgba(60, 64, 67, 0.3), 0 1px 3px 1px rgba(60, 64, 67, 0.15);\n",
              "    fill: var(--button-hover-fill-color);\n",
              "  }\n",
              "\n",
              "  .colab-df-quickchart-complete:disabled,\n",
              "  .colab-df-quickchart-complete:disabled:hover {\n",
              "    background-color: var(--disabled-bg-color);\n",
              "    fill: var(--disabled-fill-color);\n",
              "    box-shadow: none;\n",
              "  }\n",
              "\n",
              "  .colab-df-spinner {\n",
              "    border: 2px solid var(--fill-color);\n",
              "    border-color: transparent;\n",
              "    border-bottom-color: var(--fill-color);\n",
              "    animation:\n",
              "      spin 1s steps(1) infinite;\n",
              "  }\n",
              "\n",
              "  @keyframes spin {\n",
              "    0% {\n",
              "      border-color: transparent;\n",
              "      border-bottom-color: var(--fill-color);\n",
              "      border-left-color: var(--fill-color);\n",
              "    }\n",
              "    20% {\n",
              "      border-color: transparent;\n",
              "      border-left-color: var(--fill-color);\n",
              "      border-top-color: var(--fill-color);\n",
              "    }\n",
              "    30% {\n",
              "      border-color: transparent;\n",
              "      border-left-color: var(--fill-color);\n",
              "      border-top-color: var(--fill-color);\n",
              "      border-right-color: var(--fill-color);\n",
              "    }\n",
              "    40% {\n",
              "      border-color: transparent;\n",
              "      border-right-color: var(--fill-color);\n",
              "      border-top-color: var(--fill-color);\n",
              "    }\n",
              "    60% {\n",
              "      border-color: transparent;\n",
              "      border-right-color: var(--fill-color);\n",
              "    }\n",
              "    80% {\n",
              "      border-color: transparent;\n",
              "      border-right-color: var(--fill-color);\n",
              "      border-bottom-color: var(--fill-color);\n",
              "    }\n",
              "    90% {\n",
              "      border-color: transparent;\n",
              "      border-bottom-color: var(--fill-color);\n",
              "    }\n",
              "  }\n",
              "</style>\n",
              "\n",
              "  <script>\n",
              "    async function quickchart(key) {\n",
              "      const quickchartButtonEl =\n",
              "        document.querySelector('#' + key + ' button');\n",
              "      quickchartButtonEl.disabled = true;  // To prevent multiple clicks.\n",
              "      quickchartButtonEl.classList.add('colab-df-spinner');\n",
              "      try {\n",
              "        const charts = await google.colab.kernel.invokeFunction(\n",
              "            'suggestCharts', [key], {});\n",
              "      } catch (error) {\n",
              "        console.error('Error during call to suggestCharts:', error);\n",
              "      }\n",
              "      quickchartButtonEl.classList.remove('colab-df-spinner');\n",
              "      quickchartButtonEl.classList.add('colab-df-quickchart-complete');\n",
              "    }\n",
              "    (() => {\n",
              "      let quickchartButtonEl =\n",
              "        document.querySelector('#df-a711137d-fefa-42c7-92df-1a7f56009e6e button');\n",
              "      quickchartButtonEl.style.display =\n",
              "        google.colab.kernel.accessAllowed ? 'block' : 'none';\n",
              "    })();\n",
              "  </script>\n",
              "</div>\n",
              "\n",
              "    </div>\n",
              "  </div>\n"
            ],
            "application/vnd.google.colaboratory.intrinsic+json": {
              "type": "dataframe",
              "variable_name": "X_train"
            }
          },
          "metadata": {},
          "execution_count": 104
        }
      ]
    },
    {
      "cell_type": "markdown",
      "source": [
        "### **Model Evaluation**"
      ],
      "metadata": {
        "id": "K1wqo8t1QJ5X"
      }
    },
    {
      "cell_type": "code",
      "source": [
        "from sklearn.ensemble import RandomForestClassifier\n",
        "model_rf = RandomForestClassifier(n_estimators=50)\n",
        "model_rf.fit(X_train, y_train)"
      ],
      "metadata": {
        "id": "c1lftPOOHxpq",
        "colab": {
          "base_uri": "https://localhost:8080/",
          "height": 74
        },
        "outputId": "cb256399-d047-48f1-92f8-65f85d7d48dd"
      },
      "execution_count": null,
      "outputs": [
        {
          "output_type": "execute_result",
          "data": {
            "text/plain": [
              "RandomForestClassifier(n_estimators=50)"
            ],
            "text/html": [
              "<style>#sk-container-id-4 {color: black;background-color: white;}#sk-container-id-4 pre{padding: 0;}#sk-container-id-4 div.sk-toggleable {background-color: white;}#sk-container-id-4 label.sk-toggleable__label {cursor: pointer;display: block;width: 100%;margin-bottom: 0;padding: 0.3em;box-sizing: border-box;text-align: center;}#sk-container-id-4 label.sk-toggleable__label-arrow:before {content: \"▸\";float: left;margin-right: 0.25em;color: #696969;}#sk-container-id-4 label.sk-toggleable__label-arrow:hover:before {color: black;}#sk-container-id-4 div.sk-estimator:hover label.sk-toggleable__label-arrow:before {color: black;}#sk-container-id-4 div.sk-toggleable__content {max-height: 0;max-width: 0;overflow: hidden;text-align: left;background-color: #f0f8ff;}#sk-container-id-4 div.sk-toggleable__content pre {margin: 0.2em;color: black;border-radius: 0.25em;background-color: #f0f8ff;}#sk-container-id-4 input.sk-toggleable__control:checked~div.sk-toggleable__content {max-height: 200px;max-width: 100%;overflow: auto;}#sk-container-id-4 input.sk-toggleable__control:checked~label.sk-toggleable__label-arrow:before {content: \"▾\";}#sk-container-id-4 div.sk-estimator input.sk-toggleable__control:checked~label.sk-toggleable__label {background-color: #d4ebff;}#sk-container-id-4 div.sk-label input.sk-toggleable__control:checked~label.sk-toggleable__label {background-color: #d4ebff;}#sk-container-id-4 input.sk-hidden--visually {border: 0;clip: rect(1px 1px 1px 1px);clip: rect(1px, 1px, 1px, 1px);height: 1px;margin: -1px;overflow: hidden;padding: 0;position: absolute;width: 1px;}#sk-container-id-4 div.sk-estimator {font-family: monospace;background-color: #f0f8ff;border: 1px dotted black;border-radius: 0.25em;box-sizing: border-box;margin-bottom: 0.5em;}#sk-container-id-4 div.sk-estimator:hover {background-color: #d4ebff;}#sk-container-id-4 div.sk-parallel-item::after {content: \"\";width: 100%;border-bottom: 1px solid gray;flex-grow: 1;}#sk-container-id-4 div.sk-label:hover label.sk-toggleable__label {background-color: #d4ebff;}#sk-container-id-4 div.sk-serial::before {content: \"\";position: absolute;border-left: 1px solid gray;box-sizing: border-box;top: 0;bottom: 0;left: 50%;z-index: 0;}#sk-container-id-4 div.sk-serial {display: flex;flex-direction: column;align-items: center;background-color: white;padding-right: 0.2em;padding-left: 0.2em;position: relative;}#sk-container-id-4 div.sk-item {position: relative;z-index: 1;}#sk-container-id-4 div.sk-parallel {display: flex;align-items: stretch;justify-content: center;background-color: white;position: relative;}#sk-container-id-4 div.sk-item::before, #sk-container-id-4 div.sk-parallel-item::before {content: \"\";position: absolute;border-left: 1px solid gray;box-sizing: border-box;top: 0;bottom: 0;left: 50%;z-index: -1;}#sk-container-id-4 div.sk-parallel-item {display: flex;flex-direction: column;z-index: 1;position: relative;background-color: white;}#sk-container-id-4 div.sk-parallel-item:first-child::after {align-self: flex-end;width: 50%;}#sk-container-id-4 div.sk-parallel-item:last-child::after {align-self: flex-start;width: 50%;}#sk-container-id-4 div.sk-parallel-item:only-child::after {width: 0;}#sk-container-id-4 div.sk-dashed-wrapped {border: 1px dashed gray;margin: 0 0.4em 0.5em 0.4em;box-sizing: border-box;padding-bottom: 0.4em;background-color: white;}#sk-container-id-4 div.sk-label label {font-family: monospace;font-weight: bold;display: inline-block;line-height: 1.2em;}#sk-container-id-4 div.sk-label-container {text-align: center;}#sk-container-id-4 div.sk-container {/* jupyter's `normalize.less` sets `[hidden] { display: none; }` but bootstrap.min.css set `[hidden] { display: none !important; }` so we also need the `!important` here to be able to override the default hidden behavior on the sphinx rendered scikit-learn.org. See: https://github.com/scikit-learn/scikit-learn/issues/21755 */display: inline-block !important;position: relative;}#sk-container-id-4 div.sk-text-repr-fallback {display: none;}</style><div id=\"sk-container-id-4\" class=\"sk-top-container\"><div class=\"sk-text-repr-fallback\"><pre>RandomForestClassifier(n_estimators=50)</pre><b>In a Jupyter environment, please rerun this cell to show the HTML representation or trust the notebook. <br />On GitHub, the HTML representation is unable to render, please try loading this page with nbviewer.org.</b></div><div class=\"sk-container\" hidden><div class=\"sk-item\"><div class=\"sk-estimator sk-toggleable\"><input class=\"sk-toggleable__control sk-hidden--visually\" id=\"sk-estimator-id-4\" type=\"checkbox\" checked><label for=\"sk-estimator-id-4\" class=\"sk-toggleable__label sk-toggleable__label-arrow\">RandomForestClassifier</label><div class=\"sk-toggleable__content\"><pre>RandomForestClassifier(n_estimators=50)</pre></div></div></div></div></div>"
            ]
          },
          "metadata": {},
          "execution_count": 105
        }
      ]
    },
    {
      "cell_type": "code",
      "source": [
        "print(model_rf.score(X_test, y_test))\n",
        "pred=model_rf.predict(X_test)"
      ],
      "metadata": {
        "id": "Cpzp3WT1H0z7",
        "colab": {
          "base_uri": "https://localhost:8080/"
        },
        "outputId": "ac4b77a4-cb08-4942-a493-c9bb1b1dcb19"
      },
      "execution_count": null,
      "outputs": [
        {
          "output_type": "stream",
          "name": "stdout",
          "text": [
            "0.92\n"
          ]
        }
      ]
    },
    {
      "cell_type": "code",
      "source": [
        "from sklearn.metrics import roc_auc_score, confusion_matrix\n",
        "\n",
        "auroc = roc_auc_score(y_test, pred)\n",
        "\n",
        "confusion = confusion_matrix(y_test, pred)\n",
        "\n",
        "# Extract true positives (TP), true negatives (TN), false positives (FP), and false negatives (FN)\n",
        "TN, FP, FN, TP = confusion.ravel()\n",
        "\n",
        "# Calculate Sensitivity (True Positive Rate or Recall)\n",
        "sensitivity = TP / (TP + FN)\n",
        "\n",
        "# Calculate Specificity\n",
        "specificity = TN / (TN + FP)\n",
        "\n",
        "# Calculate Positive Predictive Value (PPV)\n",
        "ppv = TP / (TP + FP)\n",
        "\n",
        "# Calculate Negative Predictive Value (NPV)\n",
        "npv = TN / (TN + FN)\n",
        "\n",
        "print(TN, FP, FN, TP)\n",
        "\n",
        "print(\"AUROC:\", auroc)\n",
        "print(\"Sensitivity (True Positive Rate or Recall):\", sensitivity)\n",
        "print(\"Specificity:\", specificity)\n",
        "print(\"Positive Predictive Value (PPV):\", ppv)\n",
        "print(\"Negative Predictive Value (NPV):\", npv)\n"
      ],
      "metadata": {
        "id": "oC_2WF8LTQd9",
        "colab": {
          "base_uri": "https://localhost:8080/"
        },
        "outputId": "a6f84f1a-00d9-4206-e1f0-234c76458ea5"
      },
      "execution_count": null,
      "outputs": [
        {
          "output_type": "stream",
          "name": "stdout",
          "text": [
            "101 0 10 14\n",
            "AUROC: 0.7916666666666667\n",
            "Sensitivity (True Positive Rate or Recall): 0.5833333333333334\n",
            "Specificity: 1.0\n",
            "Positive Predictive Value (PPV): 1.0\n",
            "Negative Predictive Value (NPV): 0.9099099099099099\n"
          ]
        }
      ]
    },
    {
      "cell_type": "code",
      "source": [
        "listpred_bf= [[32,52,54,24,24.30,1.4444,1.77777,1.44444,1.777778,10.90,11.20,1.2,70.0,1.30,50.1,1.3,0.99,0.92,59.970,8.0,1.0,0.0,0.0,0.0,0.0,0.0,0.0]]\n",
        "testpred_bf= np.array(listpred_bf)\n",
        "a=model_rf.predict(testpred_bf)\n",
        "print(a)"
      ],
      "metadata": {
        "id": "kRwmPk2cH3KR",
        "colab": {
          "base_uri": "https://localhost:8080/"
        },
        "outputId": "8cce2366-2fdc-44a4-b7bd-44bbe243f0b9"
      },
      "execution_count": null,
      "outputs": [
        {
          "output_type": "stream",
          "name": "stdout",
          "text": [
            "[1]\n"
          ]
        },
        {
          "output_type": "stream",
          "name": "stderr",
          "text": [
            "/usr/local/lib/python3.10/dist-packages/sklearn/base.py:439: UserWarning: X does not have valid feature names, but RandomForestClassifier was fitted with feature names\n",
            "  warnings.warn(\n"
          ]
        }
      ]
    },
    {
      "cell_type": "code",
      "source": [
        "df.iloc[5]"
      ],
      "metadata": {
        "id": "MTRH9m8RH5ws",
        "colab": {
          "base_uri": "https://localhost:8080/"
        },
        "outputId": "c34664bb-7605-4cb7-8fa9-e07bfc0ccb21"
      },
      "execution_count": null,
      "outputs": [
        {
          "output_type": "execute_result",
          "data": {
            "text/plain": [
              "Preeclampsia(1)/NA(0)                                          1.000000\n",
              "Age                                                           32.000000\n",
              "Weight before pregnancy                                       52.000000\n",
              "Weight in late first trimester                                54.000000\n",
              "BMI before pregnancy                                          24.000000\n",
              "BMI in late first trimester                                   24.300000\n",
              "DBP in early pregnancy                                         1.444444\n",
              "DBP in the late first trimester                                1.777778\n",
              "SBP in early pregnancy                                         1.444444\n",
              "SBP  in the late first trimester                               1.777778\n",
              "Hemoglobin level measured in the first trimester              10.900000\n",
              "Hemoglobin level measured in the second or third trimester    11.200000\n",
              "MAP                                                            1.200000\n",
              "CRL                                                           70.000000\n",
              "NT                                                             1.300000\n",
              "BPD                                                           50.100000\n",
              "PI-R                                                           1.300000\n",
              "PI-L                                                           0.990000\n",
              "PAPP-A(mlU/ml)                                                 0.929000\n",
              "F B-hCG (ng/ml)                                               59.970000\n",
              "Gravidity_n                                                    8.000000\n",
              "Parity_n                                                       1.000000\n",
              "Protein                                                        0.000000\n",
              "Smoking                                                        0.000000\n",
              "Alcohol                                                        0.000000\n",
              "Hypertension                                                   0.000000\n",
              "History of Preeclampsia                                        0.000000\n",
              "Diabetese                                                      0.000000\n",
              "Name: 5, dtype: float64"
            ]
          },
          "metadata": {},
          "execution_count": 109
        }
      ]
    },
    {
      "cell_type": "code",
      "source": [
        "from sklearn.svm import SVC\n",
        "model_svm = SVC()\n",
        "model_svm.fit(X_train, y_train)\n",
        "model_svm.score(X_test, y_test)"
      ],
      "metadata": {
        "id": "t4RTIo8hH9s0",
        "colab": {
          "base_uri": "https://localhost:8080/"
        },
        "outputId": "0fa30652-f96d-4920-a533-db510cd8bb68"
      },
      "execution_count": null,
      "outputs": [
        {
          "output_type": "execute_result",
          "data": {
            "text/plain": [
              "0.832"
            ]
          },
          "metadata": {},
          "execution_count": 110
        }
      ]
    },
    {
      "cell_type": "code",
      "source": [
        "pred_svm=model_svm.predict(X_test)\n",
        "print(pred_svm)\n",
        "print(y_test)"
      ],
      "metadata": {
        "id": "SI6dAKWGXX60",
        "colab": {
          "base_uri": "https://localhost:8080/"
        },
        "outputId": "8f040b2d-0ab4-41ea-91ce-f83c99317b60"
      },
      "execution_count": null,
      "outputs": [
        {
          "output_type": "stream",
          "name": "stdout",
          "text": [
            "[0 0 0 0 0 0 0 0 0 0 0 0 0 0 0 0 0 0 0 0 0 0 0 0 0 0 0 0 0 0 0 0 0 0 0 0 0\n",
            " 0 0 0 0 0 0 0 0 0 0 0 1 0 0 0 0 0 0 0 0 0 0 0 0 1 0 0 0 0 0 0 0 0 0 0 0 0\n",
            " 0 0 0 0 0 0 0 0 1 0 0 0 0 1 0 0 0 0 0 0 0 0 0 0 0 0 0 0 0 0 0 1 1 0 0 0 0\n",
            " 0 0 0 0 1 0 0 0 0 0 0 0 0 0]\n",
            "90     0\n",
            "254    0\n",
            "283    0\n",
            "445    0\n",
            "461    0\n",
            "      ..\n",
            "430    0\n",
            "49     0\n",
            "134    0\n",
            "365    0\n",
            "413    1\n",
            "Name: Preeclampsia(1)/NA(0), Length: 125, dtype: int64\n"
          ]
        }
      ]
    },
    {
      "cell_type": "code",
      "source": [
        "from sklearn import tree\n",
        "model_dt = tree.DecisionTreeClassifier()\n",
        "model_dt.fit(X_train, y_train)\n",
        "print(model_dt.score(X_test, y_test))\n",
        "pred_dt=model_svm.predict(X_test)"
      ],
      "metadata": {
        "id": "3PEqOAukIABC",
        "colab": {
          "base_uri": "https://localhost:8080/"
        },
        "outputId": "46da58ff-7dd4-4531-8110-4a9f0285a53d"
      },
      "execution_count": null,
      "outputs": [
        {
          "output_type": "stream",
          "name": "stdout",
          "text": [
            "0.92\n"
          ]
        }
      ]
    },
    {
      "cell_type": "code",
      "source": [
        "from sklearn.linear_model import LogisticRegression\n",
        "model_lr = LogisticRegression()\n",
        "model_lr.fit(X_train, y_train)\n",
        "print(model_lr.score(X_test, y_test))\n",
        "pred=model_lr.predict(X_test)"
      ],
      "metadata": {
        "id": "ZEYajPhMIBrl",
        "colab": {
          "base_uri": "https://localhost:8080/"
        },
        "outputId": "94b86823-2eeb-4f1b-cdf2-b3f610fd3b62"
      },
      "execution_count": null,
      "outputs": [
        {
          "output_type": "stream",
          "name": "stdout",
          "text": [
            "0.896\n"
          ]
        },
        {
          "output_type": "stream",
          "name": "stderr",
          "text": [
            "/usr/local/lib/python3.10/dist-packages/sklearn/linear_model/_logistic.py:458: ConvergenceWarning: lbfgs failed to converge (status=1):\n",
            "STOP: TOTAL NO. of ITERATIONS REACHED LIMIT.\n",
            "\n",
            "Increase the number of iterations (max_iter) or scale the data as shown in:\n",
            "    https://scikit-learn.org/stable/modules/preprocessing.html\n",
            "Please also refer to the documentation for alternative solver options:\n",
            "    https://scikit-learn.org/stable/modules/linear_model.html#logistic-regression\n",
            "  n_iter_i = _check_optimize_result(\n"
          ]
        }
      ]
    },
    {
      "cell_type": "code",
      "source": [
        "from sklearn.metrics import roc_auc_score, confusion_matrix\n",
        "\n",
        "auroc = roc_auc_score(y_test, pred)\n",
        "\n",
        "# Calculate the confusion matrix\n",
        "threshold = 0.5  # Threshold for converting probabilities to binary predictions\n",
        "predicted_labels = [1 if p >= threshold else 0 for p in pred]\n",
        "confusion = confusion_matrix(y_test, pred)\n",
        "\n",
        "# Extract true positives (TP), true negatives (TN), false positives (FP), and false negatives (FN)\n",
        "TN, FP, FN, TP = confusion.ravel()\n",
        "\n",
        "# Calculate Sensitivity (True Positive Rate or Recall)\n",
        "sensitivity = TP / (TP + FN)\n",
        "\n",
        "# Calculate Specificity\n",
        "specificity = TN / (TN + FP)\n",
        "\n",
        "# Calculate Positive Predictive Value (PPV)\n",
        "ppv = TP / (TP + FP)\n",
        "\n",
        "# Calculate Negative Predictive Value (NPV)\n",
        "npv = TN / (TN + FN)\n",
        "\n",
        "print(\"AUROC:\", auroc)\n",
        "print(\"Sensitivity (True Positive Rate or Recall):\", sensitivity)\n",
        "print(\"Specificity:\", specificity)\n",
        "print(\"Positive Predictive Value (PPV):\", ppv)\n",
        "print(\"Negative Predictive Value (NPV):\", npv)\n"
      ],
      "metadata": {
        "id": "8ESlBs4UOKBx",
        "colab": {
          "base_uri": "https://localhost:8080/"
        },
        "outputId": "b53505d5-e332-4280-aa2f-4116ad4c9fc2"
      },
      "execution_count": null,
      "outputs": [
        {
          "output_type": "stream",
          "name": "stdout",
          "text": [
            "AUROC: 0.7609323432343233\n",
            "Sensitivity (True Positive Rate or Recall): 0.5416666666666666\n",
            "Specificity: 0.9801980198019802\n",
            "Positive Predictive Value (PPV): 0.8666666666666667\n",
            "Negative Predictive Value (NPV): 0.9\n"
          ]
        }
      ]
    },
    {
      "cell_type": "code",
      "source": [
        "from sklearn.ensemble import GradientBoostingClassifier\n",
        "model_gb = GradientBoostingClassifier(n_estimators=100, learning_rate=1.0, max_depth=1, random_state=0)\n",
        "model_gb.fit(X_train, y_train)\n",
        "accuracy_gb = model_gb.score(X_test, y_test)\n",
        "print(accuracy_gb)"
      ],
      "metadata": {
        "colab": {
          "base_uri": "https://localhost:8080/"
        },
        "id": "Xn_dzmiYHWNi",
        "outputId": "3382ef77-e36f-4ef1-f861-06bac5e7c831"
      },
      "execution_count": null,
      "outputs": [
        {
          "output_type": "stream",
          "name": "stdout",
          "text": [
            "0.904\n"
          ]
        }
      ]
    },
    {
      "cell_type": "code",
      "source": [
        "from sklearn.neighbors import KNeighborsClassifier\n",
        "from sklearn.metrics import accuracy_score\n",
        "\n",
        "knn_classifier = KNeighborsClassifier()\n",
        "\n",
        "# Fit the model to the training data\n",
        "knn_classifier.fit(X_train, y_train)\n",
        "\n",
        "# Evaluate the model on the test data\n",
        "pred_knn = knn_classifier.predict(X_test)\n",
        "\n",
        "# Print the accuracy score\n",
        "accuracy_knn = accuracy_score(y_test, pred_knn)\n",
        "print(f'KNN Accuracy: {accuracy_knn}')\n"
      ],
      "metadata": {
        "colab": {
          "base_uri": "https://localhost:8080/"
        },
        "id": "QZXmALjSHr5K",
        "outputId": "7677589f-6cf9-402a-92ee-b6cf6cdd8ff8"
      },
      "execution_count": null,
      "outputs": [
        {
          "output_type": "stream",
          "name": "stdout",
          "text": [
            "KNN Accuracy: 0.92\n"
          ]
        }
      ]
    },
    {
      "cell_type": "code",
      "source": [
        "from sklearn.cluster import DBSCAN\n",
        "import numpy as np\n",
        "import matplotlib.pyplot as plt\n",
        "\n",
        "# Assuming X_train is your training data\n",
        "# Initialize DBSCAN\n",
        "dbscan = DBSCAN(eps=0.5, min_samples=5)\n",
        "\n",
        "# Fit the DBSCAN model on the training data\n",
        "clusters = dbscan.fit_predict(X_train)\n",
        "\n",
        "# Evaluate the clustering (optional)\n",
        "unique_clusters = np.unique(clusters)\n",
        "n_clusters = len(unique_clusters) - 1 if -1 in unique_clusters else len(unique_clusters)\n",
        "\n",
        "print(f\"Number of clusters: {n_clusters}\")\n",
        "\n",
        "# Plot the clusters (2D data)\n",
        "if X_train.shape[1] == 2:\n",
        "    plt.scatter(X_train[:, 0], X_train[:, 1], c=clusters, cmap='rainbow', marker='o', edgecolors='black')\n",
        "    plt.xlabel('Feature 1')\n",
        "    plt.ylabel('Feature 2')\n",
        "    plt.title('DBSCAN Clustering')\n",
        "    plt.show()\n"
      ],
      "metadata": {
        "colab": {
          "base_uri": "https://localhost:8080/"
        },
        "id": "qh6XdBN-IJAH",
        "outputId": "9681178a-6449-4071-cf1b-c74960983eef"
      },
      "execution_count": null,
      "outputs": [
        {
          "output_type": "stream",
          "name": "stdout",
          "text": [
            "Number of clusters: 31\n"
          ]
        }
      ]
    },
    {
      "cell_type": "code",
      "source": [
        "from sklearn.metrics import silhouette_score\n",
        "\n",
        "# Compute the silhouette score\n",
        "silhouette_avg = silhouette_score(X_train, clusters)\n",
        "\n",
        "print(f\"Silhouette Score: {silhouette_avg}\")\n"
      ],
      "metadata": {
        "colab": {
          "base_uri": "https://localhost:8080/"
        },
        "id": "O--b1e1pJIff",
        "outputId": "4fb39fd1-450c-4921-f5ea-48ca932e3731"
      },
      "execution_count": null,
      "outputs": [
        {
          "output_type": "stream",
          "name": "stdout",
          "text": [
            "Silhouette Score: 0.5564371831759417\n"
          ]
        }
      ]
    },
    {
      "cell_type": "code",
      "source": [
        "from sklearn.naive_bayes import GaussianNB\n",
        "from sklearn.metrics import accuracy_score\n",
        "\n",
        "# Initialize Gaussian Naive Bayes classifier\n",
        "gnb = GaussianNB()\n",
        "\n",
        "# Fit the model\n",
        "gnb.fit(X_train, y_train)\n",
        "\n",
        "# Predict on test set\n",
        "y_pred = gnb.predict(X_test)\n",
        "\n",
        "# Calculate accuracy\n",
        "accuracy = accuracy_score(y_test, y_pred)\n",
        "\n",
        "print(f\"Accuracy of Gaussian Naive Bayes: {accuracy:.4f}\")\n"
      ],
      "metadata": {
        "colab": {
          "base_uri": "https://localhost:8080/"
        },
        "id": "iFcAcpBlQzmK",
        "outputId": "db97aae4-6c66-4b5c-d111-3ccf164c9300"
      },
      "execution_count": null,
      "outputs": [
        {
          "output_type": "stream",
          "name": "stdout",
          "text": [
            "Accuracy of Gaussian Naive Bayes: 0.4160\n"
          ]
        }
      ]
    },
    {
      "cell_type": "markdown",
      "source": [
        "## ***Feature Selection***"
      ],
      "metadata": {
        "id": "B8M2pP_WKCAd"
      }
    },
    {
      "cell_type": "markdown",
      "source": [
        "Feature Selection using **XGBoost**"
      ],
      "metadata": {
        "id": "quwjxp-LJOra"
      }
    },
    {
      "cell_type": "code",
      "source": [
        "from numpy import loadtxt\n",
        "from xgboost import XGBClassifier\n",
        "from xgboost import plot_importance\n",
        "from matplotlib import pyplot"
      ],
      "metadata": {
        "id": "H2NdPfj7Vfkq"
      },
      "execution_count": null,
      "outputs": []
    },
    {
      "cell_type": "code",
      "source": [
        "# fit model no training data\n",
        "model = XGBClassifier()\n",
        "model.fit(X_train, y_train)\n",
        "\n",
        "# plot feature importance\n",
        "plot_importance(model)\n",
        "pyplot.show()"
      ],
      "metadata": {
        "colab": {
          "base_uri": "https://localhost:8080/",
          "height": 472
        },
        "id": "SBLwrWxdVhia",
        "outputId": "6bd3ef8a-c72b-42d8-c8ea-14dfc754e43e"
      },
      "execution_count": null,
      "outputs": [
        {
          "output_type": "display_data",
          "data": {
            "text/plain": [
              "<Figure size 640x480 with 1 Axes>"
            ],
            "image/png": "[encoded data removed]"
          },
          "metadata": {}
        }
      ]
    },
    {
      "cell_type": "markdown",
      "source": [
        "**Fisher Score- Chisquare Test For Feature Selection**\n",
        "\n",
        "This score can be used to select the n_features features with the highest values for the test chi-squared statistic from X, which must contain only non-negative features such as booleans or frequencies (e.g., term counts in document classification), relative to the classes."
      ],
      "metadata": {
        "id": "Bc6zdBI-LQjb"
      }
    },
    {
      "cell_type": "code",
      "source": [
        "## Perform chi2 test\n",
        "### chi2 returns 2 values\n",
        "### Fscore and the pvalue\n",
        "from sklearn.feature_selection import chi2\n",
        "f_p_values=chi2(X_train,y_train)"
      ],
      "metadata": {
        "id": "d1Qn3oYyLoSi"
      },
      "execution_count": null,
      "outputs": []
    },
    {
      "cell_type": "code",
      "source": [
        "p_values=pd.Series(f_p_values[1])\n",
        "p_values.index=X_train.columns\n",
        "p_values"
      ],
      "metadata": {
        "id": "d0ZKeoafNnEU",
        "colab": {
          "base_uri": "https://localhost:8080/"
        },
        "outputId": "2c1921bc-7e34-4111-9116-beef6f0f4576"
      },
      "execution_count": null,
      "outputs": [
        {
          "output_type": "execute_result",
          "data": {
            "text/plain": [
              "Age                                                           1.452826e-04\n",
              "Weight before pregnancy                                       3.375381e-03\n",
              "Weight in late first trimester                                1.610714e-03\n",
              "BMI before pregnancy                                          2.788329e-02\n",
              "BMI in late first trimester                                   9.323333e-03\n",
              "DBP in early pregnancy                                        7.447160e-01\n",
              "DBP in the late first trimester                               5.899800e-01\n",
              "SBP in early pregnancy                                        7.576782e-01\n",
              "SBP  in the late first trimester                              6.008409e-01\n",
              "Hemoglobin level measured in the first trimester              2.734349e-04\n",
              "Hemoglobin level measured in the second or third trimester    4.479197e-19\n",
              "MAP                                                           6.073270e-01\n",
              "CRL                                                           3.387298e-05\n",
              "NT                                                            8.324774e-01\n",
              "BPD                                                           3.679220e-01\n",
              "PI-R                                                          6.390810e-01\n",
              "PI-L                                                          8.804195e-01\n",
              "PAPP-A(mlU/ml)                                                3.118953e-01\n",
              "F B-hCG (ng/ml)                                               5.934615e-56\n",
              "Gravidity_n                                                   3.914791e-01\n",
              "Parity_n                                                      9.181650e-01\n",
              "Protein                                                                NaN\n",
              "Smoking                                                                NaN\n",
              "Alcohol                                                                NaN\n",
              "Hypertension                                                           NaN\n",
              "History of Preeclampsia                                                NaN\n",
              "Diabetese                                                              NaN\n",
              "dtype: float64"
            ]
          },
          "metadata": {},
          "execution_count": 123
        }
      ]
    },
    {
      "cell_type": "code",
      "source": [
        "p_values.sort_values(ascending=False)"
      ],
      "metadata": {
        "id": "ECK9vNVbN4En",
        "colab": {
          "base_uri": "https://localhost:8080/"
        },
        "outputId": "579fb80f-8dd0-4da5-c942-228aaf701575"
      },
      "execution_count": null,
      "outputs": [
        {
          "output_type": "execute_result",
          "data": {
            "text/plain": [
              "Parity_n                                                      9.181650e-01\n",
              "PI-L                                                          8.804195e-01\n",
              "NT                                                            8.324774e-01\n",
              "SBP in early pregnancy                                        7.576782e-01\n",
              "DBP in early pregnancy                                        7.447160e-01\n",
              "PI-R                                                          6.390810e-01\n",
              "MAP                                                           6.073270e-01\n",
              "SBP  in the late first trimester                              6.008409e-01\n",
              "DBP in the late first trimester                               5.899800e-01\n",
              "Gravidity_n                                                   3.914791e-01\n",
              "BPD                                                           3.679220e-01\n",
              "PAPP-A(mlU/ml)                                                3.118953e-01\n",
              "BMI before pregnancy                                          2.788329e-02\n",
              "BMI in late first trimester                                   9.323333e-03\n",
              "Weight before pregnancy                                       3.375381e-03\n",
              "Weight in late first trimester                                1.610714e-03\n",
              "Hemoglobin level measured in the first trimester              2.734349e-04\n",
              "Age                                                           1.452826e-04\n",
              "CRL                                                           3.387298e-05\n",
              "Hemoglobin level measured in the second or third trimester    4.479197e-19\n",
              "F B-hCG (ng/ml)                                               5.934615e-56\n",
              "Protein                                                                NaN\n",
              "Smoking                                                                NaN\n",
              "Alcohol                                                                NaN\n",
              "Hypertension                                                           NaN\n",
              "History of Preeclampsia                                                NaN\n",
              "Diabetese                                                              NaN\n",
              "dtype: float64"
            ]
          },
          "metadata": {},
          "execution_count": 124
        }
      ]
    },
    {
      "cell_type": "markdown",
      "source": [
        "**SelectKBest** is a feature selection method in scikit-learn that selects the top k features based on a specified statistical test."
      ],
      "metadata": {
        "id": "3o1JGp3cEaEU"
      }
    },
    {
      "cell_type": "code",
      "source": [
        "from sklearn.feature_selection import SelectKBest, mutual_info_classif\n",
        "\n",
        "k = 10  # You can choose the desired number of features\n",
        "selector = SelectKBest(score_func=mutual_info_classif, k=k)\n",
        "X_train_selected = selector.fit_transform(X_train, y_train)\n",
        "\n",
        "# Get the names of the selected features\n",
        "selected_feature_names = X_train.columns[selector.get_support()]\n",
        "\n",
        "print(\"Selected Feature Names:\", selected_feature_names)\n"
      ],
      "metadata": {
        "colab": {
          "base_uri": "https://localhost:8080/"
        },
        "id": "pfxyY6gXiDca",
        "outputId": "d9c8dedc-e6c2-452a-8d5d-379e04db2326"
      },
      "execution_count": null,
      "outputs": [
        {
          "output_type": "stream",
          "name": "stdout",
          "text": [
            "Selected Feature Names: Index(['Weight before pregnancy', 'Weight in late first trimester',\n",
            "       'BMI in late first trimester', 'DBP in early pregnancy',\n",
            "       'DBP in the late first trimester', 'SBP in early pregnancy',\n",
            "       'SBP  in the late first trimester', 'CRL', 'BPD', 'PI-R'],\n",
            "      dtype='object')\n"
          ]
        }
      ]
    },
    {
      "cell_type": "markdown",
      "source": [
        "**Feature Selection Using Random Forest**"
      ],
      "metadata": {
        "id": "dh2z-UYmPHz8"
      }
    },
    {
      "cell_type": "code",
      "source": [
        "from sklearn.ensemble import RandomForestClassifier\n",
        "model = RandomForestClassifier(n_estimators=100)\n",
        "model.fit(X_train, y_train)"
      ],
      "metadata": {
        "id": "aIYiPtdIKz-b",
        "colab": {
          "base_uri": "https://localhost:8080/",
          "height": 74
        },
        "outputId": "0fd2b856-a865-4e7a-b2ec-1200064c5011"
      },
      "execution_count": null,
      "outputs": [
        {
          "output_type": "execute_result",
          "data": {
            "text/plain": [
              "RandomForestClassifier()"
            ],
            "text/html": [
              "<style>#sk-container-id-5 {color: black;background-color: white;}#sk-container-id-5 pre{padding: 0;}#sk-container-id-5 div.sk-toggleable {background-color: white;}#sk-container-id-5 label.sk-toggleable__label {cursor: pointer;display: block;width: 100%;margin-bottom: 0;padding: 0.3em;box-sizing: border-box;text-align: center;}#sk-container-id-5 label.sk-toggleable__label-arrow:before {content: \"▸\";float: left;margin-right: 0.25em;color: #696969;}#sk-container-id-5 label.sk-toggleable__label-arrow:hover:before {color: black;}#sk-container-id-5 div.sk-estimator:hover label.sk-toggleable__label-arrow:before {color: black;}#sk-container-id-5 div.sk-toggleable__content {max-height: 0;max-width: 0;overflow: hidden;text-align: left;background-color: #f0f8ff;}#sk-container-id-5 div.sk-toggleable__content pre {margin: 0.2em;color: black;border-radius: 0.25em;background-color: #f0f8ff;}#sk-container-id-5 input.sk-toggleable__control:checked~div.sk-toggleable__content {max-height: 200px;max-width: 100%;overflow: auto;}#sk-container-id-5 input.sk-toggleable__control:checked~label.sk-toggleable__label-arrow:before {content: \"▾\";}#sk-container-id-5 div.sk-estimator input.sk-toggleable__control:checked~label.sk-toggleable__label {background-color: #d4ebff;}#sk-container-id-5 div.sk-label input.sk-toggleable__control:checked~label.sk-toggleable__label {background-color: #d4ebff;}#sk-container-id-5 input.sk-hidden--visually {border: 0;clip: rect(1px 1px 1px 1px);clip: rect(1px, 1px, 1px, 1px);height: 1px;margin: -1px;overflow: hidden;padding: 0;position: absolute;width: 1px;}#sk-container-id-5 div.sk-estimator {font-family: monospace;background-color: #f0f8ff;border: 1px dotted black;border-radius: 0.25em;box-sizing: border-box;margin-bottom: 0.5em;}#sk-container-id-5 div.sk-estimator:hover {background-color: #d4ebff;}#sk-container-id-5 div.sk-parallel-item::after {content: \"\";width: 100%;border-bottom: 1px solid gray;flex-grow: 1;}#sk-container-id-5 div.sk-label:hover label.sk-toggleable__label {background-color: #d4ebff;}#sk-container-id-5 div.sk-serial::before {content: \"\";position: absolute;border-left: 1px solid gray;box-sizing: border-box;top: 0;bottom: 0;left: 50%;z-index: 0;}#sk-container-id-5 div.sk-serial {display: flex;flex-direction: column;align-items: center;background-color: white;padding-right: 0.2em;padding-left: 0.2em;position: relative;}#sk-container-id-5 div.sk-item {position: relative;z-index: 1;}#sk-container-id-5 div.sk-parallel {display: flex;align-items: stretch;justify-content: center;background-color: white;position: relative;}#sk-container-id-5 div.sk-item::before, #sk-container-id-5 div.sk-parallel-item::before {content: \"\";position: absolute;border-left: 1px solid gray;box-sizing: border-box;top: 0;bottom: 0;left: 50%;z-index: -1;}#sk-container-id-5 div.sk-parallel-item {display: flex;flex-direction: column;z-index: 1;position: relative;background-color: white;}#sk-container-id-5 div.sk-parallel-item:first-child::after {align-self: flex-end;width: 50%;}#sk-container-id-5 div.sk-parallel-item:last-child::after {align-self: flex-start;width: 50%;}#sk-container-id-5 div.sk-parallel-item:only-child::after {width: 0;}#sk-container-id-5 div.sk-dashed-wrapped {border: 1px dashed gray;margin: 0 0.4em 0.5em 0.4em;box-sizing: border-box;padding-bottom: 0.4em;background-color: white;}#sk-container-id-5 div.sk-label label {font-family: monospace;font-weight: bold;display: inline-block;line-height: 1.2em;}#sk-container-id-5 div.sk-label-container {text-align: center;}#sk-container-id-5 div.sk-container {/* jupyter's `normalize.less` sets `[hidden] { display: none; }` but bootstrap.min.css set `[hidden] { display: none !important; }` so we also need the `!important` here to be able to override the default hidden behavior on the sphinx rendered scikit-learn.org. See: https://github.com/scikit-learn/scikit-learn/issues/21755 */display: inline-block !important;position: relative;}#sk-container-id-5 div.sk-text-repr-fallback {display: none;}</style><div id=\"sk-container-id-5\" class=\"sk-top-container\"><div class=\"sk-text-repr-fallback\"><pre>RandomForestClassifier()</pre><b>In a Jupyter environment, please rerun this cell to show the HTML representation or trust the notebook. <br />On GitHub, the HTML representation is unable to render, please try loading this page with nbviewer.org.</b></div><div class=\"sk-container\" hidden><div class=\"sk-item\"><div class=\"sk-estimator sk-toggleable\"><input class=\"sk-toggleable__control sk-hidden--visually\" id=\"sk-estimator-id-5\" type=\"checkbox\" checked><label for=\"sk-estimator-id-5\" class=\"sk-toggleable__label sk-toggleable__label-arrow\">RandomForestClassifier</label><div class=\"sk-toggleable__content\"><pre>RandomForestClassifier()</pre></div></div></div></div></div>"
            ]
          },
          "metadata": {},
          "execution_count": 126
        }
      ]
    },
    {
      "cell_type": "code",
      "source": [
        "rf=model.feature_importances_\n",
        "rf = pd.Series(rf)\n",
        "rf.index = X_train.columns\n",
        "rf.sort_values(ascending=False)"
      ],
      "metadata": {
        "id": "zQjqnBUyK-FE",
        "colab": {
          "base_uri": "https://localhost:8080/"
        },
        "outputId": "4942fb1c-68d4-4bec-d9d2-f376b4270ed4"
      },
      "execution_count": null,
      "outputs": [
        {
          "output_type": "execute_result",
          "data": {
            "text/plain": [
              "DBP in the late first trimester                               0.138507\n",
              "Age                                                           0.116070\n",
              "SBP  in the late first trimester                              0.104215\n",
              "Weight in late first trimester                                0.073052\n",
              "PI-R                                                          0.059209\n",
              "BMI in late first trimester                                   0.043197\n",
              "MAP                                                           0.042716\n",
              "SBP in early pregnancy                                        0.042680\n",
              "F B-hCG (ng/ml)                                               0.042490\n",
              "Weight before pregnancy                                       0.040472\n",
              "PAPP-A(mlU/ml)                                                0.039452\n",
              "BPD                                                           0.035821\n",
              "CRL                                                           0.034209\n",
              "PI-L                                                          0.027703\n",
              "Hemoglobin level measured in the second or third trimester    0.027243\n",
              "BMI before pregnancy                                          0.026616\n",
              "Hemoglobin level measured in the first trimester              0.024235\n",
              "Parity_n                                                      0.022159\n",
              "NT                                                            0.021634\n",
              "DBP in early pregnancy                                        0.020650\n",
              "Gravidity_n                                                   0.017670\n",
              "Protein                                                       0.000000\n",
              "Smoking                                                       0.000000\n",
              "Alcohol                                                       0.000000\n",
              "Hypertension                                                  0.000000\n",
              "History of Preeclampsia                                       0.000000\n",
              "Diabetese                                                     0.000000\n",
              "dtype: float64"
            ]
          },
          "metadata": {},
          "execution_count": 127
        }
      ]
    },
    {
      "cell_type": "code",
      "source": [
        "rf.sort_values(ascending=False).plot.bar(figsize=(20, 8))"
      ],
      "metadata": {
        "id": "gnYC35L7Lb-w",
        "colab": {
          "base_uri": "https://localhost:8080/",
          "height": 967
        },
        "outputId": "e40966d9-96c9-4f4b-f1d7-d5e736821da6"
      },
      "execution_count": null,
      "outputs": [
        {
          "output_type": "execute_result",
          "data": {
            "text/plain": [
              "<Axes: >"
            ]
          },
          "metadata": {},
          "execution_count": 128
        },
        {
          "output_type": "display_data",
          "data": {
            "text/plain": [
              "<Figure size 2000x800 with 1 Axes>"
            ],
            "image/png": "[encoded data removed]"
          },
          "metadata": {}
        }
      ]
    },
    {
      "cell_type": "markdown",
      "source": [
        "## **Ensemble Feature Selection**\n",
        "\n",
        "**SelectKBes**t is a feature selection method in scikit-learn that selects the top k features based on a specified statistical test. In the case of SelectKBest(chi2, k=10), it uses the chi-squared (chi2) statistical test to select the top 10 features.\n",
        "\n",
        "**Recursive Feature Elimination (RFE):** RFE works by recursively fitting the model, ranking features based on their importance, and eliminating the least important features. This process continues until the desired number of features is reached.\n",
        "\n",
        "**Recursive Feature Elimination with Cross-Validation (RFECV):** RFECV extends RFE by performing feature elimination with cross-validation. It automatically finds the optimal number of features by evaluating the model's performance for different feature subsets. RFECV uses cross-validated performance scores to determine the optimal number of features."
      ],
      "metadata": {
        "id": "-KeHsH16-9Zo"
      }
    },
    {
      "cell_type": "markdown",
      "source": [
        "\n",
        "\n",
        "\n",
        "**Feature concatenation (or feature polymerization)** is implemented by horizontally stacking the selected feature matrices obtained from different feature selection methods using np.hstack.\n",
        "This approach combines the strengths of multiple feature selection methods by creating a single combined feature matrix containing the selected features from all methods."
      ],
      "metadata": {
        "id": "3OOH1Nw1ZMkS"
      }
    },
    {
      "cell_type": "code",
      "source": [
        "import pandas as pd\n",
        "import numpy as np\n",
        "from sklearn.feature_selection import SelectKBest, chi2, RFE, RFECV\n",
        "from sklearn.ensemble import RandomForestClassifier\n",
        "\n",
        "# Assuming X_train and y_train are your training data\n",
        "# Get the column names\n",
        "feature_names = X_train.columns\n",
        "\n",
        "# Apply multiple feature selection methods\n",
        "selector1 = SelectKBest(chi2, k=10)  # Select top 10 features based on chi-squared test\n",
        "selector2 = RFE(RandomForestClassifier(), n_features_to_select=10)  # Recursive feature elimination\n",
        "selector3 = RFECV(RandomForestClassifier(), step=1)  # Recursive feature elimination with cross-validation\n",
        "\n",
        "X_selected1 = selector1.fit_transform(X_train, y_train)\n",
        "X_selected2 = selector2.fit_transform(X_train, y_train)\n",
        "X_selected3 = selector3.fit_transform(X_train, y_train)\n",
        "\n",
        "# Compute the mean support array\n",
        "mean_support = np.mean([selector1.get_support().astype(int),\n",
        "                        selector2.get_support().astype(int),\n",
        "                        selector3.get_support().astype(int)], axis=0)\n",
        "\n",
        "# Select top features based on mean support\n",
        "selected_feature_indices = np.argsort(-mean_support)[:10]\n",
        "selected_feature_names_mean_support = feature_names[selected_feature_indices]\n",
        "\n",
        "# Combine selected features using feature polymerization\n",
        "X_concatenated = np.hstack((X_selected1, X_selected2, X_selected3))\n",
        "\n",
        "# Select only the first 10 features from the concatenated matrix\n",
        "X_concatenated_top10 = X_concatenated[:, :10]\n",
        "\n",
        "# Print the top selected feature names\n",
        "print(\"Top Selected Feature Names:\")\n",
        "for idx, feature_name in enumerate(selected_feature_names_mean_support, start=1):\n",
        "    print(f\"{idx}. {feature_name}\")\n",
        "\n",
        "print(\"Shape of Truncated Concatenated Feature Matrix:\", X_concatenated_top10.shape)\n"
      ],
      "metadata": {
        "colab": {
          "base_uri": "https://localhost:8080/"
        },
        "id": "7iOZOFtSeVNc",
        "outputId": "f29eb748-4cfd-4956-e679-6dffd8b9a78f"
      },
      "execution_count": null,
      "outputs": [
        {
          "output_type": "stream",
          "name": "stdout",
          "text": [
            "Top Selected Feature Names:\n",
            "1. Age\n",
            "2. Hemoglobin level measured in the second or third trimester\n",
            "3. F B-hCG (ng/ml)\n",
            "4. Weight before pregnancy\n",
            "5. Weight in late first trimester\n",
            "6. BMI before pregnancy\n",
            "7. BMI in late first trimester\n",
            "8. DBP in the late first trimester\n",
            "9. SBP  in the late first trimester\n",
            "10. PAPP-A(mlU/ml)\n",
            "Shape of Truncated Concatenated Feature Matrix: (375, 10)\n"
          ]
        }
      ]
    },
    {
      "cell_type": "markdown",
      "source": [
        "New Dataframe which consists Top 10 features"
      ],
      "metadata": {
        "id": "4IREzphMFuq2"
      }
    },
    {
      "cell_type": "code",
      "source": [
        "df3=df\n",
        "df3"
      ],
      "metadata": {
        "id": "OYvkUa_fY0CI",
        "colab": {
          "base_uri": "https://localhost:8080/",
          "height": 495
        },
        "outputId": "40794cab-0081-40b5-d8a6-6f2d3e977d84"
      },
      "execution_count": null,
      "outputs": [
        {
          "output_type": "execute_result",
          "data": {
            "text/plain": [
              "     Preeclampsia(1)/NA(0)  Age  Weight before pregnancy  \\\n",
              "0                        0   26                     49.0   \n",
              "1                        0   29                     65.0   \n",
              "2                        1   23                     84.0   \n",
              "3                        0   27                     83.0   \n",
              "4                        0   25                     67.0   \n",
              "..                     ...  ...                      ...   \n",
              "495                      1   23                     50.0   \n",
              "496                      1   33                     51.0   \n",
              "497                      1   34                     52.0   \n",
              "498                      0   32                     52.0   \n",
              "499                      0   30                     61.0   \n",
              "\n",
              "     Weight in late first trimester  BMI before pregnancy  \\\n",
              "0                              51.1                  23.2   \n",
              "1                              67.8                  25.0   \n",
              "2                              86.6                  33.2   \n",
              "3                              85.0                  33.2   \n",
              "4                              69.5                  26.8   \n",
              "..                              ...                   ...   \n",
              "495                            53.0                  23.1   \n",
              "496                            53.0                  23.0   \n",
              "497                            54.5                  20.0   \n",
              "498                            54.0                  24.0   \n",
              "499                            62.7                  24.0   \n",
              "\n",
              "     BMI in late first trimester  DBP in early pregnancy  \\\n",
              "0                           23.7                1.666667   \n",
              "1                           25.6                1.500000   \n",
              "2                           34.8                1.555556   \n",
              "3                           34.4                1.500000   \n",
              "4                           29.3                1.666667   \n",
              "..                           ...                     ...   \n",
              "495                         23.6                1.833333   \n",
              "496                         23.6                1.833333   \n",
              "497                         21.2                1.375000   \n",
              "498                         24.3                1.444444   \n",
              "499                         24.8                1.571429   \n",
              "\n",
              "     DBP in the late first trimester  SBP in early pregnancy  \\\n",
              "0                           1.571429                1.571429   \n",
              "1                           1.375000                1.500000   \n",
              "2                           1.400000                1.555556   \n",
              "3                           1.625000                1.500000   \n",
              "4                           1.666667                1.666667   \n",
              "..                               ...                     ...   \n",
              "495                         1.571429                1.833333   \n",
              "496                         1.571429                1.833333   \n",
              "497                         1.571429                1.375000   \n",
              "498                         1.777778                1.444444   \n",
              "499                         1.571429                1.571429   \n",
              "\n",
              "     SBP  in the late first trimester  ...  PAPP-A(mlU/ml)  F B-hCG (ng/ml)  \\\n",
              "0                            1.500000  ...           5.530            74.33   \n",
              "1                            1.571429  ...           2.500             9.69   \n",
              "2                            1.400000  ...           6.120           149.00   \n",
              "3                            1.625000  ...           5.530            74.33   \n",
              "4                            1.666667  ...          15.700            99.69   \n",
              "..                                ...  ...             ...              ...   \n",
              "495                          1.571429  ...           1.200            68.80   \n",
              "496                          1.571429  ...           3.460            52.25   \n",
              "497                          1.571429  ...           1.200            68.80   \n",
              "498                          1.777778  ...           0.929            59.97   \n",
              "499                          1.571429  ...          15.700            99.69   \n",
              "\n",
              "     Gravidity_n  Parity_n  Protein  Smoking  Alcohol  Hypertension  \\\n",
              "0              4         1        0        0        0             0   \n",
              "1              4         1        0        0        0             0   \n",
              "2              3         1        0        0        0             0   \n",
              "3              9         0        0        0        0             0   \n",
              "4              9         0        0        0        0             0   \n",
              "..           ...       ...      ...      ...      ...           ...   \n",
              "495            7         1        0        0        0             0   \n",
              "496            7         1        0        0        0             0   \n",
              "497            4         1        0        0        0             0   \n",
              "498            8         1        0        0        0             0   \n",
              "499            9         0        0        0        0             0   \n",
              "\n",
              "     History of Preeclampsia  Diabetese  \n",
              "0                          0          0  \n",
              "1                          0          0  \n",
              "2                          0          0  \n",
              "3                          0          0  \n",
              "4                          0          0  \n",
              "..                       ...        ...  \n",
              "495                        0          0  \n",
              "496                        0          0  \n",
              "497                        0          0  \n",
              "498                        0          0  \n",
              "499                        0          0  \n",
              "\n",
              "[500 rows x 28 columns]"
            ],
            "text/html": [
              "\n",
              "  <div id=\"df-df190dcc-50ee-4568-95a0-2e73b64cdffc\" class=\"colab-df-container\">\n",
              "    <div>\n",
              "<style scoped>\n",
              "    .dataframe tbody tr th:only-of-type {\n",
              "        vertical-align: middle;\n",
              "    }\n",
              "\n",
              "    .dataframe tbody tr th {\n",
              "        vertical-align: top;\n",
              "    }\n",
              "\n",
              "    .dataframe thead th {\n",
              "        text-align: right;\n",
              "    }\n",
              "</style>\n",
              "<table border=\"1\" class=\"dataframe\">\n",
              "  <thead>\n",
              "    <tr style=\"text-align: right;\">\n",
              "      <th></th>\n",
              "      <th>Preeclampsia(1)/NA(0)</th>\n",
              "      <th>Age</th>\n",
              "      <th>Weight before pregnancy</th>\n",
              "      <th>Weight in late first trimester</th>\n",
              "      <th>BMI before pregnancy</th>\n",
              "      <th>BMI in late first trimester</th>\n",
              "      <th>DBP in early pregnancy</th>\n",
              "      <th>DBP in the late first trimester</th>\n",
              "      <th>SBP in early pregnancy</th>\n",
              "      <th>SBP  in the late first trimester</th>\n",
              "      <th>...</th>\n",
              "      <th>PAPP-A(mlU/ml)</th>\n",
              "      <th>F B-hCG (ng/ml)</th>\n",
              "      <th>Gravidity_n</th>\n",
              "      <th>Parity_n</th>\n",
              "      <th>Protein</th>\n",
              "      <th>Smoking</th>\n",
              "      <th>Alcohol</th>\n",
              "      <th>Hypertension</th>\n",
              "      <th>History of Preeclampsia</th>\n",
              "      <th>Diabetese</th>\n",
              "    </tr>\n",
              "  </thead>\n",
              "  <tbody>\n",
              "    <tr>\n",
              "      <th>0</th>\n",
              "      <td>0</td>\n",
              "      <td>26</td>\n",
              "      <td>49.0</td>\n",
              "      <td>51.1</td>\n",
              "      <td>23.2</td>\n",
              "      <td>23.7</td>\n",
              "      <td>1.666667</td>\n",
              "      <td>1.571429</td>\n",
              "      <td>1.571429</td>\n",
              "      <td>1.500000</td>\n",
              "      <td>...</td>\n",
              "      <td>5.530</td>\n",
              "      <td>74.33</td>\n",
              "      <td>4</td>\n",
              "      <td>1</td>\n",
              "      <td>0</td>\n",
              "      <td>0</td>\n",
              "      <td>0</td>\n",
              "      <td>0</td>\n",
              "      <td>0</td>\n",
              "      <td>0</td>\n",
              "    </tr>\n",
              "    <tr>\n",
              "      <th>1</th>\n",
              "      <td>0</td>\n",
              "      <td>29</td>\n",
              "      <td>65.0</td>\n",
              "      <td>67.8</td>\n",
              "      <td>25.0</td>\n",
              "      <td>25.6</td>\n",
              "      <td>1.500000</td>\n",
              "      <td>1.375000</td>\n",
              "      <td>1.500000</td>\n",
              "      <td>1.571429</td>\n",
              "      <td>...</td>\n",
              "      <td>2.500</td>\n",
              "      <td>9.69</td>\n",
              "      <td>4</td>\n",
              "      <td>1</td>\n",
              "      <td>0</td>\n",
              "      <td>0</td>\n",
              "      <td>0</td>\n",
              "      <td>0</td>\n",
              "      <td>0</td>\n",
              "      <td>0</td>\n",
              "    </tr>\n",
              "    <tr>\n",
              "      <th>2</th>\n",
              "      <td>1</td>\n",
              "      <td>23</td>\n",
              "      <td>84.0</td>\n",
              "      <td>86.6</td>\n",
              "      <td>33.2</td>\n",
              "      <td>34.8</td>\n",
              "      <td>1.555556</td>\n",
              "      <td>1.400000</td>\n",
              "      <td>1.555556</td>\n",
              "      <td>1.400000</td>\n",
              "      <td>...</td>\n",
              "      <td>6.120</td>\n",
              "      <td>149.00</td>\n",
              "      <td>3</td>\n",
              "      <td>1</td>\n",
              "      <td>0</td>\n",
              "      <td>0</td>\n",
              "      <td>0</td>\n",
              "      <td>0</td>\n",
              "      <td>0</td>\n",
              "      <td>0</td>\n",
              "    </tr>\n",
              "    <tr>\n",
              "      <th>3</th>\n",
              "      <td>0</td>\n",
              "      <td>27</td>\n",
              "      <td>83.0</td>\n",
              "      <td>85.0</td>\n",
              "      <td>33.2</td>\n",
              "      <td>34.4</td>\n",
              "      <td>1.500000</td>\n",
              "      <td>1.625000</td>\n",
              "      <td>1.500000</td>\n",
              "      <td>1.625000</td>\n",
              "      <td>...</td>\n",
              "      <td>5.530</td>\n",
              "      <td>74.33</td>\n",
              "      <td>9</td>\n",
              "      <td>0</td>\n",
              "      <td>0</td>\n",
              "      <td>0</td>\n",
              "      <td>0</td>\n",
              "      <td>0</td>\n",
              "      <td>0</td>\n",
              "      <td>0</td>\n",
              "    </tr>\n",
              "    <tr>\n",
              "      <th>4</th>\n",
              "      <td>0</td>\n",
              "      <td>25</td>\n",
              "      <td>67.0</td>\n",
              "      <td>69.5</td>\n",
              "      <td>26.8</td>\n",
              "      <td>29.3</td>\n",
              "      <td>1.666667</td>\n",
              "      <td>1.666667</td>\n",
              "      <td>1.666667</td>\n",
              "      <td>1.666667</td>\n",
              "      <td>...</td>\n",
              "      <td>15.700</td>\n",
              "      <td>99.69</td>\n",
              "      <td>9</td>\n",
              "      <td>0</td>\n",
              "      <td>0</td>\n",
              "      <td>0</td>\n",
              "      <td>0</td>\n",
              "      <td>0</td>\n",
              "      <td>0</td>\n",
              "      <td>0</td>\n",
              "    </tr>\n",
              "    <tr>\n",
              "      <th>...</th>\n",
              "      <td>...</td>\n",
              "      <td>...</td>\n",
              "      <td>...</td>\n",
              "      <td>...</td>\n",
              "      <td>...</td>\n",
              "      <td>...</td>\n",
              "      <td>...</td>\n",
              "      <td>...</td>\n",
              "      <td>...</td>\n",
              "      <td>...</td>\n",
              "      <td>...</td>\n",
              "      <td>...</td>\n",
              "      <td>...</td>\n",
              "      <td>...</td>\n",
              "      <td>...</td>\n",
              "      <td>...</td>\n",
              "      <td>...</td>\n",
              "      <td>...</td>\n",
              "      <td>...</td>\n",
              "      <td>...</td>\n",
              "      <td>...</td>\n",
              "    </tr>\n",
              "    <tr>\n",
              "      <th>495</th>\n",
              "      <td>1</td>\n",
              "      <td>23</td>\n",
              "      <td>50.0</td>\n",
              "      <td>53.0</td>\n",
              "      <td>23.1</td>\n",
              "      <td>23.6</td>\n",
              "      <td>1.833333</td>\n",
              "      <td>1.571429</td>\n",
              "      <td>1.833333</td>\n",
              "      <td>1.571429</td>\n",
              "      <td>...</td>\n",
              "      <td>1.200</td>\n",
              "      <td>68.80</td>\n",
              "      <td>7</td>\n",
              "      <td>1</td>\n",
              "      <td>0</td>\n",
              "      <td>0</td>\n",
              "      <td>0</td>\n",
              "      <td>0</td>\n",
              "      <td>0</td>\n",
              "      <td>0</td>\n",
              "    </tr>\n",
              "    <tr>\n",
              "      <th>496</th>\n",
              "      <td>1</td>\n",
              "      <td>33</td>\n",
              "      <td>51.0</td>\n",
              "      <td>53.0</td>\n",
              "      <td>23.0</td>\n",
              "      <td>23.6</td>\n",
              "      <td>1.833333</td>\n",
              "      <td>1.571429</td>\n",
              "      <td>1.833333</td>\n",
              "      <td>1.571429</td>\n",
              "      <td>...</td>\n",
              "      <td>3.460</td>\n",
              "      <td>52.25</td>\n",
              "      <td>7</td>\n",
              "      <td>1</td>\n",
              "      <td>0</td>\n",
              "      <td>0</td>\n",
              "      <td>0</td>\n",
              "      <td>0</td>\n",
              "      <td>0</td>\n",
              "      <td>0</td>\n",
              "    </tr>\n",
              "    <tr>\n",
              "      <th>497</th>\n",
              "      <td>1</td>\n",
              "      <td>34</td>\n",
              "      <td>52.0</td>\n",
              "      <td>54.5</td>\n",
              "      <td>20.0</td>\n",
              "      <td>21.2</td>\n",
              "      <td>1.375000</td>\n",
              "      <td>1.571429</td>\n",
              "      <td>1.375000</td>\n",
              "      <td>1.571429</td>\n",
              "      <td>...</td>\n",
              "      <td>1.200</td>\n",
              "      <td>68.80</td>\n",
              "      <td>4</td>\n",
              "      <td>1</td>\n",
              "      <td>0</td>\n",
              "      <td>0</td>\n",
              "      <td>0</td>\n",
              "      <td>0</td>\n",
              "      <td>0</td>\n",
              "      <td>0</td>\n",
              "    </tr>\n",
              "    <tr>\n",
              "      <th>498</th>\n",
              "      <td>0</td>\n",
              "      <td>32</td>\n",
              "      <td>52.0</td>\n",
              "      <td>54.0</td>\n",
              "      <td>24.0</td>\n",
              "      <td>24.3</td>\n",
              "      <td>1.444444</td>\n",
              "      <td>1.777778</td>\n",
              "      <td>1.444444</td>\n",
              "      <td>1.777778</td>\n",
              "      <td>...</td>\n",
              "      <td>0.929</td>\n",
              "      <td>59.97</td>\n",
              "      <td>8</td>\n",
              "      <td>1</td>\n",
              "      <td>0</td>\n",
              "      <td>0</td>\n",
              "      <td>0</td>\n",
              "      <td>0</td>\n",
              "      <td>0</td>\n",
              "      <td>0</td>\n",
              "    </tr>\n",
              "    <tr>\n",
              "      <th>499</th>\n",
              "      <td>0</td>\n",
              "      <td>30</td>\n",
              "      <td>61.0</td>\n",
              "      <td>62.7</td>\n",
              "      <td>24.0</td>\n",
              "      <td>24.8</td>\n",
              "      <td>1.571429</td>\n",
              "      <td>1.571429</td>\n",
              "      <td>1.571429</td>\n",
              "      <td>1.571429</td>\n",
              "      <td>...</td>\n",
              "      <td>15.700</td>\n",
              "      <td>99.69</td>\n",
              "      <td>9</td>\n",
              "      <td>0</td>\n",
              "      <td>0</td>\n",
              "      <td>0</td>\n",
              "      <td>0</td>\n",
              "      <td>0</td>\n",
              "      <td>0</td>\n",
              "      <td>0</td>\n",
              "    </tr>\n",
              "  </tbody>\n",
              "</table>\n",
              "<p>500 rows × 28 columns</p>\n",
              "</div>\n",
              "    <div class=\"colab-df-buttons\">\n",
              "\n",
              "  <div class=\"colab-df-container\">\n",
              "    <button class=\"colab-df-convert\" onclick=\"convertToInteractive('df-df190dcc-50ee-4568-95a0-2e73b64cdffc')\"\n",
              "            title=\"Convert this dataframe to an interactive table.\"\n",
              "            style=\"display:none;\">\n",
              "\n",
              "  <svg xmlns=\"http://www.w3.org/2000/svg\" height=\"24px\" viewBox=\"0 -960 960 960\">\n",
              "    <path d=\"M120-120v-720h720v720H120Zm60-500h600v-160H180v160Zm220 220h160v-160H400v160Zm0 220h160v-160H400v160ZM180-400h160v-160H180v160Zm440 0h160v-160H620v160ZM180-180h160v-160H180v160Zm440 0h160v-160H620v160Z\"/>\n",
              "  </svg>\n",
              "    </button>\n",
              "\n",
              "  <style>\n",
              "    .colab-df-container {\n",
              "      display:flex;\n",
              "      gap: 12px;\n",
              "    }\n",
              "\n",
              "    .colab-df-convert {\n",
              "      background-color: #E8F0FE;\n",
              "      border: none;\n",
              "      border-radius: 50%;\n",
              "      cursor: pointer;\n",
              "      display: none;\n",
              "      fill: #1967D2;\n",
              "      height: 32px;\n",
              "      padding: 0 0 0 0;\n",
              "      width: 32px;\n",
              "    }\n",
              "\n",
              "    .colab-df-convert:hover {\n",
              "      background-color: #E2EBFA;\n",
              "      box-shadow: 0px 1px 2px rgba(60, 64, 67, 0.3), 0px 1px 3px 1px rgba(60, 64, 67, 0.15);\n",
              "      fill: #174EA6;\n",
              "    }\n",
              "\n",
              "    .colab-df-buttons div {\n",
              "      margin-bottom: 4px;\n",
              "    }\n",
              "\n",
              "    [theme=dark] .colab-df-convert {\n",
              "      background-color: #3B4455;\n",
              "      fill: #D2E3FC;\n",
              "    }\n",
              "\n",
              "    [theme=dark] .colab-df-convert:hover {\n",
              "      background-color: #434B5C;\n",
              "      box-shadow: 0px 1px 3px 1px rgba(0, 0, 0, 0.15);\n",
              "      filter: drop-shadow(0px 1px 2px rgba(0, 0, 0, 0.3));\n",
              "      fill: #FFFFFF;\n",
              "    }\n",
              "  </style>\n",
              "\n",
              "    <script>\n",
              "      const buttonEl =\n",
              "        document.querySelector('#df-df190dcc-50ee-4568-95a0-2e73b64cdffc button.colab-df-convert');\n",
              "      buttonEl.style.display =\n",
              "        google.colab.kernel.accessAllowed ? 'block' : 'none';\n",
              "\n",
              "      async function convertToInteractive(key) {\n",
              "        const element = document.querySelector('#df-df190dcc-50ee-4568-95a0-2e73b64cdffc');\n",
              "        const dataTable =\n",
              "          await google.colab.kernel.invokeFunction('convertToInteractive',\n",
              "                                                    [key], {});\n",
              "        if (!dataTable) return;\n",
              "\n",
              "        const docLinkHtml = 'Like what you see? Visit the ' +\n",
              "          '<a target=\"_blank\" href=https://colab.research.google.com/notebooks/data_table.ipynb>data table notebook</a>'\n",
              "          + ' to learn more about interactive tables.';\n",
              "        element.innerHTML = '';\n",
              "        dataTable['output_type'] = 'display_data';\n",
              "        await google.colab.output.renderOutput(dataTable, element);\n",
              "        const docLink = document.createElement('div');\n",
              "        docLink.innerHTML = docLinkHtml;\n",
              "        element.appendChild(docLink);\n",
              "      }\n",
              "    </script>\n",
              "  </div>\n",
              "\n",
              "\n",
              "<div id=\"df-380a5616-20d5-4c5b-bf61-8c645cf374dd\">\n",
              "  <button class=\"colab-df-quickchart\" onclick=\"quickchart('df-380a5616-20d5-4c5b-bf61-8c645cf374dd')\"\n",
              "            title=\"Suggest charts\"\n",
              "            style=\"display:none;\">\n",
              "\n",
              "<svg xmlns=\"http://www.w3.org/2000/svg\" height=\"24px\"viewBox=\"0 0 24 24\"\n",
              "     width=\"24px\">\n",
              "    <g>\n",
              "        <path d=\"M19 3H5c-1.1 0-2 .9-2 2v14c0 1.1.9 2 2 2h14c1.1 0 2-.9 2-2V5c0-1.1-.9-2-2-2zM9 17H7v-7h2v7zm4 0h-2V7h2v10zm4 0h-2v-4h2v4z\"/>\n",
              "    </g>\n",
              "</svg>\n",
              "  </button>\n",
              "\n",
              "<style>\n",
              "  .colab-df-quickchart {\n",
              "      --bg-color: #E8F0FE;\n",
              "      --fill-color: #1967D2;\n",
              "      --hover-bg-color: #E2EBFA;\n",
              "      --hover-fill-color: #174EA6;\n",
              "      --disabled-fill-color: #AAA;\n",
              "      --disabled-bg-color: #DDD;\n",
              "  }\n",
              "\n",
              "  [theme=dark] .colab-df-quickchart {\n",
              "      --bg-color: #3B4455;\n",
              "      --fill-color: #D2E3FC;\n",
              "      --hover-bg-color: #434B5C;\n",
              "      --hover-fill-color: #FFFFFF;\n",
              "      --disabled-bg-color: #3B4455;\n",
              "      --disabled-fill-color: #666;\n",
              "  }\n",
              "\n",
              "  .colab-df-quickchart {\n",
              "    background-color: var(--bg-color);\n",
              "    border: none;\n",
              "    border-radius: 50%;\n",
              "    cursor: pointer;\n",
              "    display: none;\n",
              "    fill: var(--fill-color);\n",
              "    height: 32px;\n",
              "    padding: 0;\n",
              "    width: 32px;\n",
              "  }\n",
              "\n",
              "  .colab-df-quickchart:hover {\n",
              "    background-color: var(--hover-bg-color);\n",
              "    box-shadow: 0 1px 2px rgba(60, 64, 67, 0.3), 0 1px 3px 1px rgba(60, 64, 67, 0.15);\n",
              "    fill: var(--button-hover-fill-color);\n",
              "  }\n",
              "\n",
              "  .colab-df-quickchart-complete:disabled,\n",
              "  .colab-df-quickchart-complete:disabled:hover {\n",
              "    background-color: var(--disabled-bg-color);\n",
              "    fill: var(--disabled-fill-color);\n",
              "    box-shadow: none;\n",
              "  }\n",
              "\n",
              "  .colab-df-spinner {\n",
              "    border: 2px solid var(--fill-color);\n",
              "    border-color: transparent;\n",
              "    border-bottom-color: var(--fill-color);\n",
              "    animation:\n",
              "      spin 1s steps(1) infinite;\n",
              "  }\n",
              "\n",
              "  @keyframes spin {\n",
              "    0% {\n",
              "      border-color: transparent;\n",
              "      border-bottom-color: var(--fill-color);\n",
              "      border-left-color: var(--fill-color);\n",
              "    }\n",
              "    20% {\n",
              "      border-color: transparent;\n",
              "      border-left-color: var(--fill-color);\n",
              "      border-top-color: var(--fill-color);\n",
              "    }\n",
              "    30% {\n",
              "      border-color: transparent;\n",
              "      border-left-color: var(--fill-color);\n",
              "      border-top-color: var(--fill-color);\n",
              "      border-right-color: var(--fill-color);\n",
              "    }\n",
              "    40% {\n",
              "      border-color: transparent;\n",
              "      border-right-color: var(--fill-color);\n",
              "      border-top-color: var(--fill-color);\n",
              "    }\n",
              "    60% {\n",
              "      border-color: transparent;\n",
              "      border-right-color: var(--fill-color);\n",
              "    }\n",
              "    80% {\n",
              "      border-color: transparent;\n",
              "      border-right-color: var(--fill-color);\n",
              "      border-bottom-color: var(--fill-color);\n",
              "    }\n",
              "    90% {\n",
              "      border-color: transparent;\n",
              "      border-bottom-color: var(--fill-color);\n",
              "    }\n",
              "  }\n",
              "</style>\n",
              "\n",
              "  <script>\n",
              "    async function quickchart(key) {\n",
              "      const quickchartButtonEl =\n",
              "        document.querySelector('#' + key + ' button');\n",
              "      quickchartButtonEl.disabled = true;  // To prevent multiple clicks.\n",
              "      quickchartButtonEl.classList.add('colab-df-spinner');\n",
              "      try {\n",
              "        const charts = await google.colab.kernel.invokeFunction(\n",
              "            'suggestCharts', [key], {});\n",
              "      } catch (error) {\n",
              "        console.error('Error during call to suggestCharts:', error);\n",
              "      }\n",
              "      quickchartButtonEl.classList.remove('colab-df-spinner');\n",
              "      quickchartButtonEl.classList.add('colab-df-quickchart-complete');\n",
              "    }\n",
              "    (() => {\n",
              "      let quickchartButtonEl =\n",
              "        document.querySelector('#df-380a5616-20d5-4c5b-bf61-8c645cf374dd button');\n",
              "      quickchartButtonEl.style.display =\n",
              "        google.colab.kernel.accessAllowed ? 'block' : 'none';\n",
              "    })();\n",
              "  </script>\n",
              "</div>\n",
              "\n",
              "  <div id=\"id_e30c955f-2f37-404d-bfa0-403c3f83b97c\">\n",
              "    <style>\n",
              "      .colab-df-generate {\n",
              "        background-color: #E8F0FE;\n",
              "        border: none;\n",
              "        border-radius: 50%;\n",
              "        cursor: pointer;\n",
              "        display: none;\n",
              "        fill: #1967D2;\n",
              "        height: 32px;\n",
              "        padding: 0 0 0 0;\n",
              "        width: 32px;\n",
              "      }\n",
              "\n",
              "      .colab-df-generate:hover {\n",
              "        background-color: #E2EBFA;\n",
              "        box-shadow: 0px 1px 2px rgba(60, 64, 67, 0.3), 0px 1px 3px 1px rgba(60, 64, 67, 0.15);\n",
              "        fill: #174EA6;\n",
              "      }\n",
              "\n",
              "      [theme=dark] .colab-df-generate {\n",
              "        background-color: #3B4455;\n",
              "        fill: #D2E3FC;\n",
              "      }\n",
              "\n",
              "      [theme=dark] .colab-df-generate:hover {\n",
              "        background-color: #434B5C;\n",
              "        box-shadow: 0px 1px 3px 1px rgba(0, 0, 0, 0.15);\n",
              "        filter: drop-shadow(0px 1px 2px rgba(0, 0, 0, 0.3));\n",
              "        fill: #FFFFFF;\n",
              "      }\n",
              "    </style>\n",
              "    <button class=\"colab-df-generate\" onclick=\"generateWithVariable('df')\"\n",
              "            title=\"Generate code using this dataframe.\"\n",
              "            style=\"display:none;\">\n",
              "\n",
              "  <svg xmlns=\"http://www.w3.org/2000/svg\" height=\"24px\"viewBox=\"0 0 24 24\"\n",
              "       width=\"24px\">\n",
              "    <path d=\"M7,19H8.4L18.45,9,17,7.55,7,17.6ZM5,21V16.75L18.45,3.32a2,2,0,0,1,2.83,0l1.4,1.43a1.91,1.91,0,0,1,.58,1.4,1.91,1.91,0,0,1-.58,1.4L9.25,21ZM18.45,9,17,7.55Zm-12,3A5.31,5.31,0,0,0,4.9,8.1,5.31,5.31,0,0,0,1,6.5,5.31,5.31,0,0,0,4.9,4.9,5.31,5.31,0,0,0,6.5,1,5.31,5.31,0,0,0,8.1,4.9,5.31,5.31,0,0,0,12,6.5,5.46,5.46,0,0,0,6.5,12Z\"/>\n",
              "  </svg>\n",
              "    </button>\n",
              "    <script>\n",
              "      (() => {\n",
              "      const buttonEl =\n",
              "        document.querySelector('#id_e30c955f-2f37-404d-bfa0-403c3f83b97c button.colab-df-generate');\n",
              "      buttonEl.style.display =\n",
              "        google.colab.kernel.accessAllowed ? 'block' : 'none';\n",
              "\n",
              "      buttonEl.onclick = () => {\n",
              "        google.colab.notebook.generateWithVariable('df');\n",
              "      }\n",
              "      })();\n",
              "    </script>\n",
              "  </div>\n",
              "\n",
              "    </div>\n",
              "  </div>\n"
            ],
            "application/vnd.google.colaboratory.intrinsic+json": {
              "type": "dataframe",
              "variable_name": "df"
            }
          },
          "metadata": {},
          "execution_count": 130
        }
      ]
    },
    {
      "cell_type": "code",
      "source": [
        "df3.info()"
      ],
      "metadata": {
        "id": "xegwYSQXa_yE",
        "colab": {
          "base_uri": "https://localhost:8080/"
        },
        "outputId": "b16e55b2-c03c-464f-b60d-da238f1d376f"
      },
      "execution_count": null,
      "outputs": [
        {
          "output_type": "stream",
          "name": "stdout",
          "text": [
            "<class 'pandas.core.frame.DataFrame'>\n",
            "RangeIndex: 500 entries, 0 to 499\n",
            "Data columns (total 28 columns):\n",
            " #   Column                                                      Non-Null Count  Dtype  \n",
            "---  ------                                                      --------------  -----  \n",
            " 0   Preeclampsia(1)/NA(0)                                       500 non-null    int64  \n",
            " 1   Age                                                         500 non-null    int64  \n",
            " 2   Weight before pregnancy                                     500 non-null    float64\n",
            " 3   Weight in late first trimester                              500 non-null    float64\n",
            " 4   BMI before pregnancy                                        500 non-null    float64\n",
            " 5   BMI in late first trimester                                 500 non-null    float64\n",
            " 6   DBP in early pregnancy                                      500 non-null    float64\n",
            " 7   DBP in the late first trimester                             500 non-null    float64\n",
            " 8   SBP in early pregnancy                                      500 non-null    float64\n",
            " 9   SBP  in the late first trimester                            500 non-null    float64\n",
            " 10  Hemoglobin level measured in the first trimester            500 non-null    float64\n",
            " 11  Hemoglobin level measured in the second or third trimester  500 non-null    float64\n",
            " 12  MAP                                                         500 non-null    float64\n",
            " 13  CRL                                                         500 non-null    float64\n",
            " 14  NT                                                          500 non-null    float64\n",
            " 15  BPD                                                         500 non-null    float64\n",
            " 16  PI-R                                                        500 non-null    float64\n",
            " 17  PI-L                                                        500 non-null    float64\n",
            " 18  PAPP-A(mlU/ml)                                              500 non-null    float64\n",
            " 19  F B-hCG (ng/ml)                                             500 non-null    float64\n",
            " 20  Gravidity_n                                                 500 non-null    int64  \n",
            " 21  Parity_n                                                    500 non-null    int64  \n",
            " 22  Protein                                                     500 non-null    int64  \n",
            " 23  Smoking                                                     500 non-null    int64  \n",
            " 24  Alcohol                                                     500 non-null    int64  \n",
            " 25  Hypertension                                                500 non-null    int64  \n",
            " 26  History of Preeclampsia                                     500 non-null    int64  \n",
            " 27  Diabetese                                                   500 non-null    int64  \n",
            "dtypes: float64(18), int64(10)\n",
            "memory usage: 109.5 KB\n"
          ]
        }
      ]
    },
    {
      "cell_type": "code",
      "source": [
        "df3=df3.drop(labels=['Diabetese','Alcohol','Protein','Smoking','Hypertension','Parity_n','NT','History of Preeclampsia','PI-R','PI-L','Gravidity_n','BPD','CRL','BPD','MAP','Hemoglobin level measured in the first trimester','DBP in early pregnancy','Hemoglobin level measured in the first trimester','SBP in early pregnancy'],axis=1)"
      ],
      "metadata": {
        "id": "Q2OPJEEkY1wP"
      },
      "execution_count": null,
      "outputs": []
    },
    {
      "cell_type": "code",
      "source": [
        "df3.shape"
      ],
      "metadata": {
        "id": "Xz98-rdkqvD7",
        "colab": {
          "base_uri": "https://localhost:8080/"
        },
        "outputId": "3dd2b680-4e8c-40f6-a24f-b847e3787515"
      },
      "execution_count": null,
      "outputs": [
        {
          "output_type": "execute_result",
          "data": {
            "text/plain": [
              "(500, 11)"
            ]
          },
          "metadata": {},
          "execution_count": 133
        }
      ]
    },
    {
      "cell_type": "markdown",
      "source": [
        "**Training and Testing Data**"
      ],
      "metadata": {
        "id": "ZNWGKg32vznE"
      }
    },
    {
      "cell_type": "code",
      "source": [
        "from sklearn.model_selection import train_test_split\n",
        "X_train1,X_test1,y_train1,y_test1=train_test_split(df3.drop(labels=['Preeclampsia(1)/NA(0)'], axis=1),\n",
        "    df3['Preeclampsia(1)/NA(0)'],\n",
        "    test_size=0.25,\n",
        "    random_state=0)"
      ],
      "metadata": {
        "id": "iUrna__9a6RB"
      },
      "execution_count": null,
      "outputs": []
    },
    {
      "cell_type": "code",
      "source": [
        "df3.info()"
      ],
      "metadata": {
        "colab": {
          "base_uri": "https://localhost:8080/"
        },
        "id": "UtyUZBQHKUTA",
        "outputId": "f636a3f7-cb1e-4b67-a3a7-b08d5aee4aae"
      },
      "execution_count": null,
      "outputs": [
        {
          "output_type": "stream",
          "name": "stdout",
          "text": [
            "<class 'pandas.core.frame.DataFrame'>\n",
            "RangeIndex: 500 entries, 0 to 499\n",
            "Data columns (total 11 columns):\n",
            " #   Column                                                      Non-Null Count  Dtype  \n",
            "---  ------                                                      --------------  -----  \n",
            " 0   Preeclampsia(1)/NA(0)                                       500 non-null    int64  \n",
            " 1   Age                                                         500 non-null    int64  \n",
            " 2   Weight before pregnancy                                     500 non-null    float64\n",
            " 3   Weight in late first trimester                              500 non-null    float64\n",
            " 4   BMI before pregnancy                                        500 non-null    float64\n",
            " 5   BMI in late first trimester                                 500 non-null    float64\n",
            " 6   DBP in the late first trimester                             500 non-null    float64\n",
            " 7   SBP  in the late first trimester                            500 non-null    float64\n",
            " 8   Hemoglobin level measured in the second or third trimester  500 non-null    float64\n",
            " 9   PAPP-A(mlU/ml)                                              500 non-null    float64\n",
            " 10  F B-hCG (ng/ml)                                             500 non-null    float64\n",
            "dtypes: float64(9), int64(2)\n",
            "memory usage: 43.1 KB\n"
          ]
        }
      ]
    },
    {
      "cell_type": "markdown",
      "source": [
        " **Model Evaluation after Feature Selection**  \n",
        "\n",
        " Summary Given at the end of Notebook"
      ],
      "metadata": {
        "id": "x71hlW9-OtX0"
      }
    },
    {
      "cell_type": "markdown",
      "source": [
        "RandomForest Model"
      ],
      "metadata": {
        "id": "xxcifOlFwG2d"
      }
    },
    {
      "cell_type": "code",
      "source": [
        "from sklearn.ensemble import RandomForestClassifier\n",
        "model_rf1 = RandomForestClassifier(n_estimators=20)\n",
        "model_rf1.fit(X_train1, y_train1)"
      ],
      "metadata": {
        "id": "ZcCq5MMcbkvz",
        "colab": {
          "base_uri": "https://localhost:8080/",
          "height": 74
        },
        "outputId": "f6a41e5f-fbef-42cb-f55c-b3601bcd2a53"
      },
      "execution_count": null,
      "outputs": [
        {
          "output_type": "execute_result",
          "data": {
            "text/plain": [
              "RandomForestClassifier(n_estimators=20)"
            ],
            "text/html": [
              "<style>#sk-container-id-6 {color: black;background-color: white;}#sk-container-id-6 pre{padding: 0;}#sk-container-id-6 div.sk-toggleable {background-color: white;}#sk-container-id-6 label.sk-toggleable__label {cursor: pointer;display: block;width: 100%;margin-bottom: 0;padding: 0.3em;box-sizing: border-box;text-align: center;}#sk-container-id-6 label.sk-toggleable__label-arrow:before {content: \"▸\";float: left;margin-right: 0.25em;color: #696969;}#sk-container-id-6 label.sk-toggleable__label-arrow:hover:before {color: black;}#sk-container-id-6 div.sk-estimator:hover label.sk-toggleable__label-arrow:before {color: black;}#sk-container-id-6 div.sk-toggleable__content {max-height: 0;max-width: 0;overflow: hidden;text-align: left;background-color: #f0f8ff;}#sk-container-id-6 div.sk-toggleable__content pre {margin: 0.2em;color: black;border-radius: 0.25em;background-color: #f0f8ff;}#sk-container-id-6 input.sk-toggleable__control:checked~div.sk-toggleable__content {max-height: 200px;max-width: 100%;overflow: auto;}#sk-container-id-6 input.sk-toggleable__control:checked~label.sk-toggleable__label-arrow:before {content: \"▾\";}#sk-container-id-6 div.sk-estimator input.sk-toggleable__control:checked~label.sk-toggleable__label {background-color: #d4ebff;}#sk-container-id-6 div.sk-label input.sk-toggleable__control:checked~label.sk-toggleable__label {background-color: #d4ebff;}#sk-container-id-6 input.sk-hidden--visually {border: 0;clip: rect(1px 1px 1px 1px);clip: rect(1px, 1px, 1px, 1px);height: 1px;margin: -1px;overflow: hidden;padding: 0;position: absolute;width: 1px;}#sk-container-id-6 div.sk-estimator {font-family: monospace;background-color: #f0f8ff;border: 1px dotted black;border-radius: 0.25em;box-sizing: border-box;margin-bottom: 0.5em;}#sk-container-id-6 div.sk-estimator:hover {background-color: #d4ebff;}#sk-container-id-6 div.sk-parallel-item::after {content: \"\";width: 100%;border-bottom: 1px solid gray;flex-grow: 1;}#sk-container-id-6 div.sk-label:hover label.sk-toggleable__label {background-color: #d4ebff;}#sk-container-id-6 div.sk-serial::before {content: \"\";position: absolute;border-left: 1px solid gray;box-sizing: border-box;top: 0;bottom: 0;left: 50%;z-index: 0;}#sk-container-id-6 div.sk-serial {display: flex;flex-direction: column;align-items: center;background-color: white;padding-right: 0.2em;padding-left: 0.2em;position: relative;}#sk-container-id-6 div.sk-item {position: relative;z-index: 1;}#sk-container-id-6 div.sk-parallel {display: flex;align-items: stretch;justify-content: center;background-color: white;position: relative;}#sk-container-id-6 div.sk-item::before, #sk-container-id-6 div.sk-parallel-item::before {content: \"\";position: absolute;border-left: 1px solid gray;box-sizing: border-box;top: 0;bottom: 0;left: 50%;z-index: -1;}#sk-container-id-6 div.sk-parallel-item {display: flex;flex-direction: column;z-index: 1;position: relative;background-color: white;}#sk-container-id-6 div.sk-parallel-item:first-child::after {align-self: flex-end;width: 50%;}#sk-container-id-6 div.sk-parallel-item:last-child::after {align-self: flex-start;width: 50%;}#sk-container-id-6 div.sk-parallel-item:only-child::after {width: 0;}#sk-container-id-6 div.sk-dashed-wrapped {border: 1px dashed gray;margin: 0 0.4em 0.5em 0.4em;box-sizing: border-box;padding-bottom: 0.4em;background-color: white;}#sk-container-id-6 div.sk-label label {font-family: monospace;font-weight: bold;display: inline-block;line-height: 1.2em;}#sk-container-id-6 div.sk-label-container {text-align: center;}#sk-container-id-6 div.sk-container {/* jupyter's `normalize.less` sets `[hidden] { display: none; }` but bootstrap.min.css set `[hidden] { display: none !important; }` so we also need the `!important` here to be able to override the default hidden behavior on the sphinx rendered scikit-learn.org. See: https://github.com/scikit-learn/scikit-learn/issues/21755 */display: inline-block !important;position: relative;}#sk-container-id-6 div.sk-text-repr-fallback {display: none;}</style><div id=\"sk-container-id-6\" class=\"sk-top-container\"><div class=\"sk-text-repr-fallback\"><pre>RandomForestClassifier(n_estimators=20)</pre><b>In a Jupyter environment, please rerun this cell to show the HTML representation or trust the notebook. <br />On GitHub, the HTML representation is unable to render, please try loading this page with nbviewer.org.</b></div><div class=\"sk-container\" hidden><div class=\"sk-item\"><div class=\"sk-estimator sk-toggleable\"><input class=\"sk-toggleable__control sk-hidden--visually\" id=\"sk-estimator-id-6\" type=\"checkbox\" checked><label for=\"sk-estimator-id-6\" class=\"sk-toggleable__label sk-toggleable__label-arrow\">RandomForestClassifier</label><div class=\"sk-toggleable__content\"><pre>RandomForestClassifier(n_estimators=20)</pre></div></div></div></div></div>"
            ]
          },
          "metadata": {},
          "execution_count": 136
        }
      ]
    },
    {
      "cell_type": "code",
      "source": [
        "accuracy_rf=model_rf1.score(X_test1, y_test1)\n",
        "pred_rf=model_rf1.predict(X_test1)\n",
        "print(accuracy_rf)\n",
        "print(y_test1)"
      ],
      "metadata": {
        "id": "LEPJy0peb8sD",
        "colab": {
          "base_uri": "https://localhost:8080/"
        },
        "outputId": "21091ea9-54ff-4ed1-ec8e-919dc4c6c18a"
      },
      "execution_count": null,
      "outputs": [
        {
          "output_type": "stream",
          "name": "stdout",
          "text": [
            "0.92\n",
            "90     0\n",
            "254    0\n",
            "283    0\n",
            "445    0\n",
            "461    0\n",
            "      ..\n",
            "430    0\n",
            "49     0\n",
            "134    0\n",
            "365    0\n",
            "413    1\n",
            "Name: Preeclampsia(1)/NA(0), Length: 125, dtype: int64\n"
          ]
        }
      ]
    },
    {
      "cell_type": "code",
      "source": [
        "from sklearn.metrics import roc_auc_score, confusion_matrix\n",
        "\n",
        "auroc = roc_auc_score(y_test1, pred_rf)\n",
        "\n",
        "confusion = confusion_matrix(y_test1, pred_rf)\n",
        "\n",
        "# Extract true positives (TP), true negatives (TN), false positives (FP), and false negatives (FN)\n",
        "TN, FP, FN, TP = confusion.ravel()\n",
        "\n",
        "# Calculate Sensitivity (True Positive Rate or Recall)\n",
        "sensitivity = TP / (TP + FN)\n",
        "\n",
        "# Calculate Specificity\n",
        "specificity = TN / (TN + FP)\n",
        "\n",
        "# Calculate Positive Predictive Value (PPV)\n",
        "ppv = TP / (TP + FP)\n",
        "\n",
        "# Calculate Negative Predictive Value (NPV)\n",
        "npv = TN / (TN + FN)\n",
        "\n",
        "print(TN, FP, FN, TP)\n",
        "\n",
        "print(\"AUROC:\", auroc)\n",
        "print(\"Sensitivity (True Positive Rate or Recall):\", sensitivity)\n",
        "print(\"Specificity:\", specificity)\n",
        "print(\"Positive Predictive Value (PPV):\", ppv)\n",
        "print(\"Negative Predictive Value (NPV):\", npv)\n"
      ],
      "metadata": {
        "id": "TlP85FSxuw67",
        "colab": {
          "base_uri": "https://localhost:8080/"
        },
        "outputId": "bbeafe52-6e8b-40d8-f2be-b86a41732046"
      },
      "execution_count": null,
      "outputs": [
        {
          "output_type": "stream",
          "name": "stdout",
          "text": [
            "101 0 10 14\n",
            "AUROC: 0.7916666666666667\n",
            "Sensitivity (True Positive Rate or Recall): 0.5833333333333334\n",
            "Specificity: 1.0\n",
            "Positive Predictive Value (PPV): 1.0\n",
            "Negative Predictive Value (NPV): 0.9099099099099099\n"
          ]
        }
      ]
    },
    {
      "cell_type": "markdown",
      "source": [
        "Logistic Regression Model"
      ],
      "metadata": {
        "id": "IYmEJ2T0vuKF"
      }
    },
    {
      "cell_type": "code",
      "source": [
        "from sklearn.linear_model import LogisticRegression\n",
        "model_lr1 = LogisticRegression()\n",
        "model_lr1.fit(X_train1, y_train1)\n",
        "accuracy_lr=model_lr1.score(X_test1, y_test1)\n",
        "print(accuracy_lr)\n",
        "pred_lr=model_lr1.predict(X_test1)"
      ],
      "metadata": {
        "id": "h2WqaEXFb_nT",
        "colab": {
          "base_uri": "https://localhost:8080/"
        },
        "outputId": "47746d27-e11e-4b04-9021-1f81b8084486"
      },
      "execution_count": null,
      "outputs": [
        {
          "output_type": "stream",
          "name": "stdout",
          "text": [
            "0.824\n"
          ]
        },
        {
          "output_type": "stream",
          "name": "stderr",
          "text": [
            "/usr/local/lib/python3.10/dist-packages/sklearn/linear_model/_logistic.py:458: ConvergenceWarning: lbfgs failed to converge (status=1):\n",
            "STOP: TOTAL NO. of ITERATIONS REACHED LIMIT.\n",
            "\n",
            "Increase the number of iterations (max_iter) or scale the data as shown in:\n",
            "    https://scikit-learn.org/stable/modules/preprocessing.html\n",
            "Please also refer to the documentation for alternative solver options:\n",
            "    https://scikit-learn.org/stable/modules/linear_model.html#logistic-regression\n",
            "  n_iter_i = _check_optimize_result(\n"
          ]
        }
      ]
    },
    {
      "cell_type": "code",
      "source": [
        "from sklearn.metrics import roc_auc_score, confusion_matrix\n",
        "\n",
        "auroc = roc_auc_score(y_test1, pred_lr)\n",
        "\n",
        "confusion = confusion_matrix(y_test1, pred_lr)\n",
        "\n",
        "# Extract true positives (TP), true negatives (TN), false positives (FP), and false negatives (FN)\n",
        "TN, FP, FN, TP = confusion.ravel()\n",
        "\n",
        "# Calculate Sensitivity (True Positive Rate or Recall)\n",
        "sensitivity = TP / (TP + FN)\n",
        "\n",
        "# Calculate Specificity\n",
        "specificity = TN / (TN + FP)\n",
        "\n",
        "# Calculate Positive Predictive Value (PPV)\n",
        "ppv = TP / (TP + FP)\n",
        "\n",
        "# Calculate Negative Predictive Value (NPV)\n",
        "npv = TN / (TN + FN)\n",
        "\n",
        "print(TN, FP, FN, TP)\n",
        "\n",
        "print(\"AUROC:\", auroc)\n",
        "print(\"Sensitivity (True Positive Rate or Recall):\", sensitivity)\n",
        "print(\"Specificity:\", specificity)\n",
        "print(\"Positive Predictive Value (PPV):\", ppv)\n",
        "print(\"Negative Predictive Value (NPV):\", npv)\n"
      ],
      "metadata": {
        "id": "jodiMjT0u_bX",
        "colab": {
          "base_uri": "https://localhost:8080/"
        },
        "outputId": "64e52a0d-b437-4339-d369-ba4bdd52dfa8"
      },
      "execution_count": null,
      "outputs": [
        {
          "output_type": "stream",
          "name": "stdout",
          "text": [
            "98 3 19 5\n",
            "AUROC: 0.5893151815181518\n",
            "Sensitivity (True Positive Rate or Recall): 0.20833333333333334\n",
            "Specificity: 0.9702970297029703\n",
            "Positive Predictive Value (PPV): 0.625\n",
            "Negative Predictive Value (NPV): 0.8376068376068376\n"
          ]
        }
      ]
    },
    {
      "cell_type": "markdown",
      "source": [
        "SVM Model"
      ],
      "metadata": {
        "id": "5oRf7mGdvlbt"
      }
    },
    {
      "cell_type": "code",
      "source": [
        "from sklearn.svm import SVC\n",
        "model_svm1 = SVC()\n",
        "model_svm1.fit(X_train1, y_train1)\n",
        "accuracy_svm=model_svm1.score(X_test1, y_test1)"
      ],
      "metadata": {
        "id": "3ftY7fx-cYfn"
      },
      "execution_count": null,
      "outputs": []
    },
    {
      "cell_type": "code",
      "source": [
        "pred_sv=model_svm1.predict(X_test1)\n",
        "print(accuracy_svm)\n",
        "print(y_test1)"
      ],
      "metadata": {
        "id": "Vr7DR9CHv8AC",
        "colab": {
          "base_uri": "https://localhost:8080/"
        },
        "outputId": "9bfeee5e-7fc5-42a3-a0fa-28921dab0f88"
      },
      "execution_count": null,
      "outputs": [
        {
          "output_type": "stream",
          "name": "stdout",
          "text": [
            "0.848\n",
            "90     0\n",
            "254    0\n",
            "283    0\n",
            "445    0\n",
            "461    0\n",
            "      ..\n",
            "430    0\n",
            "49     0\n",
            "134    0\n",
            "365    0\n",
            "413    1\n",
            "Name: Preeclampsia(1)/NA(0), Length: 125, dtype: int64\n"
          ]
        }
      ]
    },
    {
      "cell_type": "code",
      "source": [
        "from sklearn.metrics import roc_auc_score, confusion_matrix\n",
        "\n",
        "auroc = roc_auc_score(y_test1, pred_sv)\n",
        "\n",
        "confusion = confusion_matrix(y_test1, pred_sv)\n",
        "\n",
        "TN, FP, FN, TP = confusion.ravel()\n",
        "\n",
        "# Calculate Sensitivity (True Positive Rate or Recall)\n",
        "sensitivity = TP / (TP + FN)\n",
        "\n",
        "# Calculate Specificity\n",
        "specificity = TN / (TN + FP)\n",
        "\n",
        "# Calculate Positive Predictive Value (PPV)\n",
        "ppv = TP / (TP + FP)\n",
        "\n",
        "# Calculate Negative Predictive Value (NPV)\n",
        "npv = TN / (TN + FN)\n",
        "\n",
        "print(TN, FP, FN, TP)\n",
        "\n",
        "print(\"AUROC:\", auroc)\n",
        "print(\"Sensitivity (True Positive Rate or Recall):\", sensitivity)\n",
        "print(\"Specificity:\", specificity)\n",
        "print(\"Positive Predictive Value (PPV):\", ppv)\n",
        "print(\"Negative Predictive Value (NPV):\", npv)\n"
      ],
      "metadata": {
        "id": "xZjMDXPZcumd",
        "colab": {
          "base_uri": "https://localhost:8080/"
        },
        "outputId": "69a8a2f4-b23d-4468-f164-4ff25a980574"
      },
      "execution_count": null,
      "outputs": [
        {
          "output_type": "stream",
          "name": "stdout",
          "text": [
            "101 0 19 5\n",
            "AUROC: 0.6041666666666666\n",
            "Sensitivity (True Positive Rate or Recall): 0.20833333333333334\n",
            "Specificity: 1.0\n",
            "Positive Predictive Value (PPV): 1.0\n",
            "Negative Predictive Value (NPV): 0.8416666666666667\n"
          ]
        }
      ]
    },
    {
      "cell_type": "code",
      "source": [
        "from sklearn.neighbors import KNeighborsClassifier\n",
        "from sklearn.metrics import accuracy_score\n",
        "\n",
        "knn_classifier = KNeighborsClassifier()\n",
        "\n",
        "# Fit the model to the training data\n",
        "knn_classifier.fit(X_train1, y_train1)\n",
        "\n",
        "# Evaluate the model on the test data\n",
        "pred_knn = knn_classifier.predict(X_test1)\n",
        "\n",
        "# Print the accuracy score\n",
        "accuracy_knn = accuracy_score(y_test1, pred_knn)\n",
        "print(f'KNN Accuracy: {accuracy_knn}')\n"
      ],
      "metadata": {
        "id": "lOgolp-LwJcj",
        "colab": {
          "base_uri": "https://localhost:8080/"
        },
        "outputId": "1da83dc7-37fc-4710-cb35-6a8d7da4ab59"
      },
      "execution_count": null,
      "outputs": [
        {
          "output_type": "stream",
          "name": "stdout",
          "text": [
            "KNN Accuracy: 0.92\n"
          ]
        }
      ]
    },
    {
      "cell_type": "code",
      "source": [
        "from sklearn.metrics import roc_auc_score, confusion_matrix\n",
        "\n",
        "\n",
        "auroc = roc_auc_score(y_test1, pred_knn)\n",
        "\n",
        "confusion = confusion_matrix(y_test1, pred_knn)\n",
        "\n",
        "TN, FP, FN, TP = confusion.ravel()\n",
        "\n",
        "# Calculate Sensitivity (True Positive Rate or Recall)\n",
        "sensitivity = TP / (TP + FN)\n",
        "\n",
        "# Calculate Specificity\n",
        "specificity = TN / (TN + FP)\n",
        "\n",
        "# Calculate Positive Predictive Value (PPV)\n",
        "ppv = TP / (TP + FP)\n",
        "\n",
        "# Calculate Negative Predictive Value (NPV)\n",
        "npv = TN / (TN + FN)\n",
        "\n",
        "print(TN, FP, FN, TP)\n",
        "\n",
        "print(\"AUROC:\", auroc)\n",
        "print(\"Sensitivity (True Positive Rate or Recall):\", sensitivity)\n",
        "print(\"Specificity:\", specificity)\n",
        "print(\"Positive Predictive Value (PPV):\", ppv)\n",
        "print(\"Negative Predictive Value (NPV):\", npv)\n"
      ],
      "metadata": {
        "colab": {
          "base_uri": "https://localhost:8080/"
        },
        "id": "79GBH9Y_w2-Z",
        "outputId": "4755273e-dbda-4ae7-c489-ed8b61a656d2"
      },
      "execution_count": null,
      "outputs": [
        {
          "output_type": "stream",
          "name": "stdout",
          "text": [
            "101 0 10 14\n",
            "AUROC: 0.7916666666666667\n",
            "Sensitivity (True Positive Rate or Recall): 0.5833333333333334\n",
            "Specificity: 1.0\n",
            "Positive Predictive Value (PPV): 1.0\n",
            "Negative Predictive Value (NPV): 0.9099099099099099\n"
          ]
        }
      ]
    },
    {
      "cell_type": "markdown",
      "source": [
        "XGBoost Model"
      ],
      "metadata": {
        "id": "yn8m3DXuO7Kr"
      }
    },
    {
      "cell_type": "code",
      "source": [
        "from sklearn.ensemble import GradientBoostingClassifier\n",
        "model_gb = GradientBoostingClassifier(n_estimators=50, learning_rate=1.0, max_depth=5, random_state=0)\n",
        "model_gb.fit(X_train1, y_train1)\n",
        "accuracy_gb = model_gb.score(X_test1, y_test1)\n",
        "print(accuracy_gb)"
      ],
      "metadata": {
        "colab": {
          "base_uri": "https://localhost:8080/"
        },
        "id": "guK9o1L0Gk2B",
        "outputId": "ead0de7a-d5f6-47aa-f804-23904fa37cb7"
      },
      "execution_count": null,
      "outputs": [
        {
          "output_type": "stream",
          "name": "stdout",
          "text": [
            "0.92\n"
          ]
        }
      ]
    },
    {
      "cell_type": "code",
      "source": [
        "from sklearn import tree\n",
        "model_dt1 = tree.DecisionTreeClassifier()\n",
        "model_dt1.fit(X_train1, y_train1)\n",
        "print(model_dt1.score(X_test1, y_test1))\n"
      ],
      "metadata": {
        "colab": {
          "base_uri": "https://localhost:8080/"
        },
        "id": "DDE1RG6vSWwe",
        "outputId": "0eb82f2e-5e5e-40f6-bb86-1a9d074d7cb3"
      },
      "execution_count": null,
      "outputs": [
        {
          "output_type": "stream",
          "name": "stdout",
          "text": [
            "0.92\n"
          ]
        }
      ]
    },
    {
      "cell_type": "code",
      "source": [
        "from sklearn.naive_bayes import GaussianNB\n",
        "from sklearn.metrics import accuracy_score\n",
        "\n",
        "# Initialize Gaussian Naive Bayes classifier\n",
        "gnb = GaussianNB()\n",
        "\n",
        "# Fit the model\n",
        "gnb.fit(X_train1, y_train1)\n",
        "\n",
        "# Predict on test set\n",
        "y_pred = gnb.predict(X_test1)\n",
        "\n",
        "# Calculate accuracy\n",
        "accuracy = accuracy_score(y_test1, y_pred)\n",
        "\n",
        "print(f\"Accuracy of Gaussian Naive Bayes: {accuracy:.4f}\")\n"
      ],
      "metadata": {
        "colab": {
          "base_uri": "https://localhost:8080/"
        },
        "id": "PosUfQlVSdXo",
        "outputId": "d2818c90-0c8a-4f3c-a298-2443bf923f97"
      },
      "execution_count": null,
      "outputs": [
        {
          "output_type": "stream",
          "name": "stdout",
          "text": [
            "Accuracy of Gaussian Naive Bayes: 0.5040\n"
          ]
        }
      ]
    },
    {
      "cell_type": "markdown",
      "source": [
        "Comapring silhouette score of DBSCAN before and after feature selection"
      ],
      "metadata": {
        "id": "7aUZCsf_PvB4"
      }
    },
    {
      "cell_type": "code",
      "source": [
        "from sklearn.cluster import DBSCAN\n",
        "import numpy as np\n",
        "import matplotlib.pyplot as plt\n",
        "\n",
        "# Assuming X_train is your training data\n",
        "# Initialize DBSCAN\n",
        "dbscan = DBSCAN(eps=0.5, min_samples=5)\n",
        "\n",
        "# Fit the DBSCAN model on the training data\n",
        "clusters = dbscan.fit_predict(X_train1)\n",
        "\n",
        "# Evaluate the clustering (optional)\n",
        "unique_clusters = np.unique(clusters)\n",
        "n_clusters = len(unique_clusters) - 1 if -1 in unique_clusters else len(unique_clusters)\n",
        "\n",
        "print(f\"Number of clusters: {n_clusters}\")\n"
      ],
      "metadata": {
        "colab": {
          "base_uri": "https://localhost:8080/"
        },
        "id": "ZECLPWAdJhxH",
        "outputId": "ca8b41d0-932d-4db9-f914-f376039d1c24"
      },
      "execution_count": null,
      "outputs": [
        {
          "output_type": "stream",
          "name": "stdout",
          "text": [
            "Number of clusters: 31\n"
          ]
        }
      ]
    },
    {
      "cell_type": "code",
      "source": [
        "from sklearn.metrics import silhouette_score\n",
        "\n",
        "# Compute the silhouette score\n",
        "silhouette_avg = silhouette_score(X_train1, clusters)\n",
        "\n",
        "print(f\"Silhouette Score: {silhouette_avg}\")\n"
      ],
      "metadata": {
        "colab": {
          "base_uri": "https://localhost:8080/"
        },
        "id": "r9zTGndrONl3",
        "outputId": "c66e4fa5-8fb0-41ff-cfe0-abf354e238a8"
      },
      "execution_count": null,
      "outputs": [
        {
          "output_type": "stream",
          "name": "stdout",
          "text": [
            "Silhouette Score: 0.5644993056573431\n"
          ]
        }
      ]
    },
    {
      "cell_type": "markdown",
      "source": [
        "Implementing Cross-Validation"
      ],
      "metadata": {
        "id": "pWBghb2wwjBD"
      }
    },
    {
      "cell_type": "code",
      "source": [
        "from sklearn.model_selection import cross_val_score\n",
        "from sklearn.ensemble import RandomForestClassifier\n",
        "\n",
        "model_rf = RandomForestClassifier(n_estimators=20)\n",
        "\n",
        "# Perform 5-fold cross-validation\n",
        "cross_val_scores = cross_val_score(model_rf, X_train1, y_train1, cv=5)\n",
        "\n",
        "# Print the cross-validation scores\n",
        "print(\"Cross-validation scores:\", cross_val_scores)\n",
        "\n",
        "print(f\"Mean accuracy: {cross_val_scores.mean():.2f}\")\n",
        "print(f\"Standard deviation: {cross_val_scores.std():.2f}\")\n"
      ],
      "metadata": {
        "colab": {
          "base_uri": "https://localhost:8080/"
        },
        "id": "1IFtCjSVugdL",
        "outputId": "fe1869e6-1599-44ac-e8b7-b1f1e0d1e390"
      },
      "execution_count": null,
      "outputs": [
        {
          "output_type": "stream",
          "name": "stdout",
          "text": [
            "Cross-validation scores: [0.88       0.96       0.88       0.90666667 0.96      ]\n",
            "Mean accuracy: 0.92\n",
            "Standard deviation: 0.04\n"
          ]
        }
      ]
    },
    {
      "cell_type": "code",
      "source": [
        "compare1 = pd.DataFrame({'Model': ['Random Forest','Logistic Regression',\n",
        "                                  'SVM', 'KNN','XGBooost'],\n",
        "                        'Accuracy': [accuracy_rf*100, accuracy_lr*100, accuracy_svm*100,\n",
        "                                     accuracy_knn*100,accuracy_gb*100]})\n",
        "fig = plt.figure(figsize = (10,5))\n",
        "plt.setp(plt.gca(), ylim=(70, 100))\n",
        "# plt.xlabel(\"Algorithms Implemented\")\n",
        "plt.ylabel(\"Accuracy\")\n",
        "plt.title(\"Model Accuracy\")\n",
        "\n",
        "plt.bar(compare1['Model'], compare1['Accuracy'], color ='deepskyblue',\n",
        "        width = 0.4)\n"
      ],
      "metadata": {
        "colab": {
          "base_uri": "https://localhost:8080/",
          "height": 485
        },
        "id": "HhTiNDivD6Ih",
        "outputId": "eba0dddd-2a6c-43c6-d35e-88ae0d88a8a0"
      },
      "execution_count": null,
      "outputs": [
        {
          "output_type": "execute_result",
          "data": {
            "text/plain": [
              "<BarContainer object of 5 artists>"
            ]
          },
          "metadata": {},
          "execution_count": 152
        },
        {
          "output_type": "display_data",
          "data": {
            "text/plain": [
              "<Figure size 1000x500 with 1 Axes>"
            ],
            "image/png": "[encoded data removed]"
          },
          "metadata": {}
        }
      ]
    },
    {
      "cell_type": "markdown",
      "source": [
        "**Summary Of Algorithms Implemented**"
      ],
      "metadata": {
        "id": "4gNIeDOtXu6z"
      }
    },
    {
      "cell_type": "markdown",
      "source": [
        "Algorithms Which have performed **better** after Feature Selection:\n",
        "\n",
        "SVM\n",
        "Naive Bayes\n",
        "XGBoost\n",
        "DBSCAN\n",
        "\n",
        "\n",
        "Algorithms Which have performed **same** after Feature Selection:\n",
        "\n",
        "Random Forest\n",
        "Decision Trees\n",
        "KNeighbours\n",
        "\n",
        "Algorithms Which have **NOT** performed same after Feature Selection:\n",
        "\n",
        "Logistic Regression"
      ],
      "metadata": {
        "id": "R5Sd5VY1SiO6"
      }
    },
    {
      "cell_type": "code",
      "source": [
        "import matplotlib.pyplot as plt\n",
        "import numpy as np\n",
        "\n",
        "models = ['SVM', 'Naive Bayes', 'Random Forest', 'DBSCAN', 'XGBoost']\n",
        "accuracies_before = [0.83, 0.41, 0.92,0.55,0.90]\n",
        "accuracies_after = [0.84, 0.50, 0.92, 0.56, 0.92]\n",
        "\n",
        "barWidth = 0.35\n",
        "\n",
        "r1 = np.arange(len(accuracies_before))\n",
        "r2 = [x + barWidth for x in r1]\n",
        "\n",
        "# Create the bar plot\n",
        "plt.figure(figsize=(12, 8))\n",
        "plt.bar(r1, accuracies_before, color='blue', width=barWidth, label='Before Feature Selection')\n",
        "plt.bar(r2, accuracies_after, color='orange', width=barWidth, label='After Feature Selection')\n",
        "\n",
        "plt.xlabel('Models', fontweight='bold')\n",
        "plt.ylabel('Accuracy', fontweight='bold')\n",
        "plt.xticks([r + barWidth/2 for r in range(len(accuracies_before))], models)\n",
        "plt.title('Comparison of Model Accuracies Before and After Feature Selection')\n",
        "plt.ylim(0.4, max(max(accuracies_before), max(accuracies_after)) + 0.05)\n",
        "\n",
        "plt.legend()\n",
        "plt.show()\n"
      ],
      "metadata": {
        "colab": {
          "base_uri": "https://localhost:8080/",
          "height": 718
        },
        "id": "_mJI5rU_T_hF",
        "outputId": "1de771fe-19a6-464d-9e51-8710fba26a88"
      },
      "execution_count": null,
      "outputs": [
        {
          "output_type": "display_data",
          "data": {
            "text/plain": [
              "<Figure size 1200x800 with 1 Axes>"
            ],
            "image/png": "[encoded data removed]"
          },
          "metadata": {}
        }
      ]
    },
    {
      "cell_type": "code",
      "source": [
        "import numpy as np\n",
        "import pandas as pd\n",
        "from scipy.stats import ttest_1samp\n",
        "\n",
        "population_mean = 0\n",
        "\n",
        "# Function to calculate p-value for each row\n",
        "def calculate_p_values(dataframe, population_mean):\n",
        "    p_values = []\n",
        "    for index, row in dataframe.iterrows():\n",
        "        # Exclude the first column which is not a continuous variable\n",
        "        row_data = row[1:]\n",
        "        # Perform a single sample t-test for the row\n",
        "        t_stat, p_value = ttest_1samp(row_data, population_mean)\n",
        "        p_values.append(p_value)\n",
        "    return p_values\n",
        "\n",
        "# Calculate p-values for each row\n",
        "p_values = calculate_p_values(df, population_mean)\n",
        "\n",
        "# Add p-values as a new column to the DataFrame\n",
        "df['p_value'] = p_values\n",
        "df.head()"
      ],
      "metadata": {
        "id": "QD3G8xX_T_yk",
        "colab": {
          "base_uri": "https://localhost:8080/",
          "height": 307
        },
        "outputId": "8f8a37d7-6a3f-4d89-fe5c-6f2a92ffc7b4"
      },
      "execution_count": null,
      "outputs": [
        {
          "output_type": "execute_result",
          "data": {
            "text/plain": [
              "   Preeclampsia(1)/NA(0)  Age  Weight before pregnancy  \\\n",
              "0                      0   26                     49.0   \n",
              "1                      0   29                     65.0   \n",
              "2                      1   23                     84.0   \n",
              "3                      0   27                     83.0   \n",
              "4                      0   25                     67.0   \n",
              "\n",
              "   Weight in late first trimester  BMI before pregnancy  \\\n",
              "0                            51.1                  23.2   \n",
              "1                            67.8                  25.0   \n",
              "2                            86.6                  33.2   \n",
              "3                            85.0                  33.2   \n",
              "4                            69.5                  26.8   \n",
              "\n",
              "   BMI in late first trimester  DBP in early pregnancy  \\\n",
              "0                         23.7                1.666667   \n",
              "1                         25.6                1.500000   \n",
              "2                         34.8                1.555556   \n",
              "3                         34.4                1.500000   \n",
              "4                         29.3                1.666667   \n",
              "\n",
              "   DBP in the late first trimester  SBP in early pregnancy  \\\n",
              "0                         1.571429                1.571429   \n",
              "1                         1.375000                1.500000   \n",
              "2                         1.400000                1.555556   \n",
              "3                         1.625000                1.500000   \n",
              "4                         1.666667                1.666667   \n",
              "\n",
              "   SBP  in the late first trimester  ...  F B-hCG (ng/ml)  Gravidity_n  \\\n",
              "0                          1.500000  ...            74.33            4   \n",
              "1                          1.571429  ...             9.69            4   \n",
              "2                          1.400000  ...           149.00            3   \n",
              "3                          1.625000  ...            74.33            9   \n",
              "4                          1.666667  ...            99.69            9   \n",
              "\n",
              "   Parity_n  Protein  Smoking  Alcohol  Hypertension  History of Preeclampsia  \\\n",
              "0         1        0        0        0             0                        0   \n",
              "1         1        0        0        0             0                        0   \n",
              "2         1        0        0        0             0                        0   \n",
              "3         0        0        0        0             0                        0   \n",
              "4         0        0        0        0             0                        0   \n",
              "\n",
              "   Diabetese   p_value  \n",
              "0          0  0.001684  \n",
              "1          0  0.002870  \n",
              "2          0  0.005956  \n",
              "3          0  0.002001  \n",
              "4          0  0.002071  \n",
              "\n",
              "[5 rows x 29 columns]"
            ],
            "text/html": [
              "\n",
              "  <div id=\"df-40a0b0af-42ae-4586-8c87-c32679f4a6c7\" class=\"colab-df-container\">\n",
              "    <div>\n",
              "<style scoped>\n",
              "    .dataframe tbody tr th:only-of-type {\n",
              "        vertical-align: middle;\n",
              "    }\n",
              "\n",
              "    .dataframe tbody tr th {\n",
              "        vertical-align: top;\n",
              "    }\n",
              "\n",
              "    .dataframe thead th {\n",
              "        text-align: right;\n",
              "    }\n",
              "</style>\n",
              "<table border=\"1\" class=\"dataframe\">\n",
              "  <thead>\n",
              "    <tr style=\"text-align: right;\">\n",
              "      <th></th>\n",
              "      <th>Preeclampsia(1)/NA(0)</th>\n",
              "      <th>Age</th>\n",
              "      <th>Weight before pregnancy</th>\n",
              "      <th>Weight in late first trimester</th>\n",
              "      <th>BMI before pregnancy</th>\n",
              "      <th>BMI in late first trimester</th>\n",
              "      <th>DBP in early pregnancy</th>\n",
              "      <th>DBP in the late first trimester</th>\n",
              "      <th>SBP in early pregnancy</th>\n",
              "      <th>SBP  in the late first trimester</th>\n",
              "      <th>...</th>\n",
              "      <th>F B-hCG (ng/ml)</th>\n",
              "      <th>Gravidity_n</th>\n",
              "      <th>Parity_n</th>\n",
              "      <th>Protein</th>\n",
              "      <th>Smoking</th>\n",
              "      <th>Alcohol</th>\n",
              "      <th>Hypertension</th>\n",
              "      <th>History of Preeclampsia</th>\n",
              "      <th>Diabetese</th>\n",
              "      <th>p_value</th>\n",
              "    </tr>\n",
              "  </thead>\n",
              "  <tbody>\n",
              "    <tr>\n",
              "      <th>0</th>\n",
              "      <td>0</td>\n",
              "      <td>26</td>\n",
              "      <td>49.0</td>\n",
              "      <td>51.1</td>\n",
              "      <td>23.2</td>\n",
              "      <td>23.7</td>\n",
              "      <td>1.666667</td>\n",
              "      <td>1.571429</td>\n",
              "      <td>1.571429</td>\n",
              "      <td>1.500000</td>\n",
              "      <td>...</td>\n",
              "      <td>74.33</td>\n",
              "      <td>4</td>\n",
              "      <td>1</td>\n",
              "      <td>0</td>\n",
              "      <td>0</td>\n",
              "      <td>0</td>\n",
              "      <td>0</td>\n",
              "      <td>0</td>\n",
              "      <td>0</td>\n",
              "      <td>0.001684</td>\n",
              "    </tr>\n",
              "    <tr>\n",
              "      <th>1</th>\n",
              "      <td>0</td>\n",
              "      <td>29</td>\n",
              "      <td>65.0</td>\n",
              "      <td>67.8</td>\n",
              "      <td>25.0</td>\n",
              "      <td>25.6</td>\n",
              "      <td>1.500000</td>\n",
              "      <td>1.375000</td>\n",
              "      <td>1.500000</td>\n",
              "      <td>1.571429</td>\n",
              "      <td>...</td>\n",
              "      <td>9.69</td>\n",
              "      <td>4</td>\n",
              "      <td>1</td>\n",
              "      <td>0</td>\n",
              "      <td>0</td>\n",
              "      <td>0</td>\n",
              "      <td>0</td>\n",
              "      <td>0</td>\n",
              "      <td>0</td>\n",
              "      <td>0.002870</td>\n",
              "    </tr>\n",
              "    <tr>\n",
              "      <th>2</th>\n",
              "      <td>1</td>\n",
              "      <td>23</td>\n",
              "      <td>84.0</td>\n",
              "      <td>86.6</td>\n",
              "      <td>33.2</td>\n",
              "      <td>34.8</td>\n",
              "      <td>1.555556</td>\n",
              "      <td>1.400000</td>\n",
              "      <td>1.555556</td>\n",
              "      <td>1.400000</td>\n",
              "      <td>...</td>\n",
              "      <td>149.00</td>\n",
              "      <td>3</td>\n",
              "      <td>1</td>\n",
              "      <td>0</td>\n",
              "      <td>0</td>\n",
              "      <td>0</td>\n",
              "      <td>0</td>\n",
              "      <td>0</td>\n",
              "      <td>0</td>\n",
              "      <td>0.005956</td>\n",
              "    </tr>\n",
              "    <tr>\n",
              "      <th>3</th>\n",
              "      <td>0</td>\n",
              "      <td>27</td>\n",
              "      <td>83.0</td>\n",
              "      <td>85.0</td>\n",
              "      <td>33.2</td>\n",
              "      <td>34.4</td>\n",
              "      <td>1.500000</td>\n",
              "      <td>1.625000</td>\n",
              "      <td>1.500000</td>\n",
              "      <td>1.625000</td>\n",
              "      <td>...</td>\n",
              "      <td>74.33</td>\n",
              "      <td>9</td>\n",
              "      <td>0</td>\n",
              "      <td>0</td>\n",
              "      <td>0</td>\n",
              "      <td>0</td>\n",
              "      <td>0</td>\n",
              "      <td>0</td>\n",
              "      <td>0</td>\n",
              "      <td>0.002001</td>\n",
              "    </tr>\n",
              "    <tr>\n",
              "      <th>4</th>\n",
              "      <td>0</td>\n",
              "      <td>25</td>\n",
              "      <td>67.0</td>\n",
              "      <td>69.5</td>\n",
              "      <td>26.8</td>\n",
              "      <td>29.3</td>\n",
              "      <td>1.666667</td>\n",
              "      <td>1.666667</td>\n",
              "      <td>1.666667</td>\n",
              "      <td>1.666667</td>\n",
              "      <td>...</td>\n",
              "      <td>99.69</td>\n",
              "      <td>9</td>\n",
              "      <td>0</td>\n",
              "      <td>0</td>\n",
              "      <td>0</td>\n",
              "      <td>0</td>\n",
              "      <td>0</td>\n",
              "      <td>0</td>\n",
              "      <td>0</td>\n",
              "      <td>0.002071</td>\n",
              "    </tr>\n",
              "  </tbody>\n",
              "</table>\n",
              "<p>5 rows × 29 columns</p>\n",
              "</div>\n",
              "    <div class=\"colab-df-buttons\">\n",
              "\n",
              "  <div class=\"colab-df-container\">\n",
              "    <button class=\"colab-df-convert\" onclick=\"convertToInteractive('df-40a0b0af-42ae-4586-8c87-c32679f4a6c7')\"\n",
              "            title=\"Convert this dataframe to an interactive table.\"\n",
              "            style=\"display:none;\">\n",
              "\n",
              "  <svg xmlns=\"http://www.w3.org/2000/svg\" height=\"24px\" viewBox=\"0 -960 960 960\">\n",
              "    <path d=\"M120-120v-720h720v720H120Zm60-500h600v-160H180v160Zm220 220h160v-160H400v160Zm0 220h160v-160H400v160ZM180-400h160v-160H180v160Zm440 0h160v-160H620v160ZM180-180h160v-160H180v160Zm440 0h160v-160H620v160Z\"/>\n",
              "  </svg>\n",
              "    </button>\n",
              "\n",
              "  <style>\n",
              "    .colab-df-container {\n",
              "      display:flex;\n",
              "      gap: 12px;\n",
              "    }\n",
              "\n",
              "    .colab-df-convert {\n",
              "      background-color: #E8F0FE;\n",
              "      border: none;\n",
              "      border-radius: 50%;\n",
              "      cursor: pointer;\n",
              "      display: none;\n",
              "      fill: #1967D2;\n",
              "      height: 32px;\n",
              "      padding: 0 0 0 0;\n",
              "      width: 32px;\n",
              "    }\n",
              "\n",
              "    .colab-df-convert:hover {\n",
              "      background-color: #E2EBFA;\n",
              "      box-shadow: 0px 1px 2px rgba(60, 64, 67, 0.3), 0px 1px 3px 1px rgba(60, 64, 67, 0.15);\n",
              "      fill: #174EA6;\n",
              "    }\n",
              "\n",
              "    .colab-df-buttons div {\n",
              "      margin-bottom: 4px;\n",
              "    }\n",
              "\n",
              "    [theme=dark] .colab-df-convert {\n",
              "      background-color: #3B4455;\n",
              "      fill: #D2E3FC;\n",
              "    }\n",
              "\n",
              "    [theme=dark] .colab-df-convert:hover {\n",
              "      background-color: #434B5C;\n",
              "      box-shadow: 0px 1px 3px 1px rgba(0, 0, 0, 0.15);\n",
              "      filter: drop-shadow(0px 1px 2px rgba(0, 0, 0, 0.3));\n",
              "      fill: #FFFFFF;\n",
              "    }\n",
              "  </style>\n",
              "\n",
              "    <script>\n",
              "      const buttonEl =\n",
              "        document.querySelector('#df-40a0b0af-42ae-4586-8c87-c32679f4a6c7 button.colab-df-convert');\n",
              "      buttonEl.style.display =\n",
              "        google.colab.kernel.accessAllowed ? 'block' : 'none';\n",
              "\n",
              "      async function convertToInteractive(key) {\n",
              "        const element = document.querySelector('#df-40a0b0af-42ae-4586-8c87-c32679f4a6c7');\n",
              "        const dataTable =\n",
              "          await google.colab.kernel.invokeFunction('convertToInteractive',\n",
              "                                                    [key], {});\n",
              "        if (!dataTable) return;\n",
              "\n",
              "        const docLinkHtml = 'Like what you see? Visit the ' +\n",
              "          '<a target=\"_blank\" href=https://colab.research.google.com/notebooks/data_table.ipynb>data table notebook</a>'\n",
              "          + ' to learn more about interactive tables.';\n",
              "        element.innerHTML = '';\n",
              "        dataTable['output_type'] = 'display_data';\n",
              "        await google.colab.output.renderOutput(dataTable, element);\n",
              "        const docLink = document.createElement('div');\n",
              "        docLink.innerHTML = docLinkHtml;\n",
              "        element.appendChild(docLink);\n",
              "      }\n",
              "    </script>\n",
              "  </div>\n",
              "\n",
              "\n",
              "<div id=\"df-10c17c38-8b86-47ef-b20e-0d629ae59b9c\">\n",
              "  <button class=\"colab-df-quickchart\" onclick=\"quickchart('df-10c17c38-8b86-47ef-b20e-0d629ae59b9c')\"\n",
              "            title=\"Suggest charts\"\n",
              "            style=\"display:none;\">\n",
              "\n",
              "<svg xmlns=\"http://www.w3.org/2000/svg\" height=\"24px\"viewBox=\"0 0 24 24\"\n",
              "     width=\"24px\">\n",
              "    <g>\n",
              "        <path d=\"M19 3H5c-1.1 0-2 .9-2 2v14c0 1.1.9 2 2 2h14c1.1 0 2-.9 2-2V5c0-1.1-.9-2-2-2zM9 17H7v-7h2v7zm4 0h-2V7h2v10zm4 0h-2v-4h2v4z\"/>\n",
              "    </g>\n",
              "</svg>\n",
              "  </button>\n",
              "\n",
              "<style>\n",
              "  .colab-df-quickchart {\n",
              "      --bg-color: #E8F0FE;\n",
              "      --fill-color: #1967D2;\n",
              "      --hover-bg-color: #E2EBFA;\n",
              "      --hover-fill-color: #174EA6;\n",
              "      --disabled-fill-color: #AAA;\n",
              "      --disabled-bg-color: #DDD;\n",
              "  }\n",
              "\n",
              "  [theme=dark] .colab-df-quickchart {\n",
              "      --bg-color: #3B4455;\n",
              "      --fill-color: #D2E3FC;\n",
              "      --hover-bg-color: #434B5C;\n",
              "      --hover-fill-color: #FFFFFF;\n",
              "      --disabled-bg-color: #3B4455;\n",
              "      --disabled-fill-color: #666;\n",
              "  }\n",
              "\n",
              "  .colab-df-quickchart {\n",
              "    background-color: var(--bg-color);\n",
              "    border: none;\n",
              "    border-radius: 50%;\n",
              "    cursor: pointer;\n",
              "    display: none;\n",
              "    fill: var(--fill-color);\n",
              "    height: 32px;\n",
              "    padding: 0;\n",
              "    width: 32px;\n",
              "  }\n",
              "\n",
              "  .colab-df-quickchart:hover {\n",
              "    background-color: var(--hover-bg-color);\n",
              "    box-shadow: 0 1px 2px rgba(60, 64, 67, 0.3), 0 1px 3px 1px rgba(60, 64, 67, 0.15);\n",
              "    fill: var(--button-hover-fill-color);\n",
              "  }\n",
              "\n",
              "  .colab-df-quickchart-complete:disabled,\n",
              "  .colab-df-quickchart-complete:disabled:hover {\n",
              "    background-color: var(--disabled-bg-color);\n",
              "    fill: var(--disabled-fill-color);\n",
              "    box-shadow: none;\n",
              "  }\n",
              "\n",
              "  .colab-df-spinner {\n",
              "    border: 2px solid var(--fill-color);\n",
              "    border-color: transparent;\n",
              "    border-bottom-color: var(--fill-color);\n",
              "    animation:\n",
              "      spin 1s steps(1) infinite;\n",
              "  }\n",
              "\n",
              "  @keyframes spin {\n",
              "    0% {\n",
              "      border-color: transparent;\n",
              "      border-bottom-color: var(--fill-color);\n",
              "      border-left-color: var(--fill-color);\n",
              "    }\n",
              "    20% {\n",
              "      border-color: transparent;\n",
              "      border-left-color: var(--fill-color);\n",
              "      border-top-color: var(--fill-color);\n",
              "    }\n",
              "    30% {\n",
              "      border-color: transparent;\n",
              "      border-left-color: var(--fill-color);\n",
              "      border-top-color: var(--fill-color);\n",
              "      border-right-color: var(--fill-color);\n",
              "    }\n",
              "    40% {\n",
              "      border-color: transparent;\n",
              "      border-right-color: var(--fill-color);\n",
              "      border-top-color: var(--fill-color);\n",
              "    }\n",
              "    60% {\n",
              "      border-color: transparent;\n",
              "      border-right-color: var(--fill-color);\n",
              "    }\n",
              "    80% {\n",
              "      border-color: transparent;\n",
              "      border-right-color: var(--fill-color);\n",
              "      border-bottom-color: var(--fill-color);\n",
              "    }\n",
              "    90% {\n",
              "      border-color: transparent;\n",
              "      border-bottom-color: var(--fill-color);\n",
              "    }\n",
              "  }\n",
              "</style>\n",
              "\n",
              "  <script>\n",
              "    async function quickchart(key) {\n",
              "      const quickchartButtonEl =\n",
              "        document.querySelector('#' + key + ' button');\n",
              "      quickchartButtonEl.disabled = true;  // To prevent multiple clicks.\n",
              "      quickchartButtonEl.classList.add('colab-df-spinner');\n",
              "      try {\n",
              "        const charts = await google.colab.kernel.invokeFunction(\n",
              "            'suggestCharts', [key], {});\n",
              "      } catch (error) {\n",
              "        console.error('Error during call to suggestCharts:', error);\n",
              "      }\n",
              "      quickchartButtonEl.classList.remove('colab-df-spinner');\n",
              "      quickchartButtonEl.classList.add('colab-df-quickchart-complete');\n",
              "    }\n",
              "    (() => {\n",
              "      let quickchartButtonEl =\n",
              "        document.querySelector('#df-10c17c38-8b86-47ef-b20e-0d629ae59b9c button');\n",
              "      quickchartButtonEl.style.display =\n",
              "        google.colab.kernel.accessAllowed ? 'block' : 'none';\n",
              "    })();\n",
              "  </script>\n",
              "</div>\n",
              "\n",
              "    </div>\n",
              "  </div>\n"
            ],
            "application/vnd.google.colaboratory.intrinsic+json": {
              "type": "dataframe",
              "variable_name": "df"
            }
          },
          "metadata": {},
          "execution_count": 154
        }
      ]
    },
    {
      "cell_type": "code",
      "source": [
        "average_p_value = df['p_value'].mean()\n",
        "\n",
        "print(f'Average p-value: {average_p_value}')"
      ],
      "metadata": {
        "id": "hii-R57sLHks",
        "colab": {
          "base_uri": "https://localhost:8080/"
        },
        "outputId": "83e80f7e-200d-4c6f-ea8b-16fc7f8a19d4"
      },
      "execution_count": null,
      "outputs": [
        {
          "output_type": "stream",
          "name": "stdout",
          "text": [
            "Average p-value: 0.002652076352688951\n"
          ]
        }
      ]
    },
    {
      "cell_type": "code",
      "source": [
        "df.info()"
      ],
      "metadata": {
        "colab": {
          "base_uri": "https://localhost:8080/"
        },
        "id": "ZrBTZBqvytAf",
        "outputId": "665d570d-b971-4dae-e2d1-1647d92adf4e"
      },
      "execution_count": null,
      "outputs": [
        {
          "output_type": "stream",
          "name": "stdout",
          "text": [
            "<class 'pandas.core.frame.DataFrame'>\n",
            "RangeIndex: 500 entries, 0 to 499\n",
            "Data columns (total 29 columns):\n",
            " #   Column                                                      Non-Null Count  Dtype  \n",
            "---  ------                                                      --------------  -----  \n",
            " 0   Preeclampsia(1)/NA(0)                                       500 non-null    int64  \n",
            " 1   Age                                                         500 non-null    int64  \n",
            " 2   Weight before pregnancy                                     500 non-null    float64\n",
            " 3   Weight in late first trimester                              500 non-null    float64\n",
            " 4   BMI before pregnancy                                        500 non-null    float64\n",
            " 5   BMI in late first trimester                                 500 non-null    float64\n",
            " 6   DBP in early pregnancy                                      500 non-null    float64\n",
            " 7   DBP in the late first trimester                             500 non-null    float64\n",
            " 8   SBP in early pregnancy                                      500 non-null    float64\n",
            " 9   SBP  in the late first trimester                            500 non-null    float64\n",
            " 10  Hemoglobin level measured in the first trimester            500 non-null    float64\n",
            " 11  Hemoglobin level measured in the second or third trimester  500 non-null    float64\n",
            " 12  MAP                                                         500 non-null    float64\n",
            " 13  CRL                                                         500 non-null    float64\n",
            " 14  NT                                                          500 non-null    float64\n",
            " 15  BPD                                                         500 non-null    float64\n",
            " 16  PI-R                                                        500 non-null    float64\n",
            " 17  PI-L                                                        500 non-null    float64\n",
            " 18  PAPP-A(mlU/ml)                                              500 non-null    float64\n",
            " 19  F B-hCG (ng/ml)                                             500 non-null    float64\n",
            " 20  Gravidity_n                                                 500 non-null    int64  \n",
            " 21  Parity_n                                                    500 non-null    int64  \n",
            " 22  Protein                                                     500 non-null    int64  \n",
            " 23  Smoking                                                     500 non-null    int64  \n",
            " 24  Alcohol                                                     500 non-null    int64  \n",
            " 25  Hypertension                                                500 non-null    int64  \n",
            " 26  History of Preeclampsia                                     500 non-null    int64  \n",
            " 27  Diabetese                                                   500 non-null    int64  \n",
            " 28  p_value                                                     500 non-null    float64\n",
            "dtypes: float64(19), int64(10)\n",
            "memory usage: 113.4 KB\n"
          ]
        }
      ]
    },
    {
      "cell_type": "code",
      "source": [
        "average_age = df['Age'].mean()\n",
        "average_weight_before_pregnancy = df['Weight before pregnancy'].mean()\n",
        "average_weight_in_late_first_trimester = df['Weight in late first trimester'].mean()\n",
        "average_bmi_before_pregnancy = df['BMI before pregnancy'].mean()\n",
        "average_bmi_in_late_first_trimester = df['BMI in late first trimester'].mean()\n",
        "average_dbp_early = df['DBP in early pregnancy'].mean()\n",
        "average_dbp_late = df['DBP in the late first trimester'].mean()\n",
        "average_sbp_early = df['SBP in early pregnancy'].mean()\n",
        "average_sbp_late = df['SBP  in the late first trimester'].mean()\n",
        "average_f_bhcg = df['F B-hCG (ng/ml)'].mean()\n",
        "average_hemoglobin_first_trimester = df['Hemoglobin level measured in the first trimester'].mean()\n",
        "average_hemoglobin_second_third_trimester = df['Hemoglobin level measured in the second or third trimester'].mean()\n",
        "average_papp_a = df['PAPP-A(mlU/ml)'].mean()\n",
        "\n",
        "print(f'Average p-value: {average_p_value}')\n",
        "print(f'Average Age: {average_age}')\n",
        "print(f'Average Weight before pregnancy: {average_weight_before_pregnancy}')\n",
        "print(f'Average Weight in late first trimester: {average_weight_in_late_first_trimester}')\n",
        "print(f'Average BMI before pregnancy: {average_bmi_before_pregnancy}')\n",
        "print(f'Average BMI in late first trimester: {average_bmi_in_late_first_trimester}')\n",
        "print(f'Average DBP in early pregnancy: {average_dbp_early}')\n",
        "print(f'Average DBP in the late first trimester: {average_dbp_late}')\n",
        "print(f'Average SBP in early pregnancy: {average_sbp_early}')\n",
        "print(f'Average SBP in the late first trimester: {average_sbp_late}')\n",
        "print(f'Average F B-hCG (ng/ml): {average_f_bhcg}')\n",
        "print(f'Average Hemoglobin in first trimester: {average_hemoglobin_first_trimester}')\n",
        "print(f'Average Hemoglobin in second or third trimester: {average_hemoglobin_second_third_trimester}')\n",
        "print(f'Average PAPP-A(mlU/ml): {average_papp_a}')"
      ],
      "metadata": {
        "colab": {
          "base_uri": "https://localhost:8080/"
        },
        "id": "ZNRpDZZTw78Z",
        "outputId": "443c61e0-a869-4d3b-9e14-f57c862cf607"
      },
      "execution_count": null,
      "outputs": [
        {
          "output_type": "stream",
          "name": "stdout",
          "text": [
            "Average p-value: 0.002652076352688951\n",
            "Average Age: 29.036\n",
            "Average Weight before pregnancy: 61.447399999999995\n",
            "Average Weight in late first trimester: 62.8586\n",
            "Average BMI before pregnancy: 25.610400000000002\n",
            "Average BMI in late first trimester: 25.992800000000003\n",
            "Average DBP in early pregnancy: 1.557198138986\n",
            "Average DBP in the late first trimester: 1.5488534391159998\n",
            "Average SBP in early pregnancy: 1.554960043718\n",
            "Average SBP in the late first trimester: 1.552210581968\n",
            "Average F B-hCG (ng/ml): 59.958102\n",
            "Average Hemoglobin in first trimester: 12.1802\n",
            "Average Hemoglobin in second or third trimester: 15.7626\n",
            "Average PAPP-A(mlU/ml): 4.468406\n"
          ]
        }
      ]
    },
    {
      "cell_type": "code",
      "source": [],
      "metadata": {
        "id": "CBaZN4L-x39e"
      },
      "execution_count": null,
      "outputs": []
    },
    {
      "cell_type": "code",
      "source": [
        "import pandas as pd\n",
        "import numpy as np\n",
        "from scipy.stats import ttest_ind, chi2_contingency, fisher_exact\n",
        "\n",
        "\n",
        "# Define function to calculate p-values\n",
        "def calculate_p_values(data):\n",
        "    results = {}\n",
        "    htn_group = data[data['Preeclampsia(1)/NA(0)'] == 1]\n",
        "    no_htn_group = data[data['Preeclampsia(1)/NA(0)'] == 0]\n",
        "\n",
        "    # Continuous variables\n",
        "    continuous_vars = ['Age', 'Weight before pregnancy', 'Weight in late first trimester', 'BMI before pregnancy',\n",
        "                       'BMI in late first trimester', 'DBP in early pregnancy', 'DBP in the late first trimester',\n",
        "                       'SBP in early pregnancy', 'SBP  in the late first trimester', 'PAPP-A(mlU/ml)', 'F B-hCG (ng/ml)']\n",
        "\n",
        "    for var in continuous_vars:\n",
        "        stat, p_value = ttest_ind(htn_group[var].dropna(), no_htn_group[var].dropna())\n",
        "        results[var] = p_value\n",
        "\n",
        "    # Categorical variables\n",
        "    categorical_vars = ['Diabetese']\n",
        "\n",
        "    for var in categorical_vars:\n",
        "        contingency_table = pd.crosstab(data['Preeclampsia(1)/NA(0)'], data[var])\n",
        "        if contingency_table.shape == (2, 2):\n",
        "            _, p_value = fisher_exact(contingency_table)\n",
        "        else:\n",
        "            _, p_value, _, _ = chi2_contingency(contingency_table)\n",
        "        results[var] = p_value\n",
        "\n",
        "    return results\n",
        "\n",
        "# Calculate p-values\n",
        "p_values = calculate_p_values(df)\n",
        "\n",
        "# Print the results\n",
        "for var, p_val in p_values.items():\n",
        "    print(f'{var}: p-value = {p_val:.4f}')\n"
      ],
      "metadata": {
        "colab": {
          "base_uri": "https://localhost:8080/"
        },
        "id": "BRIsUJnv25UW",
        "outputId": "6f9d600f-b148-414a-b9c9-1c8416c3f712"
      },
      "execution_count": null,
      "outputs": [
        {
          "output_type": "stream",
          "name": "stdout",
          "text": [
            "Age: p-value = 0.0000\n",
            "Weight before pregnancy: p-value = 0.1215\n",
            "Weight in late first trimester: p-value = 0.0946\n",
            "BMI before pregnancy: p-value = 0.0535\n",
            "BMI in late first trimester: p-value = 0.0210\n",
            "DBP in early pregnancy: p-value = 0.0001\n",
            "DBP in the late first trimester: p-value = 0.0000\n",
            "SBP in early pregnancy: p-value = 0.0001\n",
            "SBP  in the late first trimester: p-value = 0.0000\n",
            "PAPP-A(mlU/ml): p-value = 0.2098\n",
            "F B-hCG (ng/ml): p-value = 0.0006\n",
            "Diabetese: p-value = 1.0000\n"
          ]
        }
      ]
    },
    {
      "cell_type": "code",
      "source": [],
      "metadata": {
        "id": "7MFbxtgF4adN"
      },
      "execution_count": null,
      "outputs": []
    }
  ]
}